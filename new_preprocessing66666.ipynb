{
 "cells": [
  {
   "cell_type": "code",
   "execution_count": 1,
   "metadata": {
    "collapsed": true
   },
   "outputs": [],
   "source": [
    "import pandas as pd\n",
    "\n",
    "import numpy as np\n",
    "\n",
    "import seaborn as sns\n",
    "\n",
    "%matplotlib inline\n",
    "import matplotlib.pyplot as plt\n",
    "from matplotlib import cm\n",
    "\n",
    "import datetime\n",
    "import calendar\n",
    "\n",
    "from IPython.display import Image"
   ]
  },
  {
   "cell_type": "code",
   "execution_count": 2,
   "metadata": {
    "collapsed": true
   },
   "outputs": [],
   "source": [
    "pd.set_option(\"display.max_columns\",100)\n",
    "pd.set_option(\"display.max_rows\",400)"
   ]
  },
  {
   "cell_type": "code",
   "execution_count": 8,
   "metadata": {
    "scrolled": true
   },
   "outputs": [
    {
     "name": "stderr",
     "output_type": "stream",
     "text": [
      "/Users/mengruiyin/.local/lib/python2.7/site-packages/IPython/core/interactiveshell.py:2718: DtypeWarning: Columns (5,8,11,15) have mixed types. Specify dtype option on import or set low_memory=False.\n",
      "  interactivity=interactivity, compiler=compiler, result=result)\n"
     ]
    }
   ],
   "source": [
    "train = pd.read_csv('/Users/mengruiyin/Dropbox/project2/train_ver2.csv')"
   ]
  },
  {
   "cell_type": "code",
   "execution_count": 101,
   "metadata": {
    "collapsed": true,
    "scrolled": false
   },
   "outputs": [],
   "source": [
    "train = pd.read_csv('/Users/mengruiyin/Dropbox/project2/train_ver2.csv')\n",
    "test = pd.read_csv('/Users/mengruiyin/Dropbox/project2/test_ver2.csv')"
   ]
  },
  {
   "cell_type": "code",
   "execution_count": 102,
   "metadata": {},
   "outputs": [
    {
     "data": {
      "text/plain": [
       "(13647309, 48)"
      ]
     },
     "execution_count": 102,
     "metadata": {},
     "output_type": "execute_result"
    }
   ],
   "source": [
    "train.shape"
   ]
  },
  {
   "cell_type": "code",
   "execution_count": 103,
   "metadata": {},
   "outputs": [
    {
     "data": {
      "text/plain": [
       "(929615, 24)"
      ]
     },
     "execution_count": 103,
     "metadata": {},
     "output_type": "execute_result"
    }
   ],
   "source": [
    "test.shape"
   ]
  },
  {
   "cell_type": "code",
   "execution_count": 104,
   "metadata": {
    "scrolled": false
   },
   "outputs": [
    {
     "data": {
      "text/html": [
       "<div>\n",
       "<style scoped>\n",
       "    .dataframe tbody tr th:only-of-type {\n",
       "        vertical-align: middle;\n",
       "    }\n",
       "\n",
       "    .dataframe tbody tr th {\n",
       "        vertical-align: top;\n",
       "    }\n",
       "\n",
       "    .dataframe thead th {\n",
       "        text-align: right;\n",
       "    }\n",
       "</style>\n",
       "<table border=\"1\" class=\"dataframe\">\n",
       "  <thead>\n",
       "    <tr style=\"text-align: right;\">\n",
       "      <th></th>\n",
       "      <th>ncodpers</th>\n",
       "    </tr>\n",
       "  </thead>\n",
       "  <tbody>\n",
       "  </tbody>\n",
       "</table>\n",
       "</div>"
      ],
      "text/plain": [
       "Empty DataFrame\n",
       "Columns: [ncodpers]\n",
       "Index: []"
      ]
     },
     "execution_count": 104,
     "metadata": {},
     "output_type": "execute_result"
    }
   ],
   "source": [
    "test_id_check = pd.DataFrame(test.ncodpers.isin(train.ncodpers))\n",
    "test_id_check.loc[test_id_check['ncodpers'] == False]"
   ]
  },
  {
   "cell_type": "markdown",
   "metadata": {},
   "source": [
    "##### all customers in testing data have records in training set. "
   ]
  },
  {
   "cell_type": "code",
   "execution_count": 105,
   "metadata": {
    "collapsed": true
   },
   "outputs": [],
   "source": [
    "train.fecha_dato = pd.to_datetime(train.fecha_dato, format=\"%Y-%m-%d\")\n",
    "train.fecha_alta = pd.to_datetime(train.fecha_alta, format=\"%Y-%m-%d\")\n",
    "train.ult_fec_cli_1t = pd.to_datetime(train.ult_fec_cli_1t, format=\"%Y-%m-%d\")\n",
    "test.fecha_dato = pd.to_datetime(test.fecha_dato, format=\"%Y-%m-%d\")\n",
    "test.fecha_alta = pd.to_datetime(test.fecha_alta, format=\"%Y-%m-%d\")\n",
    "test.ult_fec_cli_1t = pd.to_datetime(test.ult_fec_cli_1t, format=\"%Y-%m-%d\")"
   ]
  },
  {
   "cell_type": "code",
   "execution_count": 106,
   "metadata": {},
   "outputs": [
    {
     "data": {
      "text/html": [
       "<div>\n",
       "<style scoped>\n",
       "    .dataframe tbody tr th:only-of-type {\n",
       "        vertical-align: middle;\n",
       "    }\n",
       "\n",
       "    .dataframe tbody tr th {\n",
       "        vertical-align: top;\n",
       "    }\n",
       "\n",
       "    .dataframe thead th {\n",
       "        text-align: right;\n",
       "    }\n",
       "</style>\n",
       "<table border=\"1\" class=\"dataframe\">\n",
       "  <thead>\n",
       "    <tr style=\"text-align: right;\">\n",
       "      <th></th>\n",
       "      <th>ncodpers</th>\n",
       "      <th>ind_nuevo</th>\n",
       "      <th>indrel</th>\n",
       "      <th>tipodom</th>\n",
       "      <th>cod_prov</th>\n",
       "      <th>ind_actividad_cliente</th>\n",
       "      <th>renta</th>\n",
       "      <th>ind_ahor_fin_ult1</th>\n",
       "      <th>ind_aval_fin_ult1</th>\n",
       "      <th>ind_cco_fin_ult1</th>\n",
       "      <th>ind_cder_fin_ult1</th>\n",
       "      <th>ind_cno_fin_ult1</th>\n",
       "      <th>ind_ctju_fin_ult1</th>\n",
       "      <th>ind_ctma_fin_ult1</th>\n",
       "      <th>ind_ctop_fin_ult1</th>\n",
       "      <th>ind_ctpp_fin_ult1</th>\n",
       "      <th>ind_deco_fin_ult1</th>\n",
       "      <th>ind_deme_fin_ult1</th>\n",
       "      <th>ind_dela_fin_ult1</th>\n",
       "      <th>ind_ecue_fin_ult1</th>\n",
       "      <th>ind_fond_fin_ult1</th>\n",
       "      <th>ind_hip_fin_ult1</th>\n",
       "      <th>ind_plan_fin_ult1</th>\n",
       "      <th>ind_pres_fin_ult1</th>\n",
       "      <th>ind_reca_fin_ult1</th>\n",
       "      <th>ind_tjcr_fin_ult1</th>\n",
       "      <th>ind_valo_fin_ult1</th>\n",
       "      <th>ind_viv_fin_ult1</th>\n",
       "      <th>ind_nomina_ult1</th>\n",
       "      <th>ind_nom_pens_ult1</th>\n",
       "      <th>ind_recibo_ult1</th>\n",
       "    </tr>\n",
       "  </thead>\n",
       "  <tbody>\n",
       "    <tr>\n",
       "      <th>count</th>\n",
       "      <td>1.364731e+07</td>\n",
       "      <td>1.361958e+07</td>\n",
       "      <td>1.361958e+07</td>\n",
       "      <td>13619574.0</td>\n",
       "      <td>1.355372e+07</td>\n",
       "      <td>1.361958e+07</td>\n",
       "      <td>1.085293e+07</td>\n",
       "      <td>1.364731e+07</td>\n",
       "      <td>1.364731e+07</td>\n",
       "      <td>1.364731e+07</td>\n",
       "      <td>1.364731e+07</td>\n",
       "      <td>1.364731e+07</td>\n",
       "      <td>1.364731e+07</td>\n",
       "      <td>1.364731e+07</td>\n",
       "      <td>1.364731e+07</td>\n",
       "      <td>1.364731e+07</td>\n",
       "      <td>1.364731e+07</td>\n",
       "      <td>1.364731e+07</td>\n",
       "      <td>1.364731e+07</td>\n",
       "      <td>1.364731e+07</td>\n",
       "      <td>1.364731e+07</td>\n",
       "      <td>1.364731e+07</td>\n",
       "      <td>1.364731e+07</td>\n",
       "      <td>1.364731e+07</td>\n",
       "      <td>1.364731e+07</td>\n",
       "      <td>1.364731e+07</td>\n",
       "      <td>1.364731e+07</td>\n",
       "      <td>1.364731e+07</td>\n",
       "      <td>1.363125e+07</td>\n",
       "      <td>1.363125e+07</td>\n",
       "      <td>1.364731e+07</td>\n",
       "    </tr>\n",
       "    <tr>\n",
       "      <th>mean</th>\n",
       "      <td>8.349042e+05</td>\n",
       "      <td>5.956184e-02</td>\n",
       "      <td>1.178399e+00</td>\n",
       "      <td>1.0</td>\n",
       "      <td>2.657147e+01</td>\n",
       "      <td>4.578105e-01</td>\n",
       "      <td>1.342543e+05</td>\n",
       "      <td>1.022912e-04</td>\n",
       "      <td>2.315475e-05</td>\n",
       "      <td>6.554837e-01</td>\n",
       "      <td>3.939238e-04</td>\n",
       "      <td>8.086722e-02</td>\n",
       "      <td>9.474175e-03</td>\n",
       "      <td>9.726606e-03</td>\n",
       "      <td>1.290083e-01</td>\n",
       "      <td>4.330583e-02</td>\n",
       "      <td>1.778739e-03</td>\n",
       "      <td>1.660987e-03</td>\n",
       "      <td>4.296679e-02</td>\n",
       "      <td>8.274357e-02</td>\n",
       "      <td>1.848599e-02</td>\n",
       "      <td>5.886582e-03</td>\n",
       "      <td>9.170965e-03</td>\n",
       "      <td>2.627404e-03</td>\n",
       "      <td>5.253636e-02</td>\n",
       "      <td>4.438868e-02</td>\n",
       "      <td>2.560761e-02</td>\n",
       "      <td>3.847718e-03</td>\n",
       "      <td>5.472434e-02</td>\n",
       "      <td>5.942854e-02</td>\n",
       "      <td>1.279162e-01</td>\n",
       "    </tr>\n",
       "    <tr>\n",
       "      <th>std</th>\n",
       "      <td>4.315650e+05</td>\n",
       "      <td>2.366733e-01</td>\n",
       "      <td>4.177469e+00</td>\n",
       "      <td>0.0</td>\n",
       "      <td>1.278402e+01</td>\n",
       "      <td>4.982169e-01</td>\n",
       "      <td>2.306202e+05</td>\n",
       "      <td>1.011340e-02</td>\n",
       "      <td>4.811883e-03</td>\n",
       "      <td>4.752103e-01</td>\n",
       "      <td>1.984361e-02</td>\n",
       "      <td>2.726311e-01</td>\n",
       "      <td>9.687320e-02</td>\n",
       "      <td>9.814275e-02</td>\n",
       "      <td>3.352091e-01</td>\n",
       "      <td>2.035447e-01</td>\n",
       "      <td>4.213757e-02</td>\n",
       "      <td>4.072135e-02</td>\n",
       "      <td>2.027823e-01</td>\n",
       "      <td>2.754942e-01</td>\n",
       "      <td>1.347006e-01</td>\n",
       "      <td>7.649791e-02</td>\n",
       "      <td>9.532502e-02</td>\n",
       "      <td>5.119083e-02</td>\n",
       "      <td>2.231060e-01</td>\n",
       "      <td>2.059571e-01</td>\n",
       "      <td>1.579616e-01</td>\n",
       "      <td>6.191053e-02</td>\n",
       "      <td>2.274414e-01</td>\n",
       "      <td>2.364250e-01</td>\n",
       "      <td>3.339965e-01</td>\n",
       "    </tr>\n",
       "    <tr>\n",
       "      <th>min</th>\n",
       "      <td>1.588900e+04</td>\n",
       "      <td>0.000000e+00</td>\n",
       "      <td>1.000000e+00</td>\n",
       "      <td>1.0</td>\n",
       "      <td>1.000000e+00</td>\n",
       "      <td>0.000000e+00</td>\n",
       "      <td>1.202730e+03</td>\n",
       "      <td>0.000000e+00</td>\n",
       "      <td>0.000000e+00</td>\n",
       "      <td>0.000000e+00</td>\n",
       "      <td>0.000000e+00</td>\n",
       "      <td>0.000000e+00</td>\n",
       "      <td>0.000000e+00</td>\n",
       "      <td>0.000000e+00</td>\n",
       "      <td>0.000000e+00</td>\n",
       "      <td>0.000000e+00</td>\n",
       "      <td>0.000000e+00</td>\n",
       "      <td>0.000000e+00</td>\n",
       "      <td>0.000000e+00</td>\n",
       "      <td>0.000000e+00</td>\n",
       "      <td>0.000000e+00</td>\n",
       "      <td>0.000000e+00</td>\n",
       "      <td>0.000000e+00</td>\n",
       "      <td>0.000000e+00</td>\n",
       "      <td>0.000000e+00</td>\n",
       "      <td>0.000000e+00</td>\n",
       "      <td>0.000000e+00</td>\n",
       "      <td>0.000000e+00</td>\n",
       "      <td>0.000000e+00</td>\n",
       "      <td>0.000000e+00</td>\n",
       "      <td>0.000000e+00</td>\n",
       "    </tr>\n",
       "    <tr>\n",
       "      <th>25%</th>\n",
       "      <td>4.528130e+05</td>\n",
       "      <td>0.000000e+00</td>\n",
       "      <td>1.000000e+00</td>\n",
       "      <td>1.0</td>\n",
       "      <td>1.500000e+01</td>\n",
       "      <td>0.000000e+00</td>\n",
       "      <td>6.871098e+04</td>\n",
       "      <td>0.000000e+00</td>\n",
       "      <td>0.000000e+00</td>\n",
       "      <td>0.000000e+00</td>\n",
       "      <td>0.000000e+00</td>\n",
       "      <td>0.000000e+00</td>\n",
       "      <td>0.000000e+00</td>\n",
       "      <td>0.000000e+00</td>\n",
       "      <td>0.000000e+00</td>\n",
       "      <td>0.000000e+00</td>\n",
       "      <td>0.000000e+00</td>\n",
       "      <td>0.000000e+00</td>\n",
       "      <td>0.000000e+00</td>\n",
       "      <td>0.000000e+00</td>\n",
       "      <td>0.000000e+00</td>\n",
       "      <td>0.000000e+00</td>\n",
       "      <td>0.000000e+00</td>\n",
       "      <td>0.000000e+00</td>\n",
       "      <td>0.000000e+00</td>\n",
       "      <td>0.000000e+00</td>\n",
       "      <td>0.000000e+00</td>\n",
       "      <td>0.000000e+00</td>\n",
       "      <td>0.000000e+00</td>\n",
       "      <td>0.000000e+00</td>\n",
       "      <td>0.000000e+00</td>\n",
       "    </tr>\n",
       "    <tr>\n",
       "      <th>50%</th>\n",
       "      <td>9.318930e+05</td>\n",
       "      <td>0.000000e+00</td>\n",
       "      <td>1.000000e+00</td>\n",
       "      <td>1.0</td>\n",
       "      <td>2.800000e+01</td>\n",
       "      <td>0.000000e+00</td>\n",
       "      <td>1.018500e+05</td>\n",
       "      <td>0.000000e+00</td>\n",
       "      <td>0.000000e+00</td>\n",
       "      <td>1.000000e+00</td>\n",
       "      <td>0.000000e+00</td>\n",
       "      <td>0.000000e+00</td>\n",
       "      <td>0.000000e+00</td>\n",
       "      <td>0.000000e+00</td>\n",
       "      <td>0.000000e+00</td>\n",
       "      <td>0.000000e+00</td>\n",
       "      <td>0.000000e+00</td>\n",
       "      <td>0.000000e+00</td>\n",
       "      <td>0.000000e+00</td>\n",
       "      <td>0.000000e+00</td>\n",
       "      <td>0.000000e+00</td>\n",
       "      <td>0.000000e+00</td>\n",
       "      <td>0.000000e+00</td>\n",
       "      <td>0.000000e+00</td>\n",
       "      <td>0.000000e+00</td>\n",
       "      <td>0.000000e+00</td>\n",
       "      <td>0.000000e+00</td>\n",
       "      <td>0.000000e+00</td>\n",
       "      <td>0.000000e+00</td>\n",
       "      <td>0.000000e+00</td>\n",
       "      <td>0.000000e+00</td>\n",
       "    </tr>\n",
       "    <tr>\n",
       "      <th>75%</th>\n",
       "      <td>1.199286e+06</td>\n",
       "      <td>0.000000e+00</td>\n",
       "      <td>1.000000e+00</td>\n",
       "      <td>1.0</td>\n",
       "      <td>3.500000e+01</td>\n",
       "      <td>1.000000e+00</td>\n",
       "      <td>1.559560e+05</td>\n",
       "      <td>0.000000e+00</td>\n",
       "      <td>0.000000e+00</td>\n",
       "      <td>1.000000e+00</td>\n",
       "      <td>0.000000e+00</td>\n",
       "      <td>0.000000e+00</td>\n",
       "      <td>0.000000e+00</td>\n",
       "      <td>0.000000e+00</td>\n",
       "      <td>0.000000e+00</td>\n",
       "      <td>0.000000e+00</td>\n",
       "      <td>0.000000e+00</td>\n",
       "      <td>0.000000e+00</td>\n",
       "      <td>0.000000e+00</td>\n",
       "      <td>0.000000e+00</td>\n",
       "      <td>0.000000e+00</td>\n",
       "      <td>0.000000e+00</td>\n",
       "      <td>0.000000e+00</td>\n",
       "      <td>0.000000e+00</td>\n",
       "      <td>0.000000e+00</td>\n",
       "      <td>0.000000e+00</td>\n",
       "      <td>0.000000e+00</td>\n",
       "      <td>0.000000e+00</td>\n",
       "      <td>0.000000e+00</td>\n",
       "      <td>0.000000e+00</td>\n",
       "      <td>0.000000e+00</td>\n",
       "    </tr>\n",
       "    <tr>\n",
       "      <th>max</th>\n",
       "      <td>1.553689e+06</td>\n",
       "      <td>1.000000e+00</td>\n",
       "      <td>9.900000e+01</td>\n",
       "      <td>1.0</td>\n",
       "      <td>5.200000e+01</td>\n",
       "      <td>1.000000e+00</td>\n",
       "      <td>2.889440e+07</td>\n",
       "      <td>1.000000e+00</td>\n",
       "      <td>1.000000e+00</td>\n",
       "      <td>1.000000e+00</td>\n",
       "      <td>1.000000e+00</td>\n",
       "      <td>1.000000e+00</td>\n",
       "      <td>1.000000e+00</td>\n",
       "      <td>1.000000e+00</td>\n",
       "      <td>1.000000e+00</td>\n",
       "      <td>1.000000e+00</td>\n",
       "      <td>1.000000e+00</td>\n",
       "      <td>1.000000e+00</td>\n",
       "      <td>1.000000e+00</td>\n",
       "      <td>1.000000e+00</td>\n",
       "      <td>1.000000e+00</td>\n",
       "      <td>1.000000e+00</td>\n",
       "      <td>1.000000e+00</td>\n",
       "      <td>1.000000e+00</td>\n",
       "      <td>1.000000e+00</td>\n",
       "      <td>1.000000e+00</td>\n",
       "      <td>1.000000e+00</td>\n",
       "      <td>1.000000e+00</td>\n",
       "      <td>1.000000e+00</td>\n",
       "      <td>1.000000e+00</td>\n",
       "      <td>1.000000e+00</td>\n",
       "    </tr>\n",
       "  </tbody>\n",
       "</table>\n",
       "</div>"
      ],
      "text/plain": [
       "           ncodpers     ind_nuevo        indrel     tipodom      cod_prov  \\\n",
       "count  1.364731e+07  1.361958e+07  1.361958e+07  13619574.0  1.355372e+07   \n",
       "mean   8.349042e+05  5.956184e-02  1.178399e+00         1.0  2.657147e+01   \n",
       "std    4.315650e+05  2.366733e-01  4.177469e+00         0.0  1.278402e+01   \n",
       "min    1.588900e+04  0.000000e+00  1.000000e+00         1.0  1.000000e+00   \n",
       "25%    4.528130e+05  0.000000e+00  1.000000e+00         1.0  1.500000e+01   \n",
       "50%    9.318930e+05  0.000000e+00  1.000000e+00         1.0  2.800000e+01   \n",
       "75%    1.199286e+06  0.000000e+00  1.000000e+00         1.0  3.500000e+01   \n",
       "max    1.553689e+06  1.000000e+00  9.900000e+01         1.0  5.200000e+01   \n",
       "\n",
       "       ind_actividad_cliente         renta  ind_ahor_fin_ult1  \\\n",
       "count           1.361958e+07  1.085293e+07       1.364731e+07   \n",
       "mean            4.578105e-01  1.342543e+05       1.022912e-04   \n",
       "std             4.982169e-01  2.306202e+05       1.011340e-02   \n",
       "min             0.000000e+00  1.202730e+03       0.000000e+00   \n",
       "25%             0.000000e+00  6.871098e+04       0.000000e+00   \n",
       "50%             0.000000e+00  1.018500e+05       0.000000e+00   \n",
       "75%             1.000000e+00  1.559560e+05       0.000000e+00   \n",
       "max             1.000000e+00  2.889440e+07       1.000000e+00   \n",
       "\n",
       "       ind_aval_fin_ult1  ind_cco_fin_ult1  ind_cder_fin_ult1  \\\n",
       "count       1.364731e+07      1.364731e+07       1.364731e+07   \n",
       "mean        2.315475e-05      6.554837e-01       3.939238e-04   \n",
       "std         4.811883e-03      4.752103e-01       1.984361e-02   \n",
       "min         0.000000e+00      0.000000e+00       0.000000e+00   \n",
       "25%         0.000000e+00      0.000000e+00       0.000000e+00   \n",
       "50%         0.000000e+00      1.000000e+00       0.000000e+00   \n",
       "75%         0.000000e+00      1.000000e+00       0.000000e+00   \n",
       "max         1.000000e+00      1.000000e+00       1.000000e+00   \n",
       "\n",
       "       ind_cno_fin_ult1  ind_ctju_fin_ult1  ind_ctma_fin_ult1  \\\n",
       "count      1.364731e+07       1.364731e+07       1.364731e+07   \n",
       "mean       8.086722e-02       9.474175e-03       9.726606e-03   \n",
       "std        2.726311e-01       9.687320e-02       9.814275e-02   \n",
       "min        0.000000e+00       0.000000e+00       0.000000e+00   \n",
       "25%        0.000000e+00       0.000000e+00       0.000000e+00   \n",
       "50%        0.000000e+00       0.000000e+00       0.000000e+00   \n",
       "75%        0.000000e+00       0.000000e+00       0.000000e+00   \n",
       "max        1.000000e+00       1.000000e+00       1.000000e+00   \n",
       "\n",
       "       ind_ctop_fin_ult1  ind_ctpp_fin_ult1  ind_deco_fin_ult1  \\\n",
       "count       1.364731e+07       1.364731e+07       1.364731e+07   \n",
       "mean        1.290083e-01       4.330583e-02       1.778739e-03   \n",
       "std         3.352091e-01       2.035447e-01       4.213757e-02   \n",
       "min         0.000000e+00       0.000000e+00       0.000000e+00   \n",
       "25%         0.000000e+00       0.000000e+00       0.000000e+00   \n",
       "50%         0.000000e+00       0.000000e+00       0.000000e+00   \n",
       "75%         0.000000e+00       0.000000e+00       0.000000e+00   \n",
       "max         1.000000e+00       1.000000e+00       1.000000e+00   \n",
       "\n",
       "       ind_deme_fin_ult1  ind_dela_fin_ult1  ind_ecue_fin_ult1  \\\n",
       "count       1.364731e+07       1.364731e+07       1.364731e+07   \n",
       "mean        1.660987e-03       4.296679e-02       8.274357e-02   \n",
       "std         4.072135e-02       2.027823e-01       2.754942e-01   \n",
       "min         0.000000e+00       0.000000e+00       0.000000e+00   \n",
       "25%         0.000000e+00       0.000000e+00       0.000000e+00   \n",
       "50%         0.000000e+00       0.000000e+00       0.000000e+00   \n",
       "75%         0.000000e+00       0.000000e+00       0.000000e+00   \n",
       "max         1.000000e+00       1.000000e+00       1.000000e+00   \n",
       "\n",
       "       ind_fond_fin_ult1  ind_hip_fin_ult1  ind_plan_fin_ult1  \\\n",
       "count       1.364731e+07      1.364731e+07       1.364731e+07   \n",
       "mean        1.848599e-02      5.886582e-03       9.170965e-03   \n",
       "std         1.347006e-01      7.649791e-02       9.532502e-02   \n",
       "min         0.000000e+00      0.000000e+00       0.000000e+00   \n",
       "25%         0.000000e+00      0.000000e+00       0.000000e+00   \n",
       "50%         0.000000e+00      0.000000e+00       0.000000e+00   \n",
       "75%         0.000000e+00      0.000000e+00       0.000000e+00   \n",
       "max         1.000000e+00      1.000000e+00       1.000000e+00   \n",
       "\n",
       "       ind_pres_fin_ult1  ind_reca_fin_ult1  ind_tjcr_fin_ult1  \\\n",
       "count       1.364731e+07       1.364731e+07       1.364731e+07   \n",
       "mean        2.627404e-03       5.253636e-02       4.438868e-02   \n",
       "std         5.119083e-02       2.231060e-01       2.059571e-01   \n",
       "min         0.000000e+00       0.000000e+00       0.000000e+00   \n",
       "25%         0.000000e+00       0.000000e+00       0.000000e+00   \n",
       "50%         0.000000e+00       0.000000e+00       0.000000e+00   \n",
       "75%         0.000000e+00       0.000000e+00       0.000000e+00   \n",
       "max         1.000000e+00       1.000000e+00       1.000000e+00   \n",
       "\n",
       "       ind_valo_fin_ult1  ind_viv_fin_ult1  ind_nomina_ult1  \\\n",
       "count       1.364731e+07      1.364731e+07     1.363125e+07   \n",
       "mean        2.560761e-02      3.847718e-03     5.472434e-02   \n",
       "std         1.579616e-01      6.191053e-02     2.274414e-01   \n",
       "min         0.000000e+00      0.000000e+00     0.000000e+00   \n",
       "25%         0.000000e+00      0.000000e+00     0.000000e+00   \n",
       "50%         0.000000e+00      0.000000e+00     0.000000e+00   \n",
       "75%         0.000000e+00      0.000000e+00     0.000000e+00   \n",
       "max         1.000000e+00      1.000000e+00     1.000000e+00   \n",
       "\n",
       "       ind_nom_pens_ult1  ind_recibo_ult1  \n",
       "count       1.363125e+07     1.364731e+07  \n",
       "mean        5.942854e-02     1.279162e-01  \n",
       "std         2.364250e-01     3.339965e-01  \n",
       "min         0.000000e+00     0.000000e+00  \n",
       "25%         0.000000e+00     0.000000e+00  \n",
       "50%         0.000000e+00     0.000000e+00  \n",
       "75%         0.000000e+00     0.000000e+00  \n",
       "max         1.000000e+00     1.000000e+00  "
      ]
     },
     "execution_count": 106,
     "metadata": {},
     "output_type": "execute_result"
    }
   ],
   "source": [
    "train.describe()"
   ]
  },
  {
   "cell_type": "code",
   "execution_count": 107,
   "metadata": {},
   "outputs": [
    {
     "data": {
      "text/html": [
       "<div>\n",
       "<style scoped>\n",
       "    .dataframe tbody tr th:only-of-type {\n",
       "        vertical-align: middle;\n",
       "    }\n",
       "\n",
       "    .dataframe tbody tr th {\n",
       "        vertical-align: top;\n",
       "    }\n",
       "\n",
       "    .dataframe thead th {\n",
       "        text-align: right;\n",
       "    }\n",
       "</style>\n",
       "<table border=\"1\" class=\"dataframe\">\n",
       "  <thead>\n",
       "    <tr style=\"text-align: right;\">\n",
       "      <th></th>\n",
       "      <th>ind_empleado</th>\n",
       "      <th>pais_residencia</th>\n",
       "      <th>sexo</th>\n",
       "      <th>age</th>\n",
       "      <th>antiguedad</th>\n",
       "      <th>indrel_1mes</th>\n",
       "      <th>tiprel_1mes</th>\n",
       "      <th>indresi</th>\n",
       "      <th>indext</th>\n",
       "      <th>conyuemp</th>\n",
       "      <th>canal_entrada</th>\n",
       "      <th>indfall</th>\n",
       "      <th>nomprov</th>\n",
       "      <th>segmento</th>\n",
       "    </tr>\n",
       "  </thead>\n",
       "  <tbody>\n",
       "    <tr>\n",
       "      <th>count</th>\n",
       "      <td>13619575</td>\n",
       "      <td>13619575</td>\n",
       "      <td>13619505</td>\n",
       "      <td>13647309</td>\n",
       "      <td>13647309</td>\n",
       "      <td>13497528.0</td>\n",
       "      <td>13497528</td>\n",
       "      <td>13619575</td>\n",
       "      <td>13619575</td>\n",
       "      <td>1808</td>\n",
       "      <td>13461183</td>\n",
       "      <td>13619575</td>\n",
       "      <td>13553718</td>\n",
       "      <td>13457941</td>\n",
       "    </tr>\n",
       "    <tr>\n",
       "      <th>unique</th>\n",
       "      <td>5</td>\n",
       "      <td>118</td>\n",
       "      <td>2</td>\n",
       "      <td>235</td>\n",
       "      <td>507</td>\n",
       "      <td>13.0</td>\n",
       "      <td>5</td>\n",
       "      <td>2</td>\n",
       "      <td>2</td>\n",
       "      <td>2</td>\n",
       "      <td>162</td>\n",
       "      <td>2</td>\n",
       "      <td>52</td>\n",
       "      <td>3</td>\n",
       "    </tr>\n",
       "    <tr>\n",
       "      <th>top</th>\n",
       "      <td>N</td>\n",
       "      <td>ES</td>\n",
       "      <td>V</td>\n",
       "      <td>23</td>\n",
       "      <td>0</td>\n",
       "      <td>1.0</td>\n",
       "      <td>I</td>\n",
       "      <td>S</td>\n",
       "      <td>N</td>\n",
       "      <td>N</td>\n",
       "      <td>KHE</td>\n",
       "      <td>N</td>\n",
       "      <td>MADRID</td>\n",
       "      <td>02 - PARTICULARES</td>\n",
       "    </tr>\n",
       "    <tr>\n",
       "      <th>freq</th>\n",
       "      <td>13610977</td>\n",
       "      <td>13553710</td>\n",
       "      <td>7424252</td>\n",
       "      <td>542682</td>\n",
       "      <td>134335</td>\n",
       "      <td>7277607.0</td>\n",
       "      <td>7304875</td>\n",
       "      <td>13553711</td>\n",
       "      <td>12974839</td>\n",
       "      <td>1791</td>\n",
       "      <td>4055270</td>\n",
       "      <td>13584813</td>\n",
       "      <td>4409600</td>\n",
       "      <td>7960220</td>\n",
       "    </tr>\n",
       "  </tbody>\n",
       "</table>\n",
       "</div>"
      ],
      "text/plain": [
       "       ind_empleado pais_residencia      sexo       age  antiguedad  \\\n",
       "count      13619575        13619575  13619505  13647309    13647309   \n",
       "unique            5             118         2       235         507   \n",
       "top               N              ES         V        23           0   \n",
       "freq       13610977        13553710   7424252    542682      134335   \n",
       "\n",
       "        indrel_1mes tiprel_1mes   indresi    indext conyuemp canal_entrada  \\\n",
       "count    13497528.0    13497528  13619575  13619575     1808      13461183   \n",
       "unique         13.0           5         2         2        2           162   \n",
       "top             1.0           I         S         N        N           KHE   \n",
       "freq      7277607.0     7304875  13553711  12974839     1791       4055270   \n",
       "\n",
       "         indfall   nomprov           segmento  \n",
       "count   13619575  13553718           13457941  \n",
       "unique         2        52                  3  \n",
       "top            N    MADRID  02 - PARTICULARES  \n",
       "freq    13584813   4409600            7960220  "
      ]
     },
     "execution_count": 107,
     "metadata": {},
     "output_type": "execute_result"
    }
   ],
   "source": [
    "train.describe(include = ['object'])"
   ]
  },
  {
   "cell_type": "code",
   "execution_count": 9,
   "metadata": {},
   "outputs": [
    {
     "data": {
      "text/plain": [
       "['ind_ahor_fin_ult1',\n",
       " 'ind_aval_fin_ult1',\n",
       " 'ind_cco_fin_ult1',\n",
       " 'ind_cder_fin_ult1',\n",
       " 'ind_cno_fin_ult1',\n",
       " 'ind_ctju_fin_ult1',\n",
       " 'ind_ctma_fin_ult1',\n",
       " 'ind_ctop_fin_ult1',\n",
       " 'ind_ctpp_fin_ult1',\n",
       " 'ind_deco_fin_ult1',\n",
       " 'ind_deme_fin_ult1',\n",
       " 'ind_dela_fin_ult1',\n",
       " 'ind_ecue_fin_ult1',\n",
       " 'ind_fond_fin_ult1',\n",
       " 'ind_hip_fin_ult1',\n",
       " 'ind_plan_fin_ult1',\n",
       " 'ind_pres_fin_ult1',\n",
       " 'ind_reca_fin_ult1',\n",
       " 'ind_tjcr_fin_ult1',\n",
       " 'ind_valo_fin_ult1',\n",
       " 'ind_viv_fin_ult1',\n",
       " 'ind_nomina_ult1',\n",
       " 'ind_nom_pens_ult1',\n",
       " 'ind_recibo_ult1']"
      ]
     },
     "execution_count": 9,
     "metadata": {},
     "output_type": "execute_result"
    }
   ],
   "source": [
    "product = list(train.filter(regex='^ind.*ult1$', axis=1))\n",
    "product"
   ]
  },
  {
   "cell_type": "markdown",
   "metadata": {},
   "source": [
    "### Check NA"
   ]
  },
  {
   "cell_type": "code",
   "execution_count": 109,
   "metadata": {
    "collapsed": true
   },
   "outputs": [
    {
     "data": {
      "text/html": [
       "<div>\n",
       "<style scoped>\n",
       "    .dataframe tbody tr th:only-of-type {\n",
       "        vertical-align: middle;\n",
       "    }\n",
       "\n",
       "    .dataframe tbody tr th {\n",
       "        vertical-align: top;\n",
       "    }\n",
       "\n",
       "    .dataframe thead th {\n",
       "        text-align: right;\n",
       "    }\n",
       "</style>\n",
       "<table border=\"1\" class=\"dataframe\">\n",
       "  <thead>\n",
       "    <tr style=\"text-align: right;\">\n",
       "      <th></th>\n",
       "      <th>missing</th>\n",
       "      <th>percent</th>\n",
       "    </tr>\n",
       "  </thead>\n",
       "  <tbody>\n",
       "    <tr>\n",
       "      <th>fecha_dato</th>\n",
       "      <td>0</td>\n",
       "      <td>0.000000</td>\n",
       "    </tr>\n",
       "    <tr>\n",
       "      <th>ncodpers</th>\n",
       "      <td>0</td>\n",
       "      <td>0.000000</td>\n",
       "    </tr>\n",
       "    <tr>\n",
       "      <th>ind_empleado</th>\n",
       "      <td>27734</td>\n",
       "      <td>0.002032</td>\n",
       "    </tr>\n",
       "    <tr>\n",
       "      <th>pais_residencia</th>\n",
       "      <td>27734</td>\n",
       "      <td>0.002032</td>\n",
       "    </tr>\n",
       "    <tr>\n",
       "      <th>sexo</th>\n",
       "      <td>27804</td>\n",
       "      <td>0.002037</td>\n",
       "    </tr>\n",
       "    <tr>\n",
       "      <th>age</th>\n",
       "      <td>0</td>\n",
       "      <td>0.000000</td>\n",
       "    </tr>\n",
       "    <tr>\n",
       "      <th>fecha_alta</th>\n",
       "      <td>27734</td>\n",
       "      <td>0.002032</td>\n",
       "    </tr>\n",
       "    <tr>\n",
       "      <th>ind_nuevo</th>\n",
       "      <td>27734</td>\n",
       "      <td>0.002032</td>\n",
       "    </tr>\n",
       "    <tr>\n",
       "      <th>antiguedad</th>\n",
       "      <td>0</td>\n",
       "      <td>0.000000</td>\n",
       "    </tr>\n",
       "    <tr>\n",
       "      <th>indrel</th>\n",
       "      <td>27734</td>\n",
       "      <td>0.002032</td>\n",
       "    </tr>\n",
       "    <tr>\n",
       "      <th>ult_fec_cli_1t</th>\n",
       "      <td>13622516</td>\n",
       "      <td>0.998183</td>\n",
       "    </tr>\n",
       "    <tr>\n",
       "      <th>indrel_1mes</th>\n",
       "      <td>149781</td>\n",
       "      <td>0.010975</td>\n",
       "    </tr>\n",
       "    <tr>\n",
       "      <th>tiprel_1mes</th>\n",
       "      <td>149781</td>\n",
       "      <td>0.010975</td>\n",
       "    </tr>\n",
       "    <tr>\n",
       "      <th>indresi</th>\n",
       "      <td>27734</td>\n",
       "      <td>0.002032</td>\n",
       "    </tr>\n",
       "    <tr>\n",
       "      <th>indext</th>\n",
       "      <td>27734</td>\n",
       "      <td>0.002032</td>\n",
       "    </tr>\n",
       "    <tr>\n",
       "      <th>conyuemp</th>\n",
       "      <td>13645501</td>\n",
       "      <td>0.999868</td>\n",
       "    </tr>\n",
       "    <tr>\n",
       "      <th>canal_entrada</th>\n",
       "      <td>186126</td>\n",
       "      <td>0.013638</td>\n",
       "    </tr>\n",
       "    <tr>\n",
       "      <th>indfall</th>\n",
       "      <td>27734</td>\n",
       "      <td>0.002032</td>\n",
       "    </tr>\n",
       "    <tr>\n",
       "      <th>tipodom</th>\n",
       "      <td>27735</td>\n",
       "      <td>0.002032</td>\n",
       "    </tr>\n",
       "    <tr>\n",
       "      <th>cod_prov</th>\n",
       "      <td>93591</td>\n",
       "      <td>0.006858</td>\n",
       "    </tr>\n",
       "    <tr>\n",
       "      <th>nomprov</th>\n",
       "      <td>93591</td>\n",
       "      <td>0.006858</td>\n",
       "    </tr>\n",
       "    <tr>\n",
       "      <th>ind_actividad_cliente</th>\n",
       "      <td>27734</td>\n",
       "      <td>0.002032</td>\n",
       "    </tr>\n",
       "    <tr>\n",
       "      <th>renta</th>\n",
       "      <td>2794375</td>\n",
       "      <td>0.204756</td>\n",
       "    </tr>\n",
       "    <tr>\n",
       "      <th>segmento</th>\n",
       "      <td>189368</td>\n",
       "      <td>0.013876</td>\n",
       "    </tr>\n",
       "    <tr>\n",
       "      <th>ind_ahor_fin_ult1</th>\n",
       "      <td>0</td>\n",
       "      <td>0.000000</td>\n",
       "    </tr>\n",
       "    <tr>\n",
       "      <th>ind_aval_fin_ult1</th>\n",
       "      <td>0</td>\n",
       "      <td>0.000000</td>\n",
       "    </tr>\n",
       "    <tr>\n",
       "      <th>ind_cco_fin_ult1</th>\n",
       "      <td>0</td>\n",
       "      <td>0.000000</td>\n",
       "    </tr>\n",
       "    <tr>\n",
       "      <th>ind_cder_fin_ult1</th>\n",
       "      <td>0</td>\n",
       "      <td>0.000000</td>\n",
       "    </tr>\n",
       "    <tr>\n",
       "      <th>ind_cno_fin_ult1</th>\n",
       "      <td>0</td>\n",
       "      <td>0.000000</td>\n",
       "    </tr>\n",
       "    <tr>\n",
       "      <th>ind_ctju_fin_ult1</th>\n",
       "      <td>0</td>\n",
       "      <td>0.000000</td>\n",
       "    </tr>\n",
       "    <tr>\n",
       "      <th>ind_ctma_fin_ult1</th>\n",
       "      <td>0</td>\n",
       "      <td>0.000000</td>\n",
       "    </tr>\n",
       "    <tr>\n",
       "      <th>ind_ctop_fin_ult1</th>\n",
       "      <td>0</td>\n",
       "      <td>0.000000</td>\n",
       "    </tr>\n",
       "    <tr>\n",
       "      <th>ind_ctpp_fin_ult1</th>\n",
       "      <td>0</td>\n",
       "      <td>0.000000</td>\n",
       "    </tr>\n",
       "    <tr>\n",
       "      <th>ind_deco_fin_ult1</th>\n",
       "      <td>0</td>\n",
       "      <td>0.000000</td>\n",
       "    </tr>\n",
       "    <tr>\n",
       "      <th>ind_deme_fin_ult1</th>\n",
       "      <td>0</td>\n",
       "      <td>0.000000</td>\n",
       "    </tr>\n",
       "    <tr>\n",
       "      <th>ind_dela_fin_ult1</th>\n",
       "      <td>0</td>\n",
       "      <td>0.000000</td>\n",
       "    </tr>\n",
       "    <tr>\n",
       "      <th>ind_ecue_fin_ult1</th>\n",
       "      <td>0</td>\n",
       "      <td>0.000000</td>\n",
       "    </tr>\n",
       "    <tr>\n",
       "      <th>ind_fond_fin_ult1</th>\n",
       "      <td>0</td>\n",
       "      <td>0.000000</td>\n",
       "    </tr>\n",
       "    <tr>\n",
       "      <th>ind_hip_fin_ult1</th>\n",
       "      <td>0</td>\n",
       "      <td>0.000000</td>\n",
       "    </tr>\n",
       "    <tr>\n",
       "      <th>ind_plan_fin_ult1</th>\n",
       "      <td>0</td>\n",
       "      <td>0.000000</td>\n",
       "    </tr>\n",
       "    <tr>\n",
       "      <th>ind_pres_fin_ult1</th>\n",
       "      <td>0</td>\n",
       "      <td>0.000000</td>\n",
       "    </tr>\n",
       "    <tr>\n",
       "      <th>ind_reca_fin_ult1</th>\n",
       "      <td>0</td>\n",
       "      <td>0.000000</td>\n",
       "    </tr>\n",
       "    <tr>\n",
       "      <th>ind_tjcr_fin_ult1</th>\n",
       "      <td>0</td>\n",
       "      <td>0.000000</td>\n",
       "    </tr>\n",
       "    <tr>\n",
       "      <th>ind_valo_fin_ult1</th>\n",
       "      <td>0</td>\n",
       "      <td>0.000000</td>\n",
       "    </tr>\n",
       "    <tr>\n",
       "      <th>ind_viv_fin_ult1</th>\n",
       "      <td>0</td>\n",
       "      <td>0.000000</td>\n",
       "    </tr>\n",
       "    <tr>\n",
       "      <th>ind_nomina_ult1</th>\n",
       "      <td>16063</td>\n",
       "      <td>0.001177</td>\n",
       "    </tr>\n",
       "    <tr>\n",
       "      <th>ind_nom_pens_ult1</th>\n",
       "      <td>16063</td>\n",
       "      <td>0.001177</td>\n",
       "    </tr>\n",
       "    <tr>\n",
       "      <th>ind_recibo_ult1</th>\n",
       "      <td>0</td>\n",
       "      <td>0.000000</td>\n",
       "    </tr>\n",
       "  </tbody>\n",
       "</table>\n",
       "</div>"
      ],
      "text/plain": [
       "                        missing   percent\n",
       "fecha_dato                    0  0.000000\n",
       "ncodpers                      0  0.000000\n",
       "ind_empleado              27734  0.002032\n",
       "pais_residencia           27734  0.002032\n",
       "sexo                      27804  0.002037\n",
       "age                           0  0.000000\n",
       "fecha_alta                27734  0.002032\n",
       "ind_nuevo                 27734  0.002032\n",
       "antiguedad                    0  0.000000\n",
       "indrel                    27734  0.002032\n",
       "ult_fec_cli_1t         13622516  0.998183\n",
       "indrel_1mes              149781  0.010975\n",
       "tiprel_1mes              149781  0.010975\n",
       "indresi                   27734  0.002032\n",
       "indext                    27734  0.002032\n",
       "conyuemp               13645501  0.999868\n",
       "canal_entrada            186126  0.013638\n",
       "indfall                   27734  0.002032\n",
       "tipodom                   27735  0.002032\n",
       "cod_prov                  93591  0.006858\n",
       "nomprov                   93591  0.006858\n",
       "ind_actividad_cliente     27734  0.002032\n",
       "renta                   2794375  0.204756\n",
       "segmento                 189368  0.013876\n",
       "ind_ahor_fin_ult1             0  0.000000\n",
       "ind_aval_fin_ult1             0  0.000000\n",
       "ind_cco_fin_ult1              0  0.000000\n",
       "ind_cder_fin_ult1             0  0.000000\n",
       "ind_cno_fin_ult1              0  0.000000\n",
       "ind_ctju_fin_ult1             0  0.000000\n",
       "ind_ctma_fin_ult1             0  0.000000\n",
       "ind_ctop_fin_ult1             0  0.000000\n",
       "ind_ctpp_fin_ult1             0  0.000000\n",
       "ind_deco_fin_ult1             0  0.000000\n",
       "ind_deme_fin_ult1             0  0.000000\n",
       "ind_dela_fin_ult1             0  0.000000\n",
       "ind_ecue_fin_ult1             0  0.000000\n",
       "ind_fond_fin_ult1             0  0.000000\n",
       "ind_hip_fin_ult1              0  0.000000\n",
       "ind_plan_fin_ult1             0  0.000000\n",
       "ind_pres_fin_ult1             0  0.000000\n",
       "ind_reca_fin_ult1             0  0.000000\n",
       "ind_tjcr_fin_ult1             0  0.000000\n",
       "ind_valo_fin_ult1             0  0.000000\n",
       "ind_viv_fin_ult1              0  0.000000\n",
       "ind_nomina_ult1           16063  0.001177\n",
       "ind_nom_pens_ult1         16063  0.001177\n",
       "ind_recibo_ult1               0  0.000000"
      ]
     },
     "execution_count": 109,
     "metadata": {},
     "output_type": "execute_result"
    }
   ],
   "source": [
    "na_check = pd.Series.to_frame(train.isnull().sum())\n",
    "na_check.columns = ['missing']\n",
    "na_check['percent'] = na_check['missing']/train.shape[0]\n",
    "na_check"
   ]
  },
  {
   "cell_type": "markdown",
   "metadata": {},
   "source": [
    "* customers in test data don't have ult_fec_cli_1t: impute using training data, or treat them as still primary customers\n",
    "* nomprov/cod_prov: impute using training data"
   ]
  },
  {
   "cell_type": "code",
   "execution_count": 110,
   "metadata": {
    "scrolled": true
   },
   "outputs": [
    {
     "data": {
      "text/html": [
       "<div>\n",
       "<style scoped>\n",
       "    .dataframe tbody tr th:only-of-type {\n",
       "        vertical-align: middle;\n",
       "    }\n",
       "\n",
       "    .dataframe tbody tr th {\n",
       "        vertical-align: top;\n",
       "    }\n",
       "\n",
       "    .dataframe thead th {\n",
       "        text-align: right;\n",
       "    }\n",
       "</style>\n",
       "<table border=\"1\" class=\"dataframe\">\n",
       "  <thead>\n",
       "    <tr style=\"text-align: right;\">\n",
       "      <th></th>\n",
       "      <th>0</th>\n",
       "    </tr>\n",
       "  </thead>\n",
       "  <tbody>\n",
       "    <tr>\n",
       "      <th>fecha_dato</th>\n",
       "      <td>0</td>\n",
       "    </tr>\n",
       "    <tr>\n",
       "      <th>ncodpers</th>\n",
       "      <td>0</td>\n",
       "    </tr>\n",
       "    <tr>\n",
       "      <th>ind_empleado</th>\n",
       "      <td>27734</td>\n",
       "    </tr>\n",
       "    <tr>\n",
       "      <th>pais_residencia</th>\n",
       "      <td>27734</td>\n",
       "    </tr>\n",
       "    <tr>\n",
       "      <th>sexo</th>\n",
       "      <td>27734</td>\n",
       "    </tr>\n",
       "    <tr>\n",
       "      <th>age</th>\n",
       "      <td>0</td>\n",
       "    </tr>\n",
       "    <tr>\n",
       "      <th>fecha_alta</th>\n",
       "      <td>27734</td>\n",
       "    </tr>\n",
       "    <tr>\n",
       "      <th>ind_nuevo</th>\n",
       "      <td>27734</td>\n",
       "    </tr>\n",
       "    <tr>\n",
       "      <th>antiguedad</th>\n",
       "      <td>0</td>\n",
       "    </tr>\n",
       "    <tr>\n",
       "      <th>indrel</th>\n",
       "      <td>27734</td>\n",
       "    </tr>\n",
       "    <tr>\n",
       "      <th>ult_fec_cli_1t</th>\n",
       "      <td>27734</td>\n",
       "    </tr>\n",
       "    <tr>\n",
       "      <th>indrel_1mes</th>\n",
       "      <td>27734</td>\n",
       "    </tr>\n",
       "    <tr>\n",
       "      <th>tiprel_1mes</th>\n",
       "      <td>27734</td>\n",
       "    </tr>\n",
       "    <tr>\n",
       "      <th>indresi</th>\n",
       "      <td>27734</td>\n",
       "    </tr>\n",
       "    <tr>\n",
       "      <th>indext</th>\n",
       "      <td>27734</td>\n",
       "    </tr>\n",
       "    <tr>\n",
       "      <th>conyuemp</th>\n",
       "      <td>27734</td>\n",
       "    </tr>\n",
       "    <tr>\n",
       "      <th>canal_entrada</th>\n",
       "      <td>27734</td>\n",
       "    </tr>\n",
       "    <tr>\n",
       "      <th>indfall</th>\n",
       "      <td>27734</td>\n",
       "    </tr>\n",
       "    <tr>\n",
       "      <th>tipodom</th>\n",
       "      <td>27734</td>\n",
       "    </tr>\n",
       "    <tr>\n",
       "      <th>cod_prov</th>\n",
       "      <td>27734</td>\n",
       "    </tr>\n",
       "    <tr>\n",
       "      <th>nomprov</th>\n",
       "      <td>27734</td>\n",
       "    </tr>\n",
       "    <tr>\n",
       "      <th>ind_actividad_cliente</th>\n",
       "      <td>27734</td>\n",
       "    </tr>\n",
       "    <tr>\n",
       "      <th>renta</th>\n",
       "      <td>27734</td>\n",
       "    </tr>\n",
       "    <tr>\n",
       "      <th>segmento</th>\n",
       "      <td>27734</td>\n",
       "    </tr>\n",
       "    <tr>\n",
       "      <th>ind_ahor_fin_ult1</th>\n",
       "      <td>0</td>\n",
       "    </tr>\n",
       "    <tr>\n",
       "      <th>ind_aval_fin_ult1</th>\n",
       "      <td>0</td>\n",
       "    </tr>\n",
       "    <tr>\n",
       "      <th>ind_cco_fin_ult1</th>\n",
       "      <td>0</td>\n",
       "    </tr>\n",
       "    <tr>\n",
       "      <th>ind_cder_fin_ult1</th>\n",
       "      <td>0</td>\n",
       "    </tr>\n",
       "    <tr>\n",
       "      <th>ind_cno_fin_ult1</th>\n",
       "      <td>0</td>\n",
       "    </tr>\n",
       "    <tr>\n",
       "      <th>ind_ctju_fin_ult1</th>\n",
       "      <td>0</td>\n",
       "    </tr>\n",
       "    <tr>\n",
       "      <th>ind_ctma_fin_ult1</th>\n",
       "      <td>0</td>\n",
       "    </tr>\n",
       "    <tr>\n",
       "      <th>ind_ctop_fin_ult1</th>\n",
       "      <td>0</td>\n",
       "    </tr>\n",
       "    <tr>\n",
       "      <th>ind_ctpp_fin_ult1</th>\n",
       "      <td>0</td>\n",
       "    </tr>\n",
       "    <tr>\n",
       "      <th>ind_deco_fin_ult1</th>\n",
       "      <td>0</td>\n",
       "    </tr>\n",
       "    <tr>\n",
       "      <th>ind_deme_fin_ult1</th>\n",
       "      <td>0</td>\n",
       "    </tr>\n",
       "    <tr>\n",
       "      <th>ind_dela_fin_ult1</th>\n",
       "      <td>0</td>\n",
       "    </tr>\n",
       "    <tr>\n",
       "      <th>ind_ecue_fin_ult1</th>\n",
       "      <td>0</td>\n",
       "    </tr>\n",
       "    <tr>\n",
       "      <th>ind_fond_fin_ult1</th>\n",
       "      <td>0</td>\n",
       "    </tr>\n",
       "    <tr>\n",
       "      <th>ind_hip_fin_ult1</th>\n",
       "      <td>0</td>\n",
       "    </tr>\n",
       "    <tr>\n",
       "      <th>ind_plan_fin_ult1</th>\n",
       "      <td>0</td>\n",
       "    </tr>\n",
       "    <tr>\n",
       "      <th>ind_pres_fin_ult1</th>\n",
       "      <td>0</td>\n",
       "    </tr>\n",
       "    <tr>\n",
       "      <th>ind_reca_fin_ult1</th>\n",
       "      <td>0</td>\n",
       "    </tr>\n",
       "    <tr>\n",
       "      <th>ind_tjcr_fin_ult1</th>\n",
       "      <td>0</td>\n",
       "    </tr>\n",
       "    <tr>\n",
       "      <th>ind_valo_fin_ult1</th>\n",
       "      <td>0</td>\n",
       "    </tr>\n",
       "    <tr>\n",
       "      <th>ind_viv_fin_ult1</th>\n",
       "      <td>0</td>\n",
       "    </tr>\n",
       "    <tr>\n",
       "      <th>ind_nomina_ult1</th>\n",
       "      <td>15846</td>\n",
       "    </tr>\n",
       "    <tr>\n",
       "      <th>ind_nom_pens_ult1</th>\n",
       "      <td>15846</td>\n",
       "    </tr>\n",
       "    <tr>\n",
       "      <th>ind_recibo_ult1</th>\n",
       "      <td>0</td>\n",
       "    </tr>\n",
       "  </tbody>\n",
       "</table>\n",
       "</div>"
      ],
      "text/plain": [
       "                           0\n",
       "fecha_dato                 0\n",
       "ncodpers                   0\n",
       "ind_empleado           27734\n",
       "pais_residencia        27734\n",
       "sexo                   27734\n",
       "age                        0\n",
       "fecha_alta             27734\n",
       "ind_nuevo              27734\n",
       "antiguedad                 0\n",
       "indrel                 27734\n",
       "ult_fec_cli_1t         27734\n",
       "indrel_1mes            27734\n",
       "tiprel_1mes            27734\n",
       "indresi                27734\n",
       "indext                 27734\n",
       "conyuemp               27734\n",
       "canal_entrada          27734\n",
       "indfall                27734\n",
       "tipodom                27734\n",
       "cod_prov               27734\n",
       "nomprov                27734\n",
       "ind_actividad_cliente  27734\n",
       "renta                  27734\n",
       "segmento               27734\n",
       "ind_ahor_fin_ult1          0\n",
       "ind_aval_fin_ult1          0\n",
       "ind_cco_fin_ult1           0\n",
       "ind_cder_fin_ult1          0\n",
       "ind_cno_fin_ult1           0\n",
       "ind_ctju_fin_ult1          0\n",
       "ind_ctma_fin_ult1          0\n",
       "ind_ctop_fin_ult1          0\n",
       "ind_ctpp_fin_ult1          0\n",
       "ind_deco_fin_ult1          0\n",
       "ind_deme_fin_ult1          0\n",
       "ind_dela_fin_ult1          0\n",
       "ind_ecue_fin_ult1          0\n",
       "ind_fond_fin_ult1          0\n",
       "ind_hip_fin_ult1           0\n",
       "ind_plan_fin_ult1          0\n",
       "ind_pres_fin_ult1          0\n",
       "ind_reca_fin_ult1          0\n",
       "ind_tjcr_fin_ult1          0\n",
       "ind_valo_fin_ult1          0\n",
       "ind_viv_fin_ult1           0\n",
       "ind_nomina_ult1        15846\n",
       "ind_nom_pens_ult1      15846\n",
       "ind_recibo_ult1            0"
      ]
     },
     "execution_count": 110,
     "metadata": {},
     "output_type": "execute_result"
    }
   ],
   "source": [
    "ind_em_null = train[train.ind_empleado.isnull()]\n",
    "pd.Series.to_frame(ind_em_null.isnull().sum())"
   ]
  },
  {
   "cell_type": "code",
   "execution_count": 111,
   "metadata": {
    "collapsed": true
   },
   "outputs": [],
   "source": [
    "# na_check_test = pd.Series.to_frame(test.isnull().sum())\n",
    "# na_check_test.columns = ['missing']\n",
    "# na_check_test['percent'] = na_check_test['missing']/test.shape[0]\n",
    "# na_check_test"
   ]
  },
  {
   "cell_type": "code",
   "execution_count": 112,
   "metadata": {
    "collapsed": true
   },
   "outputs": [],
   "source": [
    "train2 = train.copy()"
   ]
  },
  {
   "cell_type": "code",
   "execution_count": 113,
   "metadata": {
    "collapsed": true
   },
   "outputs": [],
   "source": [
    "# drop records whose multiple columns have missing value\n",
    "train2.dropna(subset=['ind_empleado', 'pais_residencia'], how='all', inplace = True)"
   ]
  },
  {
   "cell_type": "code",
   "execution_count": 114,
   "metadata": {
    "collapsed": true
   },
   "outputs": [
    {
     "data": {
      "text/html": [
       "<div>\n",
       "<style scoped>\n",
       "    .dataframe tbody tr th:only-of-type {\n",
       "        vertical-align: middle;\n",
       "    }\n",
       "\n",
       "    .dataframe tbody tr th {\n",
       "        vertical-align: top;\n",
       "    }\n",
       "\n",
       "    .dataframe thead th {\n",
       "        text-align: right;\n",
       "    }\n",
       "</style>\n",
       "<table border=\"1\" class=\"dataframe\">\n",
       "  <thead>\n",
       "    <tr style=\"text-align: right;\">\n",
       "      <th></th>\n",
       "      <th>missing</th>\n",
       "      <th>percent</th>\n",
       "    </tr>\n",
       "  </thead>\n",
       "  <tbody>\n",
       "    <tr>\n",
       "      <th>fecha_dato</th>\n",
       "      <td>0</td>\n",
       "      <td>0.000000</td>\n",
       "    </tr>\n",
       "    <tr>\n",
       "      <th>ncodpers</th>\n",
       "      <td>0</td>\n",
       "      <td>0.000000</td>\n",
       "    </tr>\n",
       "    <tr>\n",
       "      <th>ind_empleado</th>\n",
       "      <td>0</td>\n",
       "      <td>0.002032</td>\n",
       "    </tr>\n",
       "    <tr>\n",
       "      <th>pais_residencia</th>\n",
       "      <td>0</td>\n",
       "      <td>0.002032</td>\n",
       "    </tr>\n",
       "    <tr>\n",
       "      <th>sexo</th>\n",
       "      <td>70</td>\n",
       "      <td>0.002037</td>\n",
       "    </tr>\n",
       "    <tr>\n",
       "      <th>age</th>\n",
       "      <td>0</td>\n",
       "      <td>0.000000</td>\n",
       "    </tr>\n",
       "    <tr>\n",
       "      <th>fecha_alta</th>\n",
       "      <td>0</td>\n",
       "      <td>0.002032</td>\n",
       "    </tr>\n",
       "    <tr>\n",
       "      <th>ind_nuevo</th>\n",
       "      <td>0</td>\n",
       "      <td>0.002032</td>\n",
       "    </tr>\n",
       "    <tr>\n",
       "      <th>antiguedad</th>\n",
       "      <td>0</td>\n",
       "      <td>0.000000</td>\n",
       "    </tr>\n",
       "    <tr>\n",
       "      <th>indrel</th>\n",
       "      <td>0</td>\n",
       "      <td>0.002032</td>\n",
       "    </tr>\n",
       "    <tr>\n",
       "      <th>ult_fec_cli_1t</th>\n",
       "      <td>13594782</td>\n",
       "      <td>0.998183</td>\n",
       "    </tr>\n",
       "    <tr>\n",
       "      <th>indrel_1mes</th>\n",
       "      <td>122047</td>\n",
       "      <td>0.010975</td>\n",
       "    </tr>\n",
       "    <tr>\n",
       "      <th>tiprel_1mes</th>\n",
       "      <td>122047</td>\n",
       "      <td>0.010975</td>\n",
       "    </tr>\n",
       "    <tr>\n",
       "      <th>indresi</th>\n",
       "      <td>0</td>\n",
       "      <td>0.002032</td>\n",
       "    </tr>\n",
       "    <tr>\n",
       "      <th>indext</th>\n",
       "      <td>0</td>\n",
       "      <td>0.002032</td>\n",
       "    </tr>\n",
       "    <tr>\n",
       "      <th>conyuemp</th>\n",
       "      <td>13617767</td>\n",
       "      <td>0.999868</td>\n",
       "    </tr>\n",
       "    <tr>\n",
       "      <th>canal_entrada</th>\n",
       "      <td>158392</td>\n",
       "      <td>0.013638</td>\n",
       "    </tr>\n",
       "    <tr>\n",
       "      <th>indfall</th>\n",
       "      <td>0</td>\n",
       "      <td>0.002032</td>\n",
       "    </tr>\n",
       "    <tr>\n",
       "      <th>tipodom</th>\n",
       "      <td>1</td>\n",
       "      <td>0.002032</td>\n",
       "    </tr>\n",
       "    <tr>\n",
       "      <th>cod_prov</th>\n",
       "      <td>65857</td>\n",
       "      <td>0.006858</td>\n",
       "    </tr>\n",
       "    <tr>\n",
       "      <th>nomprov</th>\n",
       "      <td>65857</td>\n",
       "      <td>0.006858</td>\n",
       "    </tr>\n",
       "    <tr>\n",
       "      <th>ind_actividad_cliente</th>\n",
       "      <td>0</td>\n",
       "      <td>0.002032</td>\n",
       "    </tr>\n",
       "    <tr>\n",
       "      <th>renta</th>\n",
       "      <td>2766641</td>\n",
       "      <td>0.204756</td>\n",
       "    </tr>\n",
       "    <tr>\n",
       "      <th>segmento</th>\n",
       "      <td>161634</td>\n",
       "      <td>0.013876</td>\n",
       "    </tr>\n",
       "    <tr>\n",
       "      <th>ind_ahor_fin_ult1</th>\n",
       "      <td>0</td>\n",
       "      <td>0.000000</td>\n",
       "    </tr>\n",
       "    <tr>\n",
       "      <th>ind_aval_fin_ult1</th>\n",
       "      <td>0</td>\n",
       "      <td>0.000000</td>\n",
       "    </tr>\n",
       "    <tr>\n",
       "      <th>ind_cco_fin_ult1</th>\n",
       "      <td>0</td>\n",
       "      <td>0.000000</td>\n",
       "    </tr>\n",
       "    <tr>\n",
       "      <th>ind_cder_fin_ult1</th>\n",
       "      <td>0</td>\n",
       "      <td>0.000000</td>\n",
       "    </tr>\n",
       "    <tr>\n",
       "      <th>ind_cno_fin_ult1</th>\n",
       "      <td>0</td>\n",
       "      <td>0.000000</td>\n",
       "    </tr>\n",
       "    <tr>\n",
       "      <th>ind_ctju_fin_ult1</th>\n",
       "      <td>0</td>\n",
       "      <td>0.000000</td>\n",
       "    </tr>\n",
       "    <tr>\n",
       "      <th>ind_ctma_fin_ult1</th>\n",
       "      <td>0</td>\n",
       "      <td>0.000000</td>\n",
       "    </tr>\n",
       "    <tr>\n",
       "      <th>ind_ctop_fin_ult1</th>\n",
       "      <td>0</td>\n",
       "      <td>0.000000</td>\n",
       "    </tr>\n",
       "    <tr>\n",
       "      <th>ind_ctpp_fin_ult1</th>\n",
       "      <td>0</td>\n",
       "      <td>0.000000</td>\n",
       "    </tr>\n",
       "    <tr>\n",
       "      <th>ind_deco_fin_ult1</th>\n",
       "      <td>0</td>\n",
       "      <td>0.000000</td>\n",
       "    </tr>\n",
       "    <tr>\n",
       "      <th>ind_deme_fin_ult1</th>\n",
       "      <td>0</td>\n",
       "      <td>0.000000</td>\n",
       "    </tr>\n",
       "    <tr>\n",
       "      <th>ind_dela_fin_ult1</th>\n",
       "      <td>0</td>\n",
       "      <td>0.000000</td>\n",
       "    </tr>\n",
       "    <tr>\n",
       "      <th>ind_ecue_fin_ult1</th>\n",
       "      <td>0</td>\n",
       "      <td>0.000000</td>\n",
       "    </tr>\n",
       "    <tr>\n",
       "      <th>ind_fond_fin_ult1</th>\n",
       "      <td>0</td>\n",
       "      <td>0.000000</td>\n",
       "    </tr>\n",
       "    <tr>\n",
       "      <th>ind_hip_fin_ult1</th>\n",
       "      <td>0</td>\n",
       "      <td>0.000000</td>\n",
       "    </tr>\n",
       "    <tr>\n",
       "      <th>ind_plan_fin_ult1</th>\n",
       "      <td>0</td>\n",
       "      <td>0.000000</td>\n",
       "    </tr>\n",
       "    <tr>\n",
       "      <th>ind_pres_fin_ult1</th>\n",
       "      <td>0</td>\n",
       "      <td>0.000000</td>\n",
       "    </tr>\n",
       "    <tr>\n",
       "      <th>ind_reca_fin_ult1</th>\n",
       "      <td>0</td>\n",
       "      <td>0.000000</td>\n",
       "    </tr>\n",
       "    <tr>\n",
       "      <th>ind_tjcr_fin_ult1</th>\n",
       "      <td>0</td>\n",
       "      <td>0.000000</td>\n",
       "    </tr>\n",
       "    <tr>\n",
       "      <th>ind_valo_fin_ult1</th>\n",
       "      <td>0</td>\n",
       "      <td>0.000000</td>\n",
       "    </tr>\n",
       "    <tr>\n",
       "      <th>ind_viv_fin_ult1</th>\n",
       "      <td>0</td>\n",
       "      <td>0.000000</td>\n",
       "    </tr>\n",
       "    <tr>\n",
       "      <th>ind_nomina_ult1</th>\n",
       "      <td>217</td>\n",
       "      <td>0.001177</td>\n",
       "    </tr>\n",
       "    <tr>\n",
       "      <th>ind_nom_pens_ult1</th>\n",
       "      <td>217</td>\n",
       "      <td>0.001177</td>\n",
       "    </tr>\n",
       "    <tr>\n",
       "      <th>ind_recibo_ult1</th>\n",
       "      <td>0</td>\n",
       "      <td>0.000000</td>\n",
       "    </tr>\n",
       "  </tbody>\n",
       "</table>\n",
       "</div>"
      ],
      "text/plain": [
       "                        missing   percent\n",
       "fecha_dato                    0  0.000000\n",
       "ncodpers                      0  0.000000\n",
       "ind_empleado                  0  0.002032\n",
       "pais_residencia               0  0.002032\n",
       "sexo                         70  0.002037\n",
       "age                           0  0.000000\n",
       "fecha_alta                    0  0.002032\n",
       "ind_nuevo                     0  0.002032\n",
       "antiguedad                    0  0.000000\n",
       "indrel                        0  0.002032\n",
       "ult_fec_cli_1t         13594782  0.998183\n",
       "indrel_1mes              122047  0.010975\n",
       "tiprel_1mes              122047  0.010975\n",
       "indresi                       0  0.002032\n",
       "indext                        0  0.002032\n",
       "conyuemp               13617767  0.999868\n",
       "canal_entrada            158392  0.013638\n",
       "indfall                       0  0.002032\n",
       "tipodom                       1  0.002032\n",
       "cod_prov                  65857  0.006858\n",
       "nomprov                   65857  0.006858\n",
       "ind_actividad_cliente         0  0.002032\n",
       "renta                   2766641  0.204756\n",
       "segmento                 161634  0.013876\n",
       "ind_ahor_fin_ult1             0  0.000000\n",
       "ind_aval_fin_ult1             0  0.000000\n",
       "ind_cco_fin_ult1              0  0.000000\n",
       "ind_cder_fin_ult1             0  0.000000\n",
       "ind_cno_fin_ult1              0  0.000000\n",
       "ind_ctju_fin_ult1             0  0.000000\n",
       "ind_ctma_fin_ult1             0  0.000000\n",
       "ind_ctop_fin_ult1             0  0.000000\n",
       "ind_ctpp_fin_ult1             0  0.000000\n",
       "ind_deco_fin_ult1             0  0.000000\n",
       "ind_deme_fin_ult1             0  0.000000\n",
       "ind_dela_fin_ult1             0  0.000000\n",
       "ind_ecue_fin_ult1             0  0.000000\n",
       "ind_fond_fin_ult1             0  0.000000\n",
       "ind_hip_fin_ult1              0  0.000000\n",
       "ind_plan_fin_ult1             0  0.000000\n",
       "ind_pres_fin_ult1             0  0.000000\n",
       "ind_reca_fin_ult1             0  0.000000\n",
       "ind_tjcr_fin_ult1             0  0.000000\n",
       "ind_valo_fin_ult1             0  0.000000\n",
       "ind_viv_fin_ult1              0  0.000000\n",
       "ind_nomina_ult1             217  0.001177\n",
       "ind_nom_pens_ult1           217  0.001177\n",
       "ind_recibo_ult1               0  0.000000"
      ]
     },
     "execution_count": 114,
     "metadata": {},
     "output_type": "execute_result"
    }
   ],
   "source": [
    "na_check2 = pd.Series.to_frame(train2.isnull().sum())\n",
    "na_check2.columns = ['missing']\n",
    "na_check2['percent'] = na_check['missing']/train.shape[0]\n",
    "na_check2"
   ]
  },
  {
   "cell_type": "markdown",
   "metadata": {},
   "source": [
    "#### training set"
   ]
  },
  {
   "cell_type": "markdown",
   "metadata": {},
   "source": [
    "##### sex"
   ]
  },
  {
   "cell_type": "code",
   "execution_count": 115,
   "metadata": {
    "collapsed": true
   },
   "outputs": [],
   "source": [
    "train2['sexo'].fillna(train2['sexo'].mode()[0], inplace=True)"
   ]
  },
  {
   "cell_type": "markdown",
   "metadata": {},
   "source": [
    "##### ult_fec_cli_1t"
   ]
  },
  {
   "cell_type": "code",
   "execution_count": 116,
   "metadata": {
    "scrolled": false
   },
   "outputs": [
    {
     "data": {
      "text/plain": [
       "1.0    13594782\n",
       "Name: indrel, dtype: int64"
      ]
     },
     "execution_count": 116,
     "metadata": {},
     "output_type": "execute_result"
    }
   ],
   "source": [
    "train2[train2.ult_fec_cli_1t.isnull()].indrel.value_counts()"
   ]
  },
  {
   "cell_type": "markdown",
   "metadata": {},
   "source": [
    "customers who are still primary don't have 'ult_fec_cli_1t' value."
   ]
  },
  {
   "cell_type": "code",
   "execution_count": 117,
   "metadata": {
    "collapsed": true
   },
   "outputs": [],
   "source": [
    "# if ult_fec_cli_1t value is missing, the customer is still primary, so I assign value 1\n",
    "train2['ult_primary'] = np.where(train2['ult_fec_cli_1t'].isnull(), 1, 0)\n",
    "train2.drop(columns = ['ult_fec_cli_1t'], inplace = True)"
   ]
  },
  {
   "cell_type": "markdown",
   "metadata": {},
   "source": [
    "##### indrel_1mes"
   ]
  },
  {
   "cell_type": "code",
   "execution_count": 118,
   "metadata": {},
   "outputs": [
    {
     "data": {
      "text/plain": [
       "1.0    7277607\n",
       "1.0    4017746\n",
       "1      2195328\n",
       "3.0       1804\n",
       "3.0       1409\n",
       "3         1137\n",
       "P          874\n",
       "2          483\n",
       "2.0        479\n",
       "2.0        355\n",
       "4.0        143\n",
       "4.0         93\n",
       "4           70\n",
       "Name: indrel_1mes, dtype: int64"
      ]
     },
     "execution_count": 118,
     "metadata": {},
     "output_type": "execute_result"
    }
   ],
   "source": [
    "train2['indrel_1mes'].value_counts()"
   ]
  },
  {
   "cell_type": "code",
   "execution_count": 119,
   "metadata": {
    "collapsed": true
   },
   "outputs": [
    {
     "name": "stderr",
     "output_type": "stream",
     "text": [
      "/Users/mengruiyin/anaconda/lib/python2.7/site-packages/ipykernel/__main__.py:1: SettingWithCopyWarning: \n",
      "A value is trying to be set on a copy of a slice from a DataFrame\n",
      "\n",
      "See the caveats in the documentation: http://pandas.pydata.org/pandas-docs/stable/indexing.html#indexing-view-versus-copy\n",
      "  if __name__ == '__main__':\n",
      "/Users/mengruiyin/anaconda/lib/python2.7/site-packages/ipykernel/__main__.py:2: SettingWithCopyWarning: \n",
      "A value is trying to be set on a copy of a slice from a DataFrame\n",
      "\n",
      "See the caveats in the documentation: http://pandas.pydata.org/pandas-docs/stable/indexing.html#indexing-view-versus-copy\n",
      "  from ipykernel import kernelapp as app\n",
      "/Users/mengruiyin/anaconda/lib/python2.7/site-packages/ipykernel/__main__.py:3: SettingWithCopyWarning: \n",
      "A value is trying to be set on a copy of a slice from a DataFrame\n",
      "\n",
      "See the caveats in the documentation: http://pandas.pydata.org/pandas-docs/stable/indexing.html#indexing-view-versus-copy\n",
      "  app.launch_new_instance()\n",
      "/Users/mengruiyin/anaconda/lib/python2.7/site-packages/ipykernel/__main__.py:4: SettingWithCopyWarning: \n",
      "A value is trying to be set on a copy of a slice from a DataFrame\n",
      "\n",
      "See the caveats in the documentation: http://pandas.pydata.org/pandas-docs/stable/indexing.html#indexing-view-versus-copy\n"
     ]
    }
   ],
   "source": [
    "train2.indrel_1mes[(train2.indrel_1mes == '1.0') | (train2.indrel_1mes == '1')] = 1.0\n",
    "train2.indrel_1mes[(train2.indrel_1mes == '2.0') | (train2.indrel_1mes == '2')] = 2.0\n",
    "train2.indrel_1mes[(train2.indrel_1mes == '3.0') | (train2.indrel_1mes == '3')] = 3.0\n",
    "train2.indrel_1mes[(train2.indrel_1mes == '4.0') | (train2.indrel_1mes == '4')] = 4.0"
   ]
  },
  {
   "cell_type": "code",
   "execution_count": 120,
   "metadata": {
    "scrolled": true
   },
   "outputs": [
    {
     "data": {
      "text/plain": [
       "1.0    13490681\n",
       "3.0        4350\n",
       "2.0        1317\n",
       "P           874\n",
       "4.0         306\n",
       "Name: indrel_1mes, dtype: int64"
      ]
     },
     "execution_count": 120,
     "metadata": {},
     "output_type": "execute_result"
    }
   ],
   "source": [
    "train2['indrel_1mes'].value_counts()"
   ]
  },
  {
   "cell_type": "code",
   "execution_count": 121,
   "metadata": {
    "collapsed": true
   },
   "outputs": [],
   "source": [
    "train2['indrel_1mes'].fillna(train2['indrel_1mes'].mode()[0], inplace=True)"
   ]
  },
  {
   "cell_type": "markdown",
   "metadata": {},
   "source": [
    "##### tiprel_1mes"
   ]
  },
  {
   "cell_type": "code",
   "execution_count": 122,
   "metadata": {},
   "outputs": [
    {
     "data": {
      "text/plain": [
       "I    7304875\n",
       "A    6187123\n",
       "P       4656\n",
       "R        870\n",
       "N          4\n",
       "Name: tiprel_1mes, dtype: int64"
      ]
     },
     "execution_count": 122,
     "metadata": {},
     "output_type": "execute_result"
    }
   ],
   "source": [
    "train2.tiprel_1mes.value_counts()"
   ]
  },
  {
   "cell_type": "code",
   "execution_count": 123,
   "metadata": {
    "collapsed": true
   },
   "outputs": [],
   "source": [
    "train2['tiprel_1mes'].fillna(train2['tiprel_1mes'].mode()[0], inplace=True)"
   ]
  },
  {
   "cell_type": "markdown",
   "metadata": {},
   "source": [
    "##### conyuemp"
   ]
  },
  {
   "cell_type": "code",
   "execution_count": 124,
   "metadata": {
    "collapsed": true
   },
   "outputs": [],
   "source": [
    "train2['conyuemp'] = train2['conyuemp'].fillna('unknown')"
   ]
  },
  {
   "cell_type": "markdown",
   "metadata": {},
   "source": [
    "##### canal"
   ]
  },
  {
   "cell_type": "code",
   "execution_count": 125,
   "metadata": {
    "collapsed": true
   },
   "outputs": [
    {
     "data": {
      "text/plain": [
       "KHE    4055270\n",
       "KAT    3268209\n",
       "KFC    3098360\n",
       "KHQ     591039\n",
       "KFA     409669\n",
       "KHK     241084\n",
       "KHM     183924\n",
       "KHD     116891\n",
       "KHN     116608\n",
       "KAS      86221\n",
       "RED      75607\n",
       "KAG      74295\n",
       "KAY      67350\n",
       "KAA      66656\n",
       "KAB      62381\n",
       "KAE      50764\n",
       "KCC      49308\n",
       "KBZ      46446\n",
       "KHL      45128\n",
       "KFD      44461\n",
       "KAI      37699\n",
       "KEY      35146\n",
       "KAW      34275\n",
       "KAR      32686\n",
       "KAZ      32186\n",
       "KAF      30559\n",
       "007      29063\n",
       "013      27139\n",
       "KCI      26546\n",
       "KAH      24875\n",
       "KAJ      24280\n",
       "KCH      24098\n",
       "KHF      20674\n",
       "KAQ      18017\n",
       "KHC      16418\n",
       "KAP      14928\n",
       "KAM      11285\n",
       "KAD      10680\n",
       "KFP       9487\n",
       "KGX       9474\n",
       "KEJ       9247\n",
       "KHO       8992\n",
       "KGV       8950\n",
       "KDR       8050\n",
       "KFT       8036\n",
       "KAC       7697\n",
       "KAL       7573\n",
       "KBO       7380\n",
       "KBH       7197\n",
       "KFG       6800\n",
       "KFS       6694\n",
       "KAO       6676\n",
       "KFJ       6620\n",
       "KES       5904\n",
       "KEW       5687\n",
       "KFF       5529\n",
       "KCG       5399\n",
       "KCB       5187\n",
       "KEN       4917\n",
       "KFU       4914\n",
       "KFN       4520\n",
       "KCL       4187\n",
       "KBQ       4179\n",
       "KGY       4138\n",
       "KFK       3913\n",
       "KFL       3806\n",
       "KBF       3760\n",
       "KCD       3276\n",
       "KCM       3251\n",
       "KBU       3127\n",
       "KED       3011\n",
       "KDU       2588\n",
       "KFH       2579\n",
       "KEL       2483\n",
       "KDM       2468\n",
       "KEZ       2433\n",
       "KDY       1960\n",
       "KDS       1924\n",
       "KEG       1895\n",
       "KBR       1875\n",
       "KDO       1763\n",
       "KDX       1728\n",
       "KBG       1725\n",
       "KEH       1546\n",
       "KDC       1531\n",
       "KCA       1530\n",
       "KAN       1370\n",
       "KDT       1299\n",
       "KBB       1298\n",
       "KBW       1130\n",
       "KCN       1117\n",
       "KDQ       1112\n",
       "KCU       1081\n",
       "KDP       1001\n",
       "KGW        989\n",
       "KCK        957\n",
       "KEI        944\n",
       "KBV        896\n",
       "KFI        881\n",
       "KEA        851\n",
       "KEO        850\n",
       "KEV        844\n",
       "KAK        838\n",
       "KDE        828\n",
       "KDW        772\n",
       "KDF        726\n",
       "KBS        714\n",
       "KHP        691\n",
       "KBY        642\n",
       "KBL        575\n",
       "KBM        555\n",
       "KEK        542\n",
       "KDD        534\n",
       "KDZ        531\n",
       "KBJ        519\n",
       "KDG        469\n",
       "KDV        427\n",
       "KCF        420\n",
       "KDA        379\n",
       "KFM        371\n",
       "KFR        371\n",
       "KEB        370\n",
       "KEF        329\n",
       "KCE        309\n",
       "KEU        265\n",
       "KFE        250\n",
       "KAU        249\n",
       "KBD        241\n",
       "KCS        236\n",
       "KEC        231\n",
       "KCV        229\n",
       "KCJ        215\n",
       "004        210\n",
       "KCQ        198\n",
       "KDN        197\n",
       "KCR        196\n",
       "KDH        191\n",
       "KCO        179\n",
       "KEE        175\n",
       "KCP        158\n",
       "K00        152\n",
       "KBE        147\n",
       "KEQ        146\n",
       "KAV        107\n",
       "KFB        107\n",
       "KCT        105\n",
       "KBX        102\n",
       "KBP         85\n",
       "KEM         68\n",
       "KFV         67\n",
       "KCX         67\n",
       "KBN         61\n",
       "KHA         51\n",
       "KGU         28\n",
       "KGC         28\n",
       "KDB         17\n",
       "KGN         17\n",
       "KDI         17\n",
       "KDL         11\n",
       "025         11\n",
       "KHS          5\n",
       "KHR          1\n",
       "Name: canal_entrada, dtype: int64"
      ]
     },
     "execution_count": 125,
     "metadata": {},
     "output_type": "execute_result"
    }
   ],
   "source": [
    "train2['canal_entrada'].value_counts()"
   ]
  },
  {
   "cell_type": "code",
   "execution_count": 126,
   "metadata": {
    "collapsed": true
   },
   "outputs": [],
   "source": [
    "train2['canal_entrada'] = train2['canal_entrada'].fillna('unknown')"
   ]
  },
  {
   "cell_type": "markdown",
   "metadata": {},
   "source": [
    "##### province"
   ]
  },
  {
   "cell_type": "code",
   "execution_count": 127,
   "metadata": {
    "collapsed": true
   },
   "outputs": [],
   "source": [
    "train2.drop(columns = 'cod_prov', inplace = True)"
   ]
  },
  {
   "cell_type": "code",
   "execution_count": 128,
   "metadata": {
    "collapsed": true
   },
   "outputs": [],
   "source": [
    "train2['nomprov'].fillna(train2['nomprov'].mode()[0], inplace=True)"
   ]
  },
  {
   "cell_type": "markdown",
   "metadata": {},
   "source": [
    "##### renta"
   ]
  },
  {
   "cell_type": "code",
   "execution_count": 129,
   "metadata": {},
   "outputs": [
    {
     "data": {
      "text/plain": [
       "count    1.085293e+07\n",
       "mean     1.342543e+05\n",
       "std      2.306202e+05\n",
       "min      1.202730e+03\n",
       "25%      6.871098e+04\n",
       "50%      1.018500e+05\n",
       "75%      1.559560e+05\n",
       "max      2.889440e+07\n",
       "Name: renta, dtype: float64"
      ]
     },
     "execution_count": 129,
     "metadata": {},
     "output_type": "execute_result"
    }
   ],
   "source": [
    "train2['renta'].describe()"
   ]
  },
  {
   "cell_type": "code",
   "execution_count": 130,
   "metadata": {
    "collapsed": true
   },
   "outputs": [],
   "source": [
    "train2.loc[train2['renta'].isnull(), 'renta'] = train2.groupby(['nomprov']).renta.transform('median')"
   ]
  },
  {
   "cell_type": "markdown",
   "metadata": {},
   "source": [
    "##### segmento"
   ]
  },
  {
   "cell_type": "code",
   "execution_count": 131,
   "metadata": {},
   "outputs": [
    {
     "data": {
      "text/plain": [
       "segmento\n",
       "01 - TOP              136712.07\n",
       "02 - PARTICULARES     102451.71\n",
       "03 - UNIVERSITARIO     89225.91\n",
       "Name: renta, dtype: float64"
      ]
     },
     "execution_count": 131,
     "metadata": {},
     "output_type": "execute_result"
    }
   ],
   "source": [
    "train2.groupby(['segmento'])['renta'].median()"
   ]
  },
  {
   "cell_type": "code",
   "execution_count": 132,
   "metadata": {},
   "outputs": [
    {
     "data": {
      "text/plain": [
       "95838"
      ]
     },
     "execution_count": 132,
     "metadata": {},
     "output_type": "execute_result"
    }
   ],
   "source": [
    "(102451 - 89225)/2 + 89225"
   ]
  },
  {
   "cell_type": "code",
   "execution_count": 133,
   "metadata": {},
   "outputs": [
    {
     "data": {
      "text/plain": [
       "119581"
      ]
     },
     "execution_count": 133,
     "metadata": {},
     "output_type": "execute_result"
    }
   ],
   "source": [
    "(136712 - 102451)/2 +  102451"
   ]
  },
  {
   "cell_type": "code",
   "execution_count": 134,
   "metadata": {
    "collapsed": true
   },
   "outputs": [],
   "source": [
    "train2['segmento'] = train2[train2.renta < 95838]['segmento'].fillna(\"03 - UNIVERSITARIO\")\n",
    "train2['segmento'] = train2[train2.renta < 119581]['segmento'].fillna(\"02 - PARTICULARES\")"
   ]
  },
  {
   "cell_type": "code",
   "execution_count": 135,
   "metadata": {
    "collapsed": true
   },
   "outputs": [],
   "source": [
    "train2['segmento'] = train2['segmento'].fillna(\"01 - TOP\")"
   ]
  },
  {
   "cell_type": "markdown",
   "metadata": {},
   "source": [
    "##### products"
   ]
  },
  {
   "cell_type": "code",
   "execution_count": 136,
   "metadata": {
    "collapsed": true
   },
   "outputs": [],
   "source": [
    "train2['ind_nomina_ult1'].fillna(0, inplace = True)"
   ]
  },
  {
   "cell_type": "code",
   "execution_count": 137,
   "metadata": {
    "collapsed": true
   },
   "outputs": [],
   "source": [
    "train2['ind_nom_pens_ult1'].fillna(0, inplace = True)"
   ]
  },
  {
   "cell_type": "markdown",
   "metadata": {},
   "source": [
    "##### tipdom"
   ]
  },
  {
   "cell_type": "code",
   "execution_count": 138,
   "metadata": {
    "collapsed": true,
    "scrolled": true
   },
   "outputs": [],
   "source": [
    "train2.drop(columns = 'tipodom', inplace = True)"
   ]
  },
  {
   "cell_type": "code",
   "execution_count": 139,
   "metadata": {
    "scrolled": true
   },
   "outputs": [
    {
     "data": {
      "text/html": [
       "<div>\n",
       "<style scoped>\n",
       "    .dataframe tbody tr th:only-of-type {\n",
       "        vertical-align: middle;\n",
       "    }\n",
       "\n",
       "    .dataframe tbody tr th {\n",
       "        vertical-align: top;\n",
       "    }\n",
       "\n",
       "    .dataframe thead th {\n",
       "        text-align: right;\n",
       "    }\n",
       "</style>\n",
       "<table border=\"1\" class=\"dataframe\">\n",
       "  <thead>\n",
       "    <tr style=\"text-align: right;\">\n",
       "      <th></th>\n",
       "      <th>missing</th>\n",
       "      <th>percent</th>\n",
       "    </tr>\n",
       "  </thead>\n",
       "  <tbody>\n",
       "    <tr>\n",
       "      <th>fecha_dato</th>\n",
       "      <td>0</td>\n",
       "      <td>0.0</td>\n",
       "    </tr>\n",
       "    <tr>\n",
       "      <th>ncodpers</th>\n",
       "      <td>0</td>\n",
       "      <td>0.0</td>\n",
       "    </tr>\n",
       "    <tr>\n",
       "      <th>ind_empleado</th>\n",
       "      <td>0</td>\n",
       "      <td>0.0</td>\n",
       "    </tr>\n",
       "    <tr>\n",
       "      <th>pais_residencia</th>\n",
       "      <td>0</td>\n",
       "      <td>0.0</td>\n",
       "    </tr>\n",
       "    <tr>\n",
       "      <th>sexo</th>\n",
       "      <td>0</td>\n",
       "      <td>0.0</td>\n",
       "    </tr>\n",
       "    <tr>\n",
       "      <th>age</th>\n",
       "      <td>0</td>\n",
       "      <td>0.0</td>\n",
       "    </tr>\n",
       "    <tr>\n",
       "      <th>fecha_alta</th>\n",
       "      <td>0</td>\n",
       "      <td>0.0</td>\n",
       "    </tr>\n",
       "    <tr>\n",
       "      <th>ind_nuevo</th>\n",
       "      <td>0</td>\n",
       "      <td>0.0</td>\n",
       "    </tr>\n",
       "    <tr>\n",
       "      <th>antiguedad</th>\n",
       "      <td>0</td>\n",
       "      <td>0.0</td>\n",
       "    </tr>\n",
       "    <tr>\n",
       "      <th>indrel</th>\n",
       "      <td>0</td>\n",
       "      <td>0.0</td>\n",
       "    </tr>\n",
       "    <tr>\n",
       "      <th>indrel_1mes</th>\n",
       "      <td>0</td>\n",
       "      <td>0.0</td>\n",
       "    </tr>\n",
       "    <tr>\n",
       "      <th>tiprel_1mes</th>\n",
       "      <td>0</td>\n",
       "      <td>0.0</td>\n",
       "    </tr>\n",
       "    <tr>\n",
       "      <th>indresi</th>\n",
       "      <td>0</td>\n",
       "      <td>0.0</td>\n",
       "    </tr>\n",
       "    <tr>\n",
       "      <th>indext</th>\n",
       "      <td>0</td>\n",
       "      <td>0.0</td>\n",
       "    </tr>\n",
       "    <tr>\n",
       "      <th>conyuemp</th>\n",
       "      <td>0</td>\n",
       "      <td>0.0</td>\n",
       "    </tr>\n",
       "    <tr>\n",
       "      <th>canal_entrada</th>\n",
       "      <td>0</td>\n",
       "      <td>0.0</td>\n",
       "    </tr>\n",
       "    <tr>\n",
       "      <th>indfall</th>\n",
       "      <td>0</td>\n",
       "      <td>0.0</td>\n",
       "    </tr>\n",
       "    <tr>\n",
       "      <th>nomprov</th>\n",
       "      <td>0</td>\n",
       "      <td>0.0</td>\n",
       "    </tr>\n",
       "    <tr>\n",
       "      <th>ind_actividad_cliente</th>\n",
       "      <td>0</td>\n",
       "      <td>0.0</td>\n",
       "    </tr>\n",
       "    <tr>\n",
       "      <th>renta</th>\n",
       "      <td>0</td>\n",
       "      <td>0.0</td>\n",
       "    </tr>\n",
       "    <tr>\n",
       "      <th>segmento</th>\n",
       "      <td>0</td>\n",
       "      <td>0.0</td>\n",
       "    </tr>\n",
       "    <tr>\n",
       "      <th>ind_ahor_fin_ult1</th>\n",
       "      <td>0</td>\n",
       "      <td>0.0</td>\n",
       "    </tr>\n",
       "    <tr>\n",
       "      <th>ind_aval_fin_ult1</th>\n",
       "      <td>0</td>\n",
       "      <td>0.0</td>\n",
       "    </tr>\n",
       "    <tr>\n",
       "      <th>ind_cco_fin_ult1</th>\n",
       "      <td>0</td>\n",
       "      <td>0.0</td>\n",
       "    </tr>\n",
       "    <tr>\n",
       "      <th>ind_cder_fin_ult1</th>\n",
       "      <td>0</td>\n",
       "      <td>0.0</td>\n",
       "    </tr>\n",
       "    <tr>\n",
       "      <th>ind_cno_fin_ult1</th>\n",
       "      <td>0</td>\n",
       "      <td>0.0</td>\n",
       "    </tr>\n",
       "    <tr>\n",
       "      <th>ind_ctju_fin_ult1</th>\n",
       "      <td>0</td>\n",
       "      <td>0.0</td>\n",
       "    </tr>\n",
       "    <tr>\n",
       "      <th>ind_ctma_fin_ult1</th>\n",
       "      <td>0</td>\n",
       "      <td>0.0</td>\n",
       "    </tr>\n",
       "    <tr>\n",
       "      <th>ind_ctop_fin_ult1</th>\n",
       "      <td>0</td>\n",
       "      <td>0.0</td>\n",
       "    </tr>\n",
       "    <tr>\n",
       "      <th>ind_ctpp_fin_ult1</th>\n",
       "      <td>0</td>\n",
       "      <td>0.0</td>\n",
       "    </tr>\n",
       "    <tr>\n",
       "      <th>ind_deco_fin_ult1</th>\n",
       "      <td>0</td>\n",
       "      <td>0.0</td>\n",
       "    </tr>\n",
       "    <tr>\n",
       "      <th>ind_deme_fin_ult1</th>\n",
       "      <td>0</td>\n",
       "      <td>0.0</td>\n",
       "    </tr>\n",
       "    <tr>\n",
       "      <th>ind_dela_fin_ult1</th>\n",
       "      <td>0</td>\n",
       "      <td>0.0</td>\n",
       "    </tr>\n",
       "    <tr>\n",
       "      <th>ind_ecue_fin_ult1</th>\n",
       "      <td>0</td>\n",
       "      <td>0.0</td>\n",
       "    </tr>\n",
       "    <tr>\n",
       "      <th>ind_fond_fin_ult1</th>\n",
       "      <td>0</td>\n",
       "      <td>0.0</td>\n",
       "    </tr>\n",
       "    <tr>\n",
       "      <th>ind_hip_fin_ult1</th>\n",
       "      <td>0</td>\n",
       "      <td>0.0</td>\n",
       "    </tr>\n",
       "    <tr>\n",
       "      <th>ind_plan_fin_ult1</th>\n",
       "      <td>0</td>\n",
       "      <td>0.0</td>\n",
       "    </tr>\n",
       "    <tr>\n",
       "      <th>ind_pres_fin_ult1</th>\n",
       "      <td>0</td>\n",
       "      <td>0.0</td>\n",
       "    </tr>\n",
       "    <tr>\n",
       "      <th>ind_reca_fin_ult1</th>\n",
       "      <td>0</td>\n",
       "      <td>0.0</td>\n",
       "    </tr>\n",
       "    <tr>\n",
       "      <th>ind_tjcr_fin_ult1</th>\n",
       "      <td>0</td>\n",
       "      <td>0.0</td>\n",
       "    </tr>\n",
       "    <tr>\n",
       "      <th>ind_valo_fin_ult1</th>\n",
       "      <td>0</td>\n",
       "      <td>0.0</td>\n",
       "    </tr>\n",
       "    <tr>\n",
       "      <th>ind_viv_fin_ult1</th>\n",
       "      <td>0</td>\n",
       "      <td>0.0</td>\n",
       "    </tr>\n",
       "    <tr>\n",
       "      <th>ind_nomina_ult1</th>\n",
       "      <td>0</td>\n",
       "      <td>0.0</td>\n",
       "    </tr>\n",
       "    <tr>\n",
       "      <th>ind_nom_pens_ult1</th>\n",
       "      <td>0</td>\n",
       "      <td>0.0</td>\n",
       "    </tr>\n",
       "    <tr>\n",
       "      <th>ind_recibo_ult1</th>\n",
       "      <td>0</td>\n",
       "      <td>0.0</td>\n",
       "    </tr>\n",
       "    <tr>\n",
       "      <th>ult_primary</th>\n",
       "      <td>0</td>\n",
       "      <td>0.0</td>\n",
       "    </tr>\n",
       "  </tbody>\n",
       "</table>\n",
       "</div>"
      ],
      "text/plain": [
       "                       missing  percent\n",
       "fecha_dato                   0      0.0\n",
       "ncodpers                     0      0.0\n",
       "ind_empleado                 0      0.0\n",
       "pais_residencia              0      0.0\n",
       "sexo                         0      0.0\n",
       "age                          0      0.0\n",
       "fecha_alta                   0      0.0\n",
       "ind_nuevo                    0      0.0\n",
       "antiguedad                   0      0.0\n",
       "indrel                       0      0.0\n",
       "indrel_1mes                  0      0.0\n",
       "tiprel_1mes                  0      0.0\n",
       "indresi                      0      0.0\n",
       "indext                       0      0.0\n",
       "conyuemp                     0      0.0\n",
       "canal_entrada                0      0.0\n",
       "indfall                      0      0.0\n",
       "nomprov                      0      0.0\n",
       "ind_actividad_cliente        0      0.0\n",
       "renta                        0      0.0\n",
       "segmento                     0      0.0\n",
       "ind_ahor_fin_ult1            0      0.0\n",
       "ind_aval_fin_ult1            0      0.0\n",
       "ind_cco_fin_ult1             0      0.0\n",
       "ind_cder_fin_ult1            0      0.0\n",
       "ind_cno_fin_ult1             0      0.0\n",
       "ind_ctju_fin_ult1            0      0.0\n",
       "ind_ctma_fin_ult1            0      0.0\n",
       "ind_ctop_fin_ult1            0      0.0\n",
       "ind_ctpp_fin_ult1            0      0.0\n",
       "ind_deco_fin_ult1            0      0.0\n",
       "ind_deme_fin_ult1            0      0.0\n",
       "ind_dela_fin_ult1            0      0.0\n",
       "ind_ecue_fin_ult1            0      0.0\n",
       "ind_fond_fin_ult1            0      0.0\n",
       "ind_hip_fin_ult1             0      0.0\n",
       "ind_plan_fin_ult1            0      0.0\n",
       "ind_pres_fin_ult1            0      0.0\n",
       "ind_reca_fin_ult1            0      0.0\n",
       "ind_tjcr_fin_ult1            0      0.0\n",
       "ind_valo_fin_ult1            0      0.0\n",
       "ind_viv_fin_ult1             0      0.0\n",
       "ind_nomina_ult1              0      0.0\n",
       "ind_nom_pens_ult1            0      0.0\n",
       "ind_recibo_ult1              0      0.0\n",
       "ult_primary                  0      0.0"
      ]
     },
     "execution_count": 139,
     "metadata": {},
     "output_type": "execute_result"
    }
   ],
   "source": [
    "na_check3 = pd.Series.to_frame(train2.isnull().sum())\n",
    "na_check3.columns = ['missing']\n",
    "na_check3['percent'] = na_check3['missing']/train2.shape[0]\n",
    "na_check3"
   ]
  },
  {
   "cell_type": "markdown",
   "metadata": {},
   "source": [
    "#### testing set"
   ]
  },
  {
   "cell_type": "code",
   "execution_count": 140,
   "metadata": {
    "scrolled": true
   },
   "outputs": [
    {
     "data": {
      "text/html": [
       "<div>\n",
       "<style scoped>\n",
       "    .dataframe tbody tr th:only-of-type {\n",
       "        vertical-align: middle;\n",
       "    }\n",
       "\n",
       "    .dataframe tbody tr th {\n",
       "        vertical-align: top;\n",
       "    }\n",
       "\n",
       "    .dataframe thead th {\n",
       "        text-align: right;\n",
       "    }\n",
       "</style>\n",
       "<table border=\"1\" class=\"dataframe\">\n",
       "  <thead>\n",
       "    <tr style=\"text-align: right;\">\n",
       "      <th></th>\n",
       "      <th>missing</th>\n",
       "      <th>percent</th>\n",
       "    </tr>\n",
       "  </thead>\n",
       "  <tbody>\n",
       "    <tr>\n",
       "      <th>fecha_dato</th>\n",
       "      <td>0</td>\n",
       "      <td>0.000000</td>\n",
       "    </tr>\n",
       "    <tr>\n",
       "      <th>ncodpers</th>\n",
       "      <td>0</td>\n",
       "      <td>0.000000</td>\n",
       "    </tr>\n",
       "    <tr>\n",
       "      <th>ind_empleado</th>\n",
       "      <td>0</td>\n",
       "      <td>0.000000</td>\n",
       "    </tr>\n",
       "    <tr>\n",
       "      <th>pais_residencia</th>\n",
       "      <td>0</td>\n",
       "      <td>0.000000</td>\n",
       "    </tr>\n",
       "    <tr>\n",
       "      <th>sexo</th>\n",
       "      <td>5</td>\n",
       "      <td>0.000005</td>\n",
       "    </tr>\n",
       "    <tr>\n",
       "      <th>age</th>\n",
       "      <td>0</td>\n",
       "      <td>0.000000</td>\n",
       "    </tr>\n",
       "    <tr>\n",
       "      <th>fecha_alta</th>\n",
       "      <td>0</td>\n",
       "      <td>0.000000</td>\n",
       "    </tr>\n",
       "    <tr>\n",
       "      <th>ind_nuevo</th>\n",
       "      <td>0</td>\n",
       "      <td>0.000000</td>\n",
       "    </tr>\n",
       "    <tr>\n",
       "      <th>antiguedad</th>\n",
       "      <td>0</td>\n",
       "      <td>0.000000</td>\n",
       "    </tr>\n",
       "    <tr>\n",
       "      <th>indrel</th>\n",
       "      <td>0</td>\n",
       "      <td>0.000000</td>\n",
       "    </tr>\n",
       "    <tr>\n",
       "      <th>ult_fec_cli_1t</th>\n",
       "      <td>927932</td>\n",
       "      <td>0.998190</td>\n",
       "    </tr>\n",
       "    <tr>\n",
       "      <th>indrel_1mes</th>\n",
       "      <td>23</td>\n",
       "      <td>0.000025</td>\n",
       "    </tr>\n",
       "    <tr>\n",
       "      <th>tiprel_1mes</th>\n",
       "      <td>23</td>\n",
       "      <td>0.000025</td>\n",
       "    </tr>\n",
       "    <tr>\n",
       "      <th>indresi</th>\n",
       "      <td>0</td>\n",
       "      <td>0.000000</td>\n",
       "    </tr>\n",
       "    <tr>\n",
       "      <th>indext</th>\n",
       "      <td>0</td>\n",
       "      <td>0.000000</td>\n",
       "    </tr>\n",
       "    <tr>\n",
       "      <th>conyuemp</th>\n",
       "      <td>929511</td>\n",
       "      <td>0.999888</td>\n",
       "    </tr>\n",
       "    <tr>\n",
       "      <th>canal_entrada</th>\n",
       "      <td>2081</td>\n",
       "      <td>0.002239</td>\n",
       "    </tr>\n",
       "    <tr>\n",
       "      <th>indfall</th>\n",
       "      <td>0</td>\n",
       "      <td>0.000000</td>\n",
       "    </tr>\n",
       "    <tr>\n",
       "      <th>tipodom</th>\n",
       "      <td>0</td>\n",
       "      <td>0.000000</td>\n",
       "    </tr>\n",
       "    <tr>\n",
       "      <th>cod_prov</th>\n",
       "      <td>3996</td>\n",
       "      <td>0.004299</td>\n",
       "    </tr>\n",
       "    <tr>\n",
       "      <th>nomprov</th>\n",
       "      <td>3996</td>\n",
       "      <td>0.004299</td>\n",
       "    </tr>\n",
       "    <tr>\n",
       "      <th>ind_actividad_cliente</th>\n",
       "      <td>0</td>\n",
       "      <td>0.000000</td>\n",
       "    </tr>\n",
       "    <tr>\n",
       "      <th>renta</th>\n",
       "      <td>0</td>\n",
       "      <td>0.000000</td>\n",
       "    </tr>\n",
       "    <tr>\n",
       "      <th>segmento</th>\n",
       "      <td>2248</td>\n",
       "      <td>0.002418</td>\n",
       "    </tr>\n",
       "  </tbody>\n",
       "</table>\n",
       "</div>"
      ],
      "text/plain": [
       "                       missing   percent\n",
       "fecha_dato                   0  0.000000\n",
       "ncodpers                     0  0.000000\n",
       "ind_empleado                 0  0.000000\n",
       "pais_residencia              0  0.000000\n",
       "sexo                         5  0.000005\n",
       "age                          0  0.000000\n",
       "fecha_alta                   0  0.000000\n",
       "ind_nuevo                    0  0.000000\n",
       "antiguedad                   0  0.000000\n",
       "indrel                       0  0.000000\n",
       "ult_fec_cli_1t          927932  0.998190\n",
       "indrel_1mes                 23  0.000025\n",
       "tiprel_1mes                 23  0.000025\n",
       "indresi                      0  0.000000\n",
       "indext                       0  0.000000\n",
       "conyuemp                929511  0.999888\n",
       "canal_entrada             2081  0.002239\n",
       "indfall                      0  0.000000\n",
       "tipodom                      0  0.000000\n",
       "cod_prov                  3996  0.004299\n",
       "nomprov                   3996  0.004299\n",
       "ind_actividad_cliente        0  0.000000\n",
       "renta                        0  0.000000\n",
       "segmento                  2248  0.002418"
      ]
     },
     "execution_count": 140,
     "metadata": {},
     "output_type": "execute_result"
    }
   ],
   "source": [
    "na_check4 = pd.Series.to_frame(test.isnull().sum())\n",
    "na_check4.columns = ['missing']\n",
    "na_check4['percent'] = na_check4['missing']/test.shape[0]\n",
    "na_check4"
   ]
  },
  {
   "cell_type": "code",
   "execution_count": 141,
   "metadata": {
    "collapsed": true
   },
   "outputs": [],
   "source": [
    "test_id = test['ncodpers']"
   ]
  },
  {
   "cell_type": "code",
   "execution_count": 142,
   "metadata": {
    "collapsed": true
   },
   "outputs": [],
   "source": [
    "def find_info(col):\n",
    "    info = train2[train2['ncodpers'].isin(test_id)][['ncodpers', col]].drop_duplicates()\n",
    "    info_unique = info.groupby('ncodpers', as_index = False).agg({col: lambda x: tuple(x)[-1]})\n",
    "    print info_unique.shape\n",
    "    return info_unique"
   ]
  },
  {
   "cell_type": "code",
   "execution_count": 143,
   "metadata": {
    "collapsed": true
   },
   "outputs": [],
   "source": [
    "def find_info2(col):\n",
    "    null_id = test[test[col].isnull()]['ncodpers']\n",
    "    info = train2[train2.ncodpers.isin(null_id)][['ncodpers', col]].drop_duplicates()\n",
    "    info_unique = info.groupby('ncodpers', as_index = False).agg({col: lambda x: tuple(x)[-1]})\n",
    "    return info_unique"
   ]
  },
  {
   "cell_type": "code",
   "execution_count": 144,
   "metadata": {
    "collapsed": true
   },
   "outputs": [],
   "source": [
    "test2 = test.copy()"
   ]
  },
  {
   "cell_type": "markdown",
   "metadata": {},
   "source": [
    "##### sex"
   ]
  },
  {
   "cell_type": "code",
   "execution_count": 145,
   "metadata": {
    "scrolled": false
   },
   "outputs": [
    {
     "data": {
      "text/plain": [
       "496121    278257\n",
       "536431    476023\n",
       "551356    394860\n",
       "575865    415005\n",
       "644339    216507\n",
       "Name: ncodpers, dtype: int64"
      ]
     },
     "execution_count": 145,
     "metadata": {},
     "output_type": "execute_result"
    }
   ],
   "source": [
    "sex_id =test[test['sexo'].isnull()]['ncodpers']\n",
    "sex_id"
   ]
  },
  {
   "cell_type": "code",
   "execution_count": 146,
   "metadata": {
    "scrolled": true
   },
   "outputs": [
    {
     "data": {
      "text/html": [
       "<div>\n",
       "<style scoped>\n",
       "    .dataframe tbody tr th:only-of-type {\n",
       "        vertical-align: middle;\n",
       "    }\n",
       "\n",
       "    .dataframe tbody tr th {\n",
       "        vertical-align: top;\n",
       "    }\n",
       "\n",
       "    .dataframe thead th {\n",
       "        text-align: right;\n",
       "    }\n",
       "</style>\n",
       "<table border=\"1\" class=\"dataframe\">\n",
       "  <thead>\n",
       "    <tr style=\"text-align: right;\">\n",
       "      <th></th>\n",
       "      <th>ncodpers</th>\n",
       "      <th>sexo</th>\n",
       "    </tr>\n",
       "  </thead>\n",
       "  <tbody>\n",
       "    <tr>\n",
       "      <th>366601</th>\n",
       "      <td>394860</td>\n",
       "      <td>V</td>\n",
       "    </tr>\n",
       "    <tr>\n",
       "      <th>573165</th>\n",
       "      <td>415005</td>\n",
       "      <td>V</td>\n",
       "    </tr>\n",
       "    <tr>\n",
       "      <th>1324482</th>\n",
       "      <td>476023</td>\n",
       "      <td>V</td>\n",
       "    </tr>\n",
       "    <tr>\n",
       "      <th>4180476</th>\n",
       "      <td>278257</td>\n",
       "      <td>V</td>\n",
       "    </tr>\n",
       "    <tr>\n",
       "      <th>5417751</th>\n",
       "      <td>216507</td>\n",
       "      <td>V</td>\n",
       "    </tr>\n",
       "  </tbody>\n",
       "</table>\n",
       "</div>"
      ],
      "text/plain": [
       "         ncodpers sexo\n",
       "366601     394860    V\n",
       "573165     415005    V\n",
       "1324482    476023    V\n",
       "4180476    278257    V\n",
       "5417751    216507    V"
      ]
     },
     "execution_count": 146,
     "metadata": {},
     "output_type": "execute_result"
    }
   ],
   "source": [
    "train2[train2.ncodpers.isin(sex_id)][['ncodpers', 'sexo']].drop_duplicates()"
   ]
  },
  {
   "cell_type": "code",
   "execution_count": 147,
   "metadata": {
    "collapsed": true
   },
   "outputs": [],
   "source": [
    "test2['sexo'] = np.where(test2['sexo'].isnull(),'V', test2['sexo'] )"
   ]
  },
  {
   "cell_type": "code",
   "execution_count": 148,
   "metadata": {},
   "outputs": [
    {
     "data": {
      "text/plain": [
       "0"
      ]
     },
     "execution_count": 148,
     "metadata": {},
     "output_type": "execute_result"
    }
   ],
   "source": [
    "test2['sexo'].isnull().sum()"
   ]
  },
  {
   "cell_type": "markdown",
   "metadata": {},
   "source": [
    "##### ult_primary"
   ]
  },
  {
   "cell_type": "code",
   "execution_count": 149,
   "metadata": {
    "collapsed": true
   },
   "outputs": [],
   "source": [
    "# d = c.groupby('ncodpers').count()\n",
    "# d[d.ult_primary == 2]"
   ]
  },
  {
   "cell_type": "code",
   "execution_count": 150,
   "metadata": {},
   "outputs": [
    {
     "name": "stdout",
     "output_type": "stream",
     "text": [
      "(929615, 2)\n"
     ]
    }
   ],
   "source": [
    "ultprimary_unique = find_info('ult_primary')"
   ]
  },
  {
   "cell_type": "code",
   "execution_count": 151,
   "metadata": {
    "collapsed": true
   },
   "outputs": [],
   "source": [
    "test2 = pd.merge(test2, ultprimary_unique, on = 'ncodpers')"
   ]
  },
  {
   "cell_type": "code",
   "execution_count": 152,
   "metadata": {
    "collapsed": true
   },
   "outputs": [],
   "source": [
    "test2.drop(columns = 'ult_fec_cli_1t', inplace = True)"
   ]
  },
  {
   "cell_type": "code",
   "execution_count": 153,
   "metadata": {},
   "outputs": [
    {
     "data": {
      "text/plain": [
       "(929615, 24)"
      ]
     },
     "execution_count": 153,
     "metadata": {},
     "output_type": "execute_result"
    }
   ],
   "source": [
    "test2.shape"
   ]
  },
  {
   "cell_type": "markdown",
   "metadata": {},
   "source": [
    "##### indrel_1mes"
   ]
  },
  {
   "cell_type": "code",
   "execution_count": 154,
   "metadata": {
    "collapsed": true
   },
   "outputs": [],
   "source": [
    "indrel_1mes_unique = find_info2('indrel_1mes')"
   ]
  },
  {
   "cell_type": "code",
   "execution_count": 155,
   "metadata": {
    "scrolled": true
   },
   "outputs": [
    {
     "data": {
      "text/html": [
       "<div>\n",
       "<style scoped>\n",
       "    .dataframe tbody tr th:only-of-type {\n",
       "        vertical-align: middle;\n",
       "    }\n",
       "\n",
       "    .dataframe tbody tr th {\n",
       "        vertical-align: top;\n",
       "    }\n",
       "\n",
       "    .dataframe thead th {\n",
       "        text-align: right;\n",
       "    }\n",
       "</style>\n",
       "<table border=\"1\" class=\"dataframe\">\n",
       "  <thead>\n",
       "    <tr style=\"text-align: right;\">\n",
       "      <th></th>\n",
       "      <th>ncodpers</th>\n",
       "      <th>indrel_1mes</th>\n",
       "    </tr>\n",
       "  </thead>\n",
       "  <tbody>\n",
       "    <tr>\n",
       "      <th>0</th>\n",
       "      <td>1548221</td>\n",
       "      <td>1.0</td>\n",
       "    </tr>\n",
       "    <tr>\n",
       "      <th>1</th>\n",
       "      <td>1548223</td>\n",
       "      <td>1.0</td>\n",
       "    </tr>\n",
       "    <tr>\n",
       "      <th>2</th>\n",
       "      <td>1548226</td>\n",
       "      <td>1.0</td>\n",
       "    </tr>\n",
       "    <tr>\n",
       "      <th>3</th>\n",
       "      <td>1548227</td>\n",
       "      <td>1.0</td>\n",
       "    </tr>\n",
       "    <tr>\n",
       "      <th>4</th>\n",
       "      <td>1548233</td>\n",
       "      <td>1.0</td>\n",
       "    </tr>\n",
       "    <tr>\n",
       "      <th>5</th>\n",
       "      <td>1548239</td>\n",
       "      <td>1.0</td>\n",
       "    </tr>\n",
       "    <tr>\n",
       "      <th>6</th>\n",
       "      <td>1548240</td>\n",
       "      <td>1.0</td>\n",
       "    </tr>\n",
       "    <tr>\n",
       "      <th>7</th>\n",
       "      <td>1548244</td>\n",
       "      <td>1.0</td>\n",
       "    </tr>\n",
       "    <tr>\n",
       "      <th>8</th>\n",
       "      <td>1548245</td>\n",
       "      <td>1.0</td>\n",
       "    </tr>\n",
       "    <tr>\n",
       "      <th>9</th>\n",
       "      <td>1548246</td>\n",
       "      <td>1.0</td>\n",
       "    </tr>\n",
       "    <tr>\n",
       "      <th>10</th>\n",
       "      <td>1548251</td>\n",
       "      <td>1.0</td>\n",
       "    </tr>\n",
       "    <tr>\n",
       "      <th>11</th>\n",
       "      <td>1548255</td>\n",
       "      <td>1.0</td>\n",
       "    </tr>\n",
       "    <tr>\n",
       "      <th>12</th>\n",
       "      <td>1548260</td>\n",
       "      <td>1.0</td>\n",
       "    </tr>\n",
       "    <tr>\n",
       "      <th>13</th>\n",
       "      <td>1548265</td>\n",
       "      <td>1.0</td>\n",
       "    </tr>\n",
       "    <tr>\n",
       "      <th>14</th>\n",
       "      <td>1548266</td>\n",
       "      <td>1.0</td>\n",
       "    </tr>\n",
       "    <tr>\n",
       "      <th>15</th>\n",
       "      <td>1548268</td>\n",
       "      <td>1.0</td>\n",
       "    </tr>\n",
       "    <tr>\n",
       "      <th>16</th>\n",
       "      <td>1548269</td>\n",
       "      <td>1.0</td>\n",
       "    </tr>\n",
       "    <tr>\n",
       "      <th>17</th>\n",
       "      <td>1548274</td>\n",
       "      <td>1.0</td>\n",
       "    </tr>\n",
       "    <tr>\n",
       "      <th>18</th>\n",
       "      <td>1548275</td>\n",
       "      <td>1.0</td>\n",
       "    </tr>\n",
       "    <tr>\n",
       "      <th>19</th>\n",
       "      <td>1548277</td>\n",
       "      <td>1.0</td>\n",
       "    </tr>\n",
       "    <tr>\n",
       "      <th>20</th>\n",
       "      <td>1548279</td>\n",
       "      <td>1.0</td>\n",
       "    </tr>\n",
       "    <tr>\n",
       "      <th>21</th>\n",
       "      <td>1548283</td>\n",
       "      <td>1.0</td>\n",
       "    </tr>\n",
       "    <tr>\n",
       "      <th>22</th>\n",
       "      <td>1548287</td>\n",
       "      <td>1.0</td>\n",
       "    </tr>\n",
       "  </tbody>\n",
       "</table>\n",
       "</div>"
      ],
      "text/plain": [
       "    ncodpers  indrel_1mes\n",
       "0    1548221          1.0\n",
       "1    1548223          1.0\n",
       "2    1548226          1.0\n",
       "3    1548227          1.0\n",
       "4    1548233          1.0\n",
       "5    1548239          1.0\n",
       "6    1548240          1.0\n",
       "7    1548244          1.0\n",
       "8    1548245          1.0\n",
       "9    1548246          1.0\n",
       "10   1548251          1.0\n",
       "11   1548255          1.0\n",
       "12   1548260          1.0\n",
       "13   1548265          1.0\n",
       "14   1548266          1.0\n",
       "15   1548268          1.0\n",
       "16   1548269          1.0\n",
       "17   1548274          1.0\n",
       "18   1548275          1.0\n",
       "19   1548277          1.0\n",
       "20   1548279          1.0\n",
       "21   1548283          1.0\n",
       "22   1548287          1.0"
      ]
     },
     "execution_count": 155,
     "metadata": {},
     "output_type": "execute_result"
    }
   ],
   "source": [
    "indrel_1mes_unique"
   ]
  },
  {
   "cell_type": "code",
   "execution_count": 156,
   "metadata": {
    "collapsed": true
   },
   "outputs": [],
   "source": [
    "test2['indrel_1mes'] = np.where(test2['indrel_1mes'].isnull(), 1.0, test2['indrel_1mes'] )"
   ]
  },
  {
   "cell_type": "code",
   "execution_count": 157,
   "metadata": {
    "scrolled": true
   },
   "outputs": [
    {
     "data": {
      "text/plain": [
       "0"
      ]
     },
     "execution_count": 157,
     "metadata": {},
     "output_type": "execute_result"
    }
   ],
   "source": [
    "test2['indrel_1mes'].isnull().sum()"
   ]
  },
  {
   "cell_type": "markdown",
   "metadata": {},
   "source": [
    "##### tiprel_1mes"
   ]
  },
  {
   "cell_type": "code",
   "execution_count": 158,
   "metadata": {
    "collapsed": true
   },
   "outputs": [],
   "source": [
    "tiprel_1mes_unique = find_info2('tiprel_1mes')"
   ]
  },
  {
   "cell_type": "code",
   "execution_count": 159,
   "metadata": {
    "scrolled": true
   },
   "outputs": [
    {
     "data": {
      "text/html": [
       "<div>\n",
       "<style scoped>\n",
       "    .dataframe tbody tr th:only-of-type {\n",
       "        vertical-align: middle;\n",
       "    }\n",
       "\n",
       "    .dataframe tbody tr th {\n",
       "        vertical-align: top;\n",
       "    }\n",
       "\n",
       "    .dataframe thead th {\n",
       "        text-align: right;\n",
       "    }\n",
       "</style>\n",
       "<table border=\"1\" class=\"dataframe\">\n",
       "  <thead>\n",
       "    <tr style=\"text-align: right;\">\n",
       "      <th></th>\n",
       "      <th>ncodpers</th>\n",
       "      <th>tiprel_1mes</th>\n",
       "    </tr>\n",
       "  </thead>\n",
       "  <tbody>\n",
       "    <tr>\n",
       "      <th>0</th>\n",
       "      <td>1548221</td>\n",
       "      <td>A</td>\n",
       "    </tr>\n",
       "    <tr>\n",
       "      <th>1</th>\n",
       "      <td>1548223</td>\n",
       "      <td>A</td>\n",
       "    </tr>\n",
       "    <tr>\n",
       "      <th>2</th>\n",
       "      <td>1548226</td>\n",
       "      <td>A</td>\n",
       "    </tr>\n",
       "    <tr>\n",
       "      <th>3</th>\n",
       "      <td>1548227</td>\n",
       "      <td>A</td>\n",
       "    </tr>\n",
       "    <tr>\n",
       "      <th>4</th>\n",
       "      <td>1548233</td>\n",
       "      <td>A</td>\n",
       "    </tr>\n",
       "    <tr>\n",
       "      <th>5</th>\n",
       "      <td>1548239</td>\n",
       "      <td>A</td>\n",
       "    </tr>\n",
       "    <tr>\n",
       "      <th>6</th>\n",
       "      <td>1548240</td>\n",
       "      <td>A</td>\n",
       "    </tr>\n",
       "    <tr>\n",
       "      <th>7</th>\n",
       "      <td>1548244</td>\n",
       "      <td>A</td>\n",
       "    </tr>\n",
       "    <tr>\n",
       "      <th>8</th>\n",
       "      <td>1548245</td>\n",
       "      <td>A</td>\n",
       "    </tr>\n",
       "    <tr>\n",
       "      <th>9</th>\n",
       "      <td>1548246</td>\n",
       "      <td>A</td>\n",
       "    </tr>\n",
       "    <tr>\n",
       "      <th>10</th>\n",
       "      <td>1548251</td>\n",
       "      <td>A</td>\n",
       "    </tr>\n",
       "    <tr>\n",
       "      <th>11</th>\n",
       "      <td>1548255</td>\n",
       "      <td>A</td>\n",
       "    </tr>\n",
       "    <tr>\n",
       "      <th>12</th>\n",
       "      <td>1548260</td>\n",
       "      <td>A</td>\n",
       "    </tr>\n",
       "    <tr>\n",
       "      <th>13</th>\n",
       "      <td>1548265</td>\n",
       "      <td>A</td>\n",
       "    </tr>\n",
       "    <tr>\n",
       "      <th>14</th>\n",
       "      <td>1548266</td>\n",
       "      <td>A</td>\n",
       "    </tr>\n",
       "    <tr>\n",
       "      <th>15</th>\n",
       "      <td>1548268</td>\n",
       "      <td>A</td>\n",
       "    </tr>\n",
       "    <tr>\n",
       "      <th>16</th>\n",
       "      <td>1548269</td>\n",
       "      <td>A</td>\n",
       "    </tr>\n",
       "    <tr>\n",
       "      <th>17</th>\n",
       "      <td>1548274</td>\n",
       "      <td>A</td>\n",
       "    </tr>\n",
       "    <tr>\n",
       "      <th>18</th>\n",
       "      <td>1548275</td>\n",
       "      <td>A</td>\n",
       "    </tr>\n",
       "    <tr>\n",
       "      <th>19</th>\n",
       "      <td>1548277</td>\n",
       "      <td>A</td>\n",
       "    </tr>\n",
       "    <tr>\n",
       "      <th>20</th>\n",
       "      <td>1548279</td>\n",
       "      <td>A</td>\n",
       "    </tr>\n",
       "    <tr>\n",
       "      <th>21</th>\n",
       "      <td>1548283</td>\n",
       "      <td>A</td>\n",
       "    </tr>\n",
       "    <tr>\n",
       "      <th>22</th>\n",
       "      <td>1548287</td>\n",
       "      <td>A</td>\n",
       "    </tr>\n",
       "  </tbody>\n",
       "</table>\n",
       "</div>"
      ],
      "text/plain": [
       "    ncodpers tiprel_1mes\n",
       "0    1548221           A\n",
       "1    1548223           A\n",
       "2    1548226           A\n",
       "3    1548227           A\n",
       "4    1548233           A\n",
       "5    1548239           A\n",
       "6    1548240           A\n",
       "7    1548244           A\n",
       "8    1548245           A\n",
       "9    1548246           A\n",
       "10   1548251           A\n",
       "11   1548255           A\n",
       "12   1548260           A\n",
       "13   1548265           A\n",
       "14   1548266           A\n",
       "15   1548268           A\n",
       "16   1548269           A\n",
       "17   1548274           A\n",
       "18   1548275           A\n",
       "19   1548277           A\n",
       "20   1548279           A\n",
       "21   1548283           A\n",
       "22   1548287           A"
      ]
     },
     "execution_count": 159,
     "metadata": {},
     "output_type": "execute_result"
    }
   ],
   "source": [
    "tiprel_1mes_unique"
   ]
  },
  {
   "cell_type": "code",
   "execution_count": 160,
   "metadata": {
    "collapsed": true
   },
   "outputs": [],
   "source": [
    "test2['tiprel_1mes'] = np.where(test2['tiprel_1mes'].isnull(), 'A', test2['tiprel_1mes'] )"
   ]
  },
  {
   "cell_type": "code",
   "execution_count": 161,
   "metadata": {},
   "outputs": [
    {
     "data": {
      "text/plain": [
       "0"
      ]
     },
     "execution_count": 161,
     "metadata": {},
     "output_type": "execute_result"
    }
   ],
   "source": [
    "test2['tiprel_1mes'].isnull().sum()"
   ]
  },
  {
   "cell_type": "markdown",
   "metadata": {},
   "source": [
    "##### conyuemp"
   ]
  },
  {
   "cell_type": "code",
   "execution_count": 162,
   "metadata": {
    "collapsed": true
   },
   "outputs": [],
   "source": [
    "conyuemp_unique = find_info2('conyuemp')"
   ]
  },
  {
   "cell_type": "code",
   "execution_count": 163,
   "metadata": {
    "collapsed": true
   },
   "outputs": [],
   "source": [
    "conyuemp_unique = conyuemp_unique.set_index('ncodpers')"
   ]
  },
  {
   "cell_type": "code",
   "execution_count": 164,
   "metadata": {
    "collapsed": true
   },
   "outputs": [],
   "source": [
    "nc = test2[test2.conyuemp.isnull()]['ncodpers']"
   ]
  },
  {
   "cell_type": "code",
   "execution_count": 165,
   "metadata": {
    "collapsed": true,
    "scrolled": true
   },
   "outputs": [],
   "source": [
    "conyuemp_unique = conyuemp_unique.loc[nc]"
   ]
  },
  {
   "cell_type": "code",
   "execution_count": 166,
   "metadata": {
    "collapsed": true
   },
   "outputs": [],
   "source": [
    "test2.loc[test2.conyuemp.isnull(), 'conyuemp'] = conyuemp_unique['conyuemp'].values"
   ]
  },
  {
   "cell_type": "code",
   "execution_count": 167,
   "metadata": {},
   "outputs": [
    {
     "data": {
      "text/plain": [
       "0"
      ]
     },
     "execution_count": 167,
     "metadata": {},
     "output_type": "execute_result"
    }
   ],
   "source": [
    "test2['conyuemp'].isnull().sum()"
   ]
  },
  {
   "cell_type": "markdown",
   "metadata": {},
   "source": [
    "##### canal_entrada"
   ]
  },
  {
   "cell_type": "code",
   "execution_count": 168,
   "metadata": {},
   "outputs": [
    {
     "data": {
      "text/plain": [
       "unknown    2035\n",
       "KHN          16\n",
       "KAT           8\n",
       "KHM           8\n",
       "KFC           5\n",
       "KHK           3\n",
       "KFA           2\n",
       "RED           2\n",
       "KBF           1\n",
       "KAS           1\n",
       "Name: canal_entrada, dtype: int64"
      ]
     },
     "execution_count": 168,
     "metadata": {},
     "output_type": "execute_result"
    }
   ],
   "source": [
    "channel_unique = find_info2('canal_entrada')\n",
    "channel_unique['canal_entrada'].value_counts()"
   ]
  },
  {
   "cell_type": "code",
   "execution_count": 169,
   "metadata": {
    "collapsed": true
   },
   "outputs": [],
   "source": [
    "channel_unique = channel_unique.set_index('ncodpers')"
   ]
  },
  {
   "cell_type": "code",
   "execution_count": 170,
   "metadata": {
    "collapsed": true
   },
   "outputs": [],
   "source": [
    "nc_channel = test2[test2.canal_entrada.isnull()]['ncodpers']"
   ]
  },
  {
   "cell_type": "code",
   "execution_count": 171,
   "metadata": {
    "collapsed": true
   },
   "outputs": [],
   "source": [
    "channel_unique = channel_unique.loc[nc_channel]"
   ]
  },
  {
   "cell_type": "code",
   "execution_count": 172,
   "metadata": {
    "collapsed": true
   },
   "outputs": [],
   "source": [
    "test2.loc[test2.canal_entrada.isnull(), 'canal_entrada'] = channel_unique['canal_entrada'].values"
   ]
  },
  {
   "cell_type": "code",
   "execution_count": 173,
   "metadata": {
    "scrolled": true
   },
   "outputs": [
    {
     "data": {
      "text/plain": [
       "0"
      ]
     },
     "execution_count": 173,
     "metadata": {},
     "output_type": "execute_result"
    }
   ],
   "source": [
    "test2['canal_entrada'].isnull().sum()"
   ]
  },
  {
   "cell_type": "markdown",
   "metadata": {},
   "source": [
    "##### nomprov"
   ]
  },
  {
   "cell_type": "code",
   "execution_count": 174,
   "metadata": {},
   "outputs": [
    {
     "data": {
      "text/plain": [
       "MADRID       3990\n",
       "VALENCIA        2\n",
       "GRANADA         1\n",
       "SALAMANCA       1\n",
       "JAEN            1\n",
       "RIOJA, LA       1\n",
       "Name: nomprov, dtype: int64"
      ]
     },
     "execution_count": 174,
     "metadata": {},
     "output_type": "execute_result"
    }
   ],
   "source": [
    "province_unique = find_info2('nomprov')\n",
    "province_unique['nomprov'].value_counts()"
   ]
  },
  {
   "cell_type": "code",
   "execution_count": 175,
   "metadata": {
    "collapsed": true
   },
   "outputs": [],
   "source": [
    "province_unique = province_unique.set_index('ncodpers')"
   ]
  },
  {
   "cell_type": "code",
   "execution_count": 176,
   "metadata": {
    "collapsed": true
   },
   "outputs": [],
   "source": [
    "nc_province = test2[test2.nomprov.isnull()]['ncodpers']"
   ]
  },
  {
   "cell_type": "code",
   "execution_count": 177,
   "metadata": {
    "collapsed": true
   },
   "outputs": [],
   "source": [
    "province_unique = province_unique.loc[nc_province]"
   ]
  },
  {
   "cell_type": "code",
   "execution_count": 178,
   "metadata": {
    "collapsed": true
   },
   "outputs": [],
   "source": [
    "test2.loc[test2.nomprov.isnull(), 'nomprov'] = province_unique['nomprov'].values"
   ]
  },
  {
   "cell_type": "code",
   "execution_count": 179,
   "metadata": {},
   "outputs": [
    {
     "data": {
      "text/plain": [
       "0"
      ]
     },
     "execution_count": 179,
     "metadata": {},
     "output_type": "execute_result"
    }
   ],
   "source": [
    "test2['nomprov'].isnull().sum()"
   ]
  },
  {
   "cell_type": "markdown",
   "metadata": {},
   "source": [
    "##### segmento\t"
   ]
  },
  {
   "cell_type": "code",
   "execution_count": 180,
   "metadata": {},
   "outputs": [
    {
     "data": {
      "text/plain": [
       "01 - TOP              1149\n",
       "03 - UNIVERSITARIO     753\n",
       "02 - PARTICULARES      346\n",
       "Name: segmento, dtype: int64"
      ]
     },
     "execution_count": 180,
     "metadata": {},
     "output_type": "execute_result"
    }
   ],
   "source": [
    "segment_unique = find_info2('segmento')\n",
    "segment_unique['segmento'].value_counts()"
   ]
  },
  {
   "cell_type": "code",
   "execution_count": 181,
   "metadata": {
    "collapsed": true
   },
   "outputs": [],
   "source": [
    "segment_unique = segment_unique.set_index('ncodpers')"
   ]
  },
  {
   "cell_type": "code",
   "execution_count": 182,
   "metadata": {
    "collapsed": true
   },
   "outputs": [],
   "source": [
    "nc_segment = test2[test2.segmento.isnull()]['ncodpers']"
   ]
  },
  {
   "cell_type": "code",
   "execution_count": 183,
   "metadata": {
    "collapsed": true
   },
   "outputs": [],
   "source": [
    "segment_unique = segment_unique.loc[nc_segment]"
   ]
  },
  {
   "cell_type": "code",
   "execution_count": 184,
   "metadata": {
    "collapsed": true
   },
   "outputs": [],
   "source": [
    "test2.loc[test2.segmento.isnull(), 'segmento'] = segment_unique['segmento'].values"
   ]
  },
  {
   "cell_type": "code",
   "execution_count": 185,
   "metadata": {
    "scrolled": true
   },
   "outputs": [
    {
     "data": {
      "text/plain": [
       "0"
      ]
     },
     "execution_count": 185,
     "metadata": {},
     "output_type": "execute_result"
    }
   ],
   "source": [
    "test2['segmento'].isnull().sum()"
   ]
  },
  {
   "cell_type": "code",
   "execution_count": 186,
   "metadata": {
    "collapsed": true
   },
   "outputs": [],
   "source": [
    "test2.drop(columns = ['tipodom', 'cod_prov'], inplace = True)"
   ]
  },
  {
   "cell_type": "code",
   "execution_count": 187,
   "metadata": {
    "collapsed": true
   },
   "outputs": [],
   "source": [
    "feature = train2.columns[~train2.columns.isin(product)]\n",
    "list(feature).append('ult_primary')"
   ]
  },
  {
   "cell_type": "code",
   "execution_count": 188,
   "metadata": {},
   "outputs": [
    {
     "data": {
      "text/plain": [
       "True"
      ]
     },
     "execution_count": 188,
     "metadata": {},
     "output_type": "execute_result"
    }
   ],
   "source": [
    "feature.equals(test2.columns)"
   ]
  },
  {
   "cell_type": "code",
   "execution_count": 189,
   "metadata": {},
   "outputs": [
    {
     "data": {
      "text/plain": [
       "dtype('float64')"
      ]
     },
     "execution_count": 189,
     "metadata": {},
     "output_type": "execute_result"
    }
   ],
   "source": [
    "train2['renta'].dtypes"
   ]
  },
  {
   "cell_type": "code",
   "execution_count": 190,
   "metadata": {
    "scrolled": true
   },
   "outputs": [
    {
     "data": {
      "text/html": [
       "<div>\n",
       "<style scoped>\n",
       "    .dataframe tbody tr th:only-of-type {\n",
       "        vertical-align: middle;\n",
       "    }\n",
       "\n",
       "    .dataframe tbody tr th {\n",
       "        vertical-align: top;\n",
       "    }\n",
       "\n",
       "    .dataframe thead th {\n",
       "        text-align: right;\n",
       "    }\n",
       "</style>\n",
       "<table border=\"1\" class=\"dataframe\">\n",
       "  <thead>\n",
       "    <tr style=\"text-align: right;\">\n",
       "      <th></th>\n",
       "      <th>0</th>\n",
       "    </tr>\n",
       "  </thead>\n",
       "  <tbody>\n",
       "    <tr>\n",
       "      <th>fecha_dato</th>\n",
       "      <td>datetime64[ns]</td>\n",
       "    </tr>\n",
       "    <tr>\n",
       "      <th>ncodpers</th>\n",
       "      <td>int64</td>\n",
       "    </tr>\n",
       "    <tr>\n",
       "      <th>ind_empleado</th>\n",
       "      <td>object</td>\n",
       "    </tr>\n",
       "    <tr>\n",
       "      <th>pais_residencia</th>\n",
       "      <td>object</td>\n",
       "    </tr>\n",
       "    <tr>\n",
       "      <th>sexo</th>\n",
       "      <td>object</td>\n",
       "    </tr>\n",
       "    <tr>\n",
       "      <th>age</th>\n",
       "      <td>int64</td>\n",
       "    </tr>\n",
       "    <tr>\n",
       "      <th>fecha_alta</th>\n",
       "      <td>datetime64[ns]</td>\n",
       "    </tr>\n",
       "    <tr>\n",
       "      <th>ind_nuevo</th>\n",
       "      <td>int64</td>\n",
       "    </tr>\n",
       "    <tr>\n",
       "      <th>antiguedad</th>\n",
       "      <td>int64</td>\n",
       "    </tr>\n",
       "    <tr>\n",
       "      <th>indrel</th>\n",
       "      <td>int64</td>\n",
       "    </tr>\n",
       "    <tr>\n",
       "      <th>indrel_1mes</th>\n",
       "      <td>float64</td>\n",
       "    </tr>\n",
       "    <tr>\n",
       "      <th>tiprel_1mes</th>\n",
       "      <td>object</td>\n",
       "    </tr>\n",
       "    <tr>\n",
       "      <th>indresi</th>\n",
       "      <td>object</td>\n",
       "    </tr>\n",
       "    <tr>\n",
       "      <th>indext</th>\n",
       "      <td>object</td>\n",
       "    </tr>\n",
       "    <tr>\n",
       "      <th>conyuemp</th>\n",
       "      <td>object</td>\n",
       "    </tr>\n",
       "    <tr>\n",
       "      <th>canal_entrada</th>\n",
       "      <td>object</td>\n",
       "    </tr>\n",
       "    <tr>\n",
       "      <th>indfall</th>\n",
       "      <td>object</td>\n",
       "    </tr>\n",
       "    <tr>\n",
       "      <th>nomprov</th>\n",
       "      <td>object</td>\n",
       "    </tr>\n",
       "    <tr>\n",
       "      <th>ind_actividad_cliente</th>\n",
       "      <td>int64</td>\n",
       "    </tr>\n",
       "    <tr>\n",
       "      <th>renta</th>\n",
       "      <td>object</td>\n",
       "    </tr>\n",
       "    <tr>\n",
       "      <th>segmento</th>\n",
       "      <td>object</td>\n",
       "    </tr>\n",
       "    <tr>\n",
       "      <th>ult_primary</th>\n",
       "      <td>int64</td>\n",
       "    </tr>\n",
       "  </tbody>\n",
       "</table>\n",
       "</div>"
      ],
      "text/plain": [
       "                                    0\n",
       "fecha_dato             datetime64[ns]\n",
       "ncodpers                        int64\n",
       "ind_empleado                   object\n",
       "pais_residencia                object\n",
       "sexo                           object\n",
       "age                             int64\n",
       "fecha_alta             datetime64[ns]\n",
       "ind_nuevo                       int64\n",
       "antiguedad                      int64\n",
       "indrel                          int64\n",
       "indrel_1mes                   float64\n",
       "tiprel_1mes                    object\n",
       "indresi                        object\n",
       "indext                         object\n",
       "conyuemp                       object\n",
       "canal_entrada                  object\n",
       "indfall                        object\n",
       "nomprov                        object\n",
       "ind_actividad_cliente           int64\n",
       "renta                          object\n",
       "segmento                       object\n",
       "ult_primary                     int64"
      ]
     },
     "execution_count": 190,
     "metadata": {},
     "output_type": "execute_result"
    }
   ],
   "source": [
    "# test2_dtype = pd.DataFrame(test2.dtypes)\n",
    "# test2_dtype"
   ]
  },
  {
   "cell_type": "code",
   "execution_count": 198,
   "metadata": {
    "collapsed": true
   },
   "outputs": [],
   "source": [
    "# train2_dtype = pd.DataFrame(train2[feature].dtypes)\n",
    "# train2_dtype"
   ]
  },
  {
   "cell_type": "code",
   "execution_count": 193,
   "metadata": {
    "collapsed": true
   },
   "outputs": [],
   "source": [
    "train2['age'] = pd.to_numeric(train2.age, errors='coerce')"
   ]
  },
  {
   "cell_type": "code",
   "execution_count": 192,
   "metadata": {
    "collapsed": true,
    "scrolled": false
   },
   "outputs": [],
   "source": [
    "train2['antiguedad'] = train2['antiguedad'].astype('int64')"
   ]
  },
  {
   "cell_type": "code",
   "execution_count": 194,
   "metadata": {
    "collapsed": true
   },
   "outputs": [],
   "source": [
    "test2['indrel_1mes'] = test2['indrel_1mes'].astype('object')"
   ]
  },
  {
   "cell_type": "code",
   "execution_count": 195,
   "metadata": {
    "collapsed": true
   },
   "outputs": [],
   "source": [
    "test2['renta'] = pd.to_numeric(test2.renta, errors='coerce')"
   ]
  },
  {
   "cell_type": "code",
   "execution_count": 197,
   "metadata": {
    "collapsed": true
   },
   "outputs": [
    {
     "data": {
      "text/html": [
       "<div>\n",
       "<style scoped>\n",
       "    .dataframe tbody tr th:only-of-type {\n",
       "        vertical-align: middle;\n",
       "    }\n",
       "\n",
       "    .dataframe tbody tr th {\n",
       "        vertical-align: top;\n",
       "    }\n",
       "\n",
       "    .dataframe thead th {\n",
       "        text-align: right;\n",
       "    }\n",
       "</style>\n",
       "<table border=\"1\" class=\"dataframe\">\n",
       "  <thead>\n",
       "    <tr style=\"text-align: right;\">\n",
       "      <th></th>\n",
       "      <th>0</th>\n",
       "    </tr>\n",
       "  </thead>\n",
       "  <tbody>\n",
       "    <tr>\n",
       "      <th>fecha_dato</th>\n",
       "      <td>datetime64[ns]</td>\n",
       "    </tr>\n",
       "    <tr>\n",
       "      <th>ncodpers</th>\n",
       "      <td>int64</td>\n",
       "    </tr>\n",
       "    <tr>\n",
       "      <th>ind_empleado</th>\n",
       "      <td>object</td>\n",
       "    </tr>\n",
       "    <tr>\n",
       "      <th>pais_residencia</th>\n",
       "      <td>object</td>\n",
       "    </tr>\n",
       "    <tr>\n",
       "      <th>sexo</th>\n",
       "      <td>object</td>\n",
       "    </tr>\n",
       "    <tr>\n",
       "      <th>age</th>\n",
       "      <td>int64</td>\n",
       "    </tr>\n",
       "    <tr>\n",
       "      <th>fecha_alta</th>\n",
       "      <td>datetime64[ns]</td>\n",
       "    </tr>\n",
       "    <tr>\n",
       "      <th>ind_nuevo</th>\n",
       "      <td>int64</td>\n",
       "    </tr>\n",
       "    <tr>\n",
       "      <th>antiguedad</th>\n",
       "      <td>int64</td>\n",
       "    </tr>\n",
       "    <tr>\n",
       "      <th>indrel</th>\n",
       "      <td>int64</td>\n",
       "    </tr>\n",
       "    <tr>\n",
       "      <th>indrel_1mes</th>\n",
       "      <td>object</td>\n",
       "    </tr>\n",
       "    <tr>\n",
       "      <th>tiprel_1mes</th>\n",
       "      <td>object</td>\n",
       "    </tr>\n",
       "    <tr>\n",
       "      <th>indresi</th>\n",
       "      <td>object</td>\n",
       "    </tr>\n",
       "    <tr>\n",
       "      <th>indext</th>\n",
       "      <td>object</td>\n",
       "    </tr>\n",
       "    <tr>\n",
       "      <th>conyuemp</th>\n",
       "      <td>object</td>\n",
       "    </tr>\n",
       "    <tr>\n",
       "      <th>canal_entrada</th>\n",
       "      <td>object</td>\n",
       "    </tr>\n",
       "    <tr>\n",
       "      <th>indfall</th>\n",
       "      <td>object</td>\n",
       "    </tr>\n",
       "    <tr>\n",
       "      <th>nomprov</th>\n",
       "      <td>object</td>\n",
       "    </tr>\n",
       "    <tr>\n",
       "      <th>ind_actividad_cliente</th>\n",
       "      <td>int64</td>\n",
       "    </tr>\n",
       "    <tr>\n",
       "      <th>renta</th>\n",
       "      <td>float64</td>\n",
       "    </tr>\n",
       "    <tr>\n",
       "      <th>segmento</th>\n",
       "      <td>object</td>\n",
       "    </tr>\n",
       "    <tr>\n",
       "      <th>ult_primary</th>\n",
       "      <td>int64</td>\n",
       "    </tr>\n",
       "  </tbody>\n",
       "</table>\n",
       "</div>"
      ],
      "text/plain": [
       "                                    0\n",
       "fecha_dato             datetime64[ns]\n",
       "ncodpers                        int64\n",
       "ind_empleado                   object\n",
       "pais_residencia                object\n",
       "sexo                           object\n",
       "age                             int64\n",
       "fecha_alta             datetime64[ns]\n",
       "ind_nuevo                       int64\n",
       "antiguedad                      int64\n",
       "indrel                          int64\n",
       "indrel_1mes                    object\n",
       "tiprel_1mes                    object\n",
       "indresi                        object\n",
       "indext                         object\n",
       "conyuemp                       object\n",
       "canal_entrada                  object\n",
       "indfall                        object\n",
       "nomprov                        object\n",
       "ind_actividad_cliente           int64\n",
       "renta                         float64\n",
       "segmento                       object\n",
       "ult_primary                     int64"
      ]
     },
     "execution_count": 197,
     "metadata": {},
     "output_type": "execute_result"
    }
   ],
   "source": [
    "test2_dtype = pd.DataFrame(test2.dtypes)\n",
    "test2_dtype"
   ]
  },
  {
   "cell_type": "code",
   "execution_count": 199,
   "metadata": {
    "scrolled": true
   },
   "outputs": [
    {
     "data": {
      "text/html": [
       "<div>\n",
       "<style scoped>\n",
       "    .dataframe tbody tr th:only-of-type {\n",
       "        vertical-align: middle;\n",
       "    }\n",
       "\n",
       "    .dataframe tbody tr th {\n",
       "        vertical-align: top;\n",
       "    }\n",
       "\n",
       "    .dataframe thead th {\n",
       "        text-align: right;\n",
       "    }\n",
       "</style>\n",
       "<table border=\"1\" class=\"dataframe\">\n",
       "  <thead>\n",
       "    <tr style=\"text-align: right;\">\n",
       "      <th></th>\n",
       "      <th>0</th>\n",
       "    </tr>\n",
       "  </thead>\n",
       "  <tbody>\n",
       "    <tr>\n",
       "      <th>fecha_dato</th>\n",
       "      <td>datetime64[ns]</td>\n",
       "    </tr>\n",
       "    <tr>\n",
       "      <th>ncodpers</th>\n",
       "      <td>int64</td>\n",
       "    </tr>\n",
       "    <tr>\n",
       "      <th>ind_empleado</th>\n",
       "      <td>object</td>\n",
       "    </tr>\n",
       "    <tr>\n",
       "      <th>pais_residencia</th>\n",
       "      <td>object</td>\n",
       "    </tr>\n",
       "    <tr>\n",
       "      <th>sexo</th>\n",
       "      <td>object</td>\n",
       "    </tr>\n",
       "    <tr>\n",
       "      <th>age</th>\n",
       "      <td>int64</td>\n",
       "    </tr>\n",
       "    <tr>\n",
       "      <th>fecha_alta</th>\n",
       "      <td>datetime64[ns]</td>\n",
       "    </tr>\n",
       "    <tr>\n",
       "      <th>ind_nuevo</th>\n",
       "      <td>float64</td>\n",
       "    </tr>\n",
       "    <tr>\n",
       "      <th>antiguedad</th>\n",
       "      <td>int64</td>\n",
       "    </tr>\n",
       "    <tr>\n",
       "      <th>indrel</th>\n",
       "      <td>float64</td>\n",
       "    </tr>\n",
       "    <tr>\n",
       "      <th>indrel_1mes</th>\n",
       "      <td>object</td>\n",
       "    </tr>\n",
       "    <tr>\n",
       "      <th>tiprel_1mes</th>\n",
       "      <td>object</td>\n",
       "    </tr>\n",
       "    <tr>\n",
       "      <th>indresi</th>\n",
       "      <td>object</td>\n",
       "    </tr>\n",
       "    <tr>\n",
       "      <th>indext</th>\n",
       "      <td>object</td>\n",
       "    </tr>\n",
       "    <tr>\n",
       "      <th>conyuemp</th>\n",
       "      <td>object</td>\n",
       "    </tr>\n",
       "    <tr>\n",
       "      <th>canal_entrada</th>\n",
       "      <td>object</td>\n",
       "    </tr>\n",
       "    <tr>\n",
       "      <th>indfall</th>\n",
       "      <td>object</td>\n",
       "    </tr>\n",
       "    <tr>\n",
       "      <th>nomprov</th>\n",
       "      <td>object</td>\n",
       "    </tr>\n",
       "    <tr>\n",
       "      <th>ind_actividad_cliente</th>\n",
       "      <td>float64</td>\n",
       "    </tr>\n",
       "    <tr>\n",
       "      <th>renta</th>\n",
       "      <td>float64</td>\n",
       "    </tr>\n",
       "    <tr>\n",
       "      <th>segmento</th>\n",
       "      <td>object</td>\n",
       "    </tr>\n",
       "    <tr>\n",
       "      <th>ult_primary</th>\n",
       "      <td>int64</td>\n",
       "    </tr>\n",
       "  </tbody>\n",
       "</table>\n",
       "</div>"
      ],
      "text/plain": [
       "                                    0\n",
       "fecha_dato             datetime64[ns]\n",
       "ncodpers                        int64\n",
       "ind_empleado                   object\n",
       "pais_residencia                object\n",
       "sexo                           object\n",
       "age                             int64\n",
       "fecha_alta             datetime64[ns]\n",
       "ind_nuevo                     float64\n",
       "antiguedad                      int64\n",
       "indrel                        float64\n",
       "indrel_1mes                    object\n",
       "tiprel_1mes                    object\n",
       "indresi                        object\n",
       "indext                         object\n",
       "conyuemp                       object\n",
       "canal_entrada                  object\n",
       "indfall                        object\n",
       "nomprov                        object\n",
       "ind_actividad_cliente         float64\n",
       "renta                         float64\n",
       "segmento                       object\n",
       "ult_primary                     int64"
      ]
     },
     "execution_count": 199,
     "metadata": {},
     "output_type": "execute_result"
    }
   ],
   "source": [
    "train2_dtype = pd.DataFrame(train2[feature].dtypes)\n",
    "train2_dtype"
   ]
  },
  {
   "cell_type": "code",
   "execution_count": 202,
   "metadata": {
    "scrolled": true
   },
   "outputs": [
    {
     "data": {
      "text/html": [
       "<div>\n",
       "<style scoped>\n",
       "    .dataframe tbody tr th:only-of-type {\n",
       "        vertical-align: middle;\n",
       "    }\n",
       "\n",
       "    .dataframe tbody tr th {\n",
       "        vertical-align: top;\n",
       "    }\n",
       "\n",
       "    .dataframe thead th {\n",
       "        text-align: right;\n",
       "    }\n",
       "</style>\n",
       "<table border=\"1\" class=\"dataframe\">\n",
       "  <thead>\n",
       "    <tr style=\"text-align: right;\">\n",
       "      <th></th>\n",
       "      <th>missing</th>\n",
       "      <th>percent</th>\n",
       "    </tr>\n",
       "  </thead>\n",
       "  <tbody>\n",
       "    <tr>\n",
       "      <th>fecha_dato</th>\n",
       "      <td>0</td>\n",
       "      <td>0.0</td>\n",
       "    </tr>\n",
       "    <tr>\n",
       "      <th>ncodpers</th>\n",
       "      <td>0</td>\n",
       "      <td>0.0</td>\n",
       "    </tr>\n",
       "    <tr>\n",
       "      <th>ind_empleado</th>\n",
       "      <td>0</td>\n",
       "      <td>0.0</td>\n",
       "    </tr>\n",
       "    <tr>\n",
       "      <th>pais_residencia</th>\n",
       "      <td>0</td>\n",
       "      <td>0.0</td>\n",
       "    </tr>\n",
       "    <tr>\n",
       "      <th>sexo</th>\n",
       "      <td>0</td>\n",
       "      <td>0.0</td>\n",
       "    </tr>\n",
       "    <tr>\n",
       "      <th>age</th>\n",
       "      <td>0</td>\n",
       "      <td>0.0</td>\n",
       "    </tr>\n",
       "    <tr>\n",
       "      <th>fecha_alta</th>\n",
       "      <td>0</td>\n",
       "      <td>0.0</td>\n",
       "    </tr>\n",
       "    <tr>\n",
       "      <th>ind_nuevo</th>\n",
       "      <td>0</td>\n",
       "      <td>0.0</td>\n",
       "    </tr>\n",
       "    <tr>\n",
       "      <th>antiguedad</th>\n",
       "      <td>0</td>\n",
       "      <td>0.0</td>\n",
       "    </tr>\n",
       "    <tr>\n",
       "      <th>indrel</th>\n",
       "      <td>0</td>\n",
       "      <td>0.0</td>\n",
       "    </tr>\n",
       "    <tr>\n",
       "      <th>indrel_1mes</th>\n",
       "      <td>0</td>\n",
       "      <td>0.0</td>\n",
       "    </tr>\n",
       "    <tr>\n",
       "      <th>tiprel_1mes</th>\n",
       "      <td>0</td>\n",
       "      <td>0.0</td>\n",
       "    </tr>\n",
       "    <tr>\n",
       "      <th>indresi</th>\n",
       "      <td>0</td>\n",
       "      <td>0.0</td>\n",
       "    </tr>\n",
       "    <tr>\n",
       "      <th>indext</th>\n",
       "      <td>0</td>\n",
       "      <td>0.0</td>\n",
       "    </tr>\n",
       "    <tr>\n",
       "      <th>conyuemp</th>\n",
       "      <td>0</td>\n",
       "      <td>0.0</td>\n",
       "    </tr>\n",
       "    <tr>\n",
       "      <th>canal_entrada</th>\n",
       "      <td>0</td>\n",
       "      <td>0.0</td>\n",
       "    </tr>\n",
       "    <tr>\n",
       "      <th>indfall</th>\n",
       "      <td>0</td>\n",
       "      <td>0.0</td>\n",
       "    </tr>\n",
       "    <tr>\n",
       "      <th>nomprov</th>\n",
       "      <td>0</td>\n",
       "      <td>0.0</td>\n",
       "    </tr>\n",
       "    <tr>\n",
       "      <th>ind_actividad_cliente</th>\n",
       "      <td>0</td>\n",
       "      <td>0.0</td>\n",
       "    </tr>\n",
       "    <tr>\n",
       "      <th>renta</th>\n",
       "      <td>0</td>\n",
       "      <td>0.0</td>\n",
       "    </tr>\n",
       "    <tr>\n",
       "      <th>segmento</th>\n",
       "      <td>0</td>\n",
       "      <td>0.0</td>\n",
       "    </tr>\n",
       "    <tr>\n",
       "      <th>ind_ahor_fin_ult1</th>\n",
       "      <td>0</td>\n",
       "      <td>0.0</td>\n",
       "    </tr>\n",
       "    <tr>\n",
       "      <th>ind_aval_fin_ult1</th>\n",
       "      <td>0</td>\n",
       "      <td>0.0</td>\n",
       "    </tr>\n",
       "    <tr>\n",
       "      <th>ind_cco_fin_ult1</th>\n",
       "      <td>0</td>\n",
       "      <td>0.0</td>\n",
       "    </tr>\n",
       "    <tr>\n",
       "      <th>ind_cder_fin_ult1</th>\n",
       "      <td>0</td>\n",
       "      <td>0.0</td>\n",
       "    </tr>\n",
       "    <tr>\n",
       "      <th>ind_cno_fin_ult1</th>\n",
       "      <td>0</td>\n",
       "      <td>0.0</td>\n",
       "    </tr>\n",
       "    <tr>\n",
       "      <th>ind_ctju_fin_ult1</th>\n",
       "      <td>0</td>\n",
       "      <td>0.0</td>\n",
       "    </tr>\n",
       "    <tr>\n",
       "      <th>ind_ctma_fin_ult1</th>\n",
       "      <td>0</td>\n",
       "      <td>0.0</td>\n",
       "    </tr>\n",
       "    <tr>\n",
       "      <th>ind_ctop_fin_ult1</th>\n",
       "      <td>0</td>\n",
       "      <td>0.0</td>\n",
       "    </tr>\n",
       "    <tr>\n",
       "      <th>ind_ctpp_fin_ult1</th>\n",
       "      <td>0</td>\n",
       "      <td>0.0</td>\n",
       "    </tr>\n",
       "    <tr>\n",
       "      <th>ind_deco_fin_ult1</th>\n",
       "      <td>0</td>\n",
       "      <td>0.0</td>\n",
       "    </tr>\n",
       "    <tr>\n",
       "      <th>ind_deme_fin_ult1</th>\n",
       "      <td>0</td>\n",
       "      <td>0.0</td>\n",
       "    </tr>\n",
       "    <tr>\n",
       "      <th>ind_dela_fin_ult1</th>\n",
       "      <td>0</td>\n",
       "      <td>0.0</td>\n",
       "    </tr>\n",
       "    <tr>\n",
       "      <th>ind_ecue_fin_ult1</th>\n",
       "      <td>0</td>\n",
       "      <td>0.0</td>\n",
       "    </tr>\n",
       "    <tr>\n",
       "      <th>ind_fond_fin_ult1</th>\n",
       "      <td>0</td>\n",
       "      <td>0.0</td>\n",
       "    </tr>\n",
       "    <tr>\n",
       "      <th>ind_hip_fin_ult1</th>\n",
       "      <td>0</td>\n",
       "      <td>0.0</td>\n",
       "    </tr>\n",
       "    <tr>\n",
       "      <th>ind_plan_fin_ult1</th>\n",
       "      <td>0</td>\n",
       "      <td>0.0</td>\n",
       "    </tr>\n",
       "    <tr>\n",
       "      <th>ind_pres_fin_ult1</th>\n",
       "      <td>0</td>\n",
       "      <td>0.0</td>\n",
       "    </tr>\n",
       "    <tr>\n",
       "      <th>ind_reca_fin_ult1</th>\n",
       "      <td>0</td>\n",
       "      <td>0.0</td>\n",
       "    </tr>\n",
       "    <tr>\n",
       "      <th>ind_tjcr_fin_ult1</th>\n",
       "      <td>0</td>\n",
       "      <td>0.0</td>\n",
       "    </tr>\n",
       "    <tr>\n",
       "      <th>ind_valo_fin_ult1</th>\n",
       "      <td>0</td>\n",
       "      <td>0.0</td>\n",
       "    </tr>\n",
       "    <tr>\n",
       "      <th>ind_viv_fin_ult1</th>\n",
       "      <td>0</td>\n",
       "      <td>0.0</td>\n",
       "    </tr>\n",
       "    <tr>\n",
       "      <th>ind_nomina_ult1</th>\n",
       "      <td>0</td>\n",
       "      <td>0.0</td>\n",
       "    </tr>\n",
       "    <tr>\n",
       "      <th>ind_nom_pens_ult1</th>\n",
       "      <td>0</td>\n",
       "      <td>0.0</td>\n",
       "    </tr>\n",
       "    <tr>\n",
       "      <th>ind_recibo_ult1</th>\n",
       "      <td>0</td>\n",
       "      <td>0.0</td>\n",
       "    </tr>\n",
       "    <tr>\n",
       "      <th>ult_primary</th>\n",
       "      <td>0</td>\n",
       "      <td>0.0</td>\n",
       "    </tr>\n",
       "  </tbody>\n",
       "</table>\n",
       "</div>"
      ],
      "text/plain": [
       "                       missing  percent\n",
       "fecha_dato                   0      0.0\n",
       "ncodpers                     0      0.0\n",
       "ind_empleado                 0      0.0\n",
       "pais_residencia              0      0.0\n",
       "sexo                         0      0.0\n",
       "age                          0      0.0\n",
       "fecha_alta                   0      0.0\n",
       "ind_nuevo                    0      0.0\n",
       "antiguedad                   0      0.0\n",
       "indrel                       0      0.0\n",
       "indrel_1mes                  0      0.0\n",
       "tiprel_1mes                  0      0.0\n",
       "indresi                      0      0.0\n",
       "indext                       0      0.0\n",
       "conyuemp                     0      0.0\n",
       "canal_entrada                0      0.0\n",
       "indfall                      0      0.0\n",
       "nomprov                      0      0.0\n",
       "ind_actividad_cliente        0      0.0\n",
       "renta                        0      0.0\n",
       "segmento                     0      0.0\n",
       "ind_ahor_fin_ult1            0      0.0\n",
       "ind_aval_fin_ult1            0      0.0\n",
       "ind_cco_fin_ult1             0      0.0\n",
       "ind_cder_fin_ult1            0      0.0\n",
       "ind_cno_fin_ult1             0      0.0\n",
       "ind_ctju_fin_ult1            0      0.0\n",
       "ind_ctma_fin_ult1            0      0.0\n",
       "ind_ctop_fin_ult1            0      0.0\n",
       "ind_ctpp_fin_ult1            0      0.0\n",
       "ind_deco_fin_ult1            0      0.0\n",
       "ind_deme_fin_ult1            0      0.0\n",
       "ind_dela_fin_ult1            0      0.0\n",
       "ind_ecue_fin_ult1            0      0.0\n",
       "ind_fond_fin_ult1            0      0.0\n",
       "ind_hip_fin_ult1             0      0.0\n",
       "ind_plan_fin_ult1            0      0.0\n",
       "ind_pres_fin_ult1            0      0.0\n",
       "ind_reca_fin_ult1            0      0.0\n",
       "ind_tjcr_fin_ult1            0      0.0\n",
       "ind_valo_fin_ult1            0      0.0\n",
       "ind_viv_fin_ult1             0      0.0\n",
       "ind_nomina_ult1              0      0.0\n",
       "ind_nom_pens_ult1            0      0.0\n",
       "ind_recibo_ult1              0      0.0\n",
       "ult_primary                  0      0.0"
      ]
     },
     "execution_count": 202,
     "metadata": {},
     "output_type": "execute_result"
    }
   ],
   "source": [
    "na_check5 = pd.Series.to_frame(train2.isnull().sum())\n",
    "na_check5.columns = ['missing']\n",
    "na_check5['percent'] = na_check5['missing']/train2.shape[0]\n",
    "na_check5"
   ]
  },
  {
   "cell_type": "code",
   "execution_count": 203,
   "metadata": {
    "scrolled": true
   },
   "outputs": [
    {
     "data": {
      "text/html": [
       "<div>\n",
       "<style scoped>\n",
       "    .dataframe tbody tr th:only-of-type {\n",
       "        vertical-align: middle;\n",
       "    }\n",
       "\n",
       "    .dataframe tbody tr th {\n",
       "        vertical-align: top;\n",
       "    }\n",
       "\n",
       "    .dataframe thead th {\n",
       "        text-align: right;\n",
       "    }\n",
       "</style>\n",
       "<table border=\"1\" class=\"dataframe\">\n",
       "  <thead>\n",
       "    <tr style=\"text-align: right;\">\n",
       "      <th></th>\n",
       "      <th>missing</th>\n",
       "      <th>percent</th>\n",
       "    </tr>\n",
       "  </thead>\n",
       "  <tbody>\n",
       "    <tr>\n",
       "      <th>fecha_dato</th>\n",
       "      <td>0</td>\n",
       "      <td>0.000000</td>\n",
       "    </tr>\n",
       "    <tr>\n",
       "      <th>ncodpers</th>\n",
       "      <td>0</td>\n",
       "      <td>0.000000</td>\n",
       "    </tr>\n",
       "    <tr>\n",
       "      <th>ind_empleado</th>\n",
       "      <td>0</td>\n",
       "      <td>0.000000</td>\n",
       "    </tr>\n",
       "    <tr>\n",
       "      <th>pais_residencia</th>\n",
       "      <td>0</td>\n",
       "      <td>0.000000</td>\n",
       "    </tr>\n",
       "    <tr>\n",
       "      <th>sexo</th>\n",
       "      <td>0</td>\n",
       "      <td>0.000000</td>\n",
       "    </tr>\n",
       "    <tr>\n",
       "      <th>age</th>\n",
       "      <td>0</td>\n",
       "      <td>0.000000</td>\n",
       "    </tr>\n",
       "    <tr>\n",
       "      <th>fecha_alta</th>\n",
       "      <td>0</td>\n",
       "      <td>0.000000</td>\n",
       "    </tr>\n",
       "    <tr>\n",
       "      <th>ind_nuevo</th>\n",
       "      <td>0</td>\n",
       "      <td>0.000000</td>\n",
       "    </tr>\n",
       "    <tr>\n",
       "      <th>antiguedad</th>\n",
       "      <td>0</td>\n",
       "      <td>0.000000</td>\n",
       "    </tr>\n",
       "    <tr>\n",
       "      <th>indrel</th>\n",
       "      <td>0</td>\n",
       "      <td>0.000000</td>\n",
       "    </tr>\n",
       "    <tr>\n",
       "      <th>indrel_1mes</th>\n",
       "      <td>0</td>\n",
       "      <td>0.000000</td>\n",
       "    </tr>\n",
       "    <tr>\n",
       "      <th>tiprel_1mes</th>\n",
       "      <td>0</td>\n",
       "      <td>0.000000</td>\n",
       "    </tr>\n",
       "    <tr>\n",
       "      <th>indresi</th>\n",
       "      <td>0</td>\n",
       "      <td>0.000000</td>\n",
       "    </tr>\n",
       "    <tr>\n",
       "      <th>indext</th>\n",
       "      <td>0</td>\n",
       "      <td>0.000000</td>\n",
       "    </tr>\n",
       "    <tr>\n",
       "      <th>conyuemp</th>\n",
       "      <td>0</td>\n",
       "      <td>0.000000</td>\n",
       "    </tr>\n",
       "    <tr>\n",
       "      <th>canal_entrada</th>\n",
       "      <td>0</td>\n",
       "      <td>0.000000</td>\n",
       "    </tr>\n",
       "    <tr>\n",
       "      <th>indfall</th>\n",
       "      <td>0</td>\n",
       "      <td>0.000000</td>\n",
       "    </tr>\n",
       "    <tr>\n",
       "      <th>nomprov</th>\n",
       "      <td>0</td>\n",
       "      <td>0.000000</td>\n",
       "    </tr>\n",
       "    <tr>\n",
       "      <th>ind_actividad_cliente</th>\n",
       "      <td>0</td>\n",
       "      <td>0.000000</td>\n",
       "    </tr>\n",
       "    <tr>\n",
       "      <th>renta</th>\n",
       "      <td>227965</td>\n",
       "      <td>0.245225</td>\n",
       "    </tr>\n",
       "    <tr>\n",
       "      <th>segmento</th>\n",
       "      <td>0</td>\n",
       "      <td>0.000000</td>\n",
       "    </tr>\n",
       "    <tr>\n",
       "      <th>ult_primary</th>\n",
       "      <td>0</td>\n",
       "      <td>0.000000</td>\n",
       "    </tr>\n",
       "  </tbody>\n",
       "</table>\n",
       "</div>"
      ],
      "text/plain": [
       "                       missing   percent\n",
       "fecha_dato                   0  0.000000\n",
       "ncodpers                     0  0.000000\n",
       "ind_empleado                 0  0.000000\n",
       "pais_residencia              0  0.000000\n",
       "sexo                         0  0.000000\n",
       "age                          0  0.000000\n",
       "fecha_alta                   0  0.000000\n",
       "ind_nuevo                    0  0.000000\n",
       "antiguedad                   0  0.000000\n",
       "indrel                       0  0.000000\n",
       "indrel_1mes                  0  0.000000\n",
       "tiprel_1mes                  0  0.000000\n",
       "indresi                      0  0.000000\n",
       "indext                       0  0.000000\n",
       "conyuemp                     0  0.000000\n",
       "canal_entrada                0  0.000000\n",
       "indfall                      0  0.000000\n",
       "nomprov                      0  0.000000\n",
       "ind_actividad_cliente        0  0.000000\n",
       "renta                   227965  0.245225\n",
       "segmento                     0  0.000000\n",
       "ult_primary                  0  0.000000"
      ]
     },
     "execution_count": 203,
     "metadata": {},
     "output_type": "execute_result"
    }
   ],
   "source": [
    "na_check6 = pd.Series.to_frame(test2.isnull().sum())\n",
    "na_check6.columns = ['missing']\n",
    "na_check6['percent'] = na_check6['missing']/test2.shape[0]\n",
    "na_check6"
   ]
  },
  {
   "cell_type": "markdown",
   "metadata": {},
   "source": [
    "##### renta"
   ]
  },
  {
   "cell_type": "code",
   "execution_count": 209,
   "metadata": {
    "collapsed": true
   },
   "outputs": [],
   "source": [
    "null_renta = test2[test2['renta'].isnull()]['ncodpers']\n",
    "renta_info = train2[train2.ncodpers.isin(null_renta)][['ncodpers', 'renta']].drop_duplicates()"
   ]
  },
  {
   "cell_type": "code",
   "execution_count": 210,
   "metadata": {
    "scrolled": true
   },
   "outputs": [
    {
     "data": {
      "text/html": [
       "<div>\n",
       "<style scoped>\n",
       "    .dataframe tbody tr th:only-of-type {\n",
       "        vertical-align: middle;\n",
       "    }\n",
       "\n",
       "    .dataframe tbody tr th {\n",
       "        vertical-align: top;\n",
       "    }\n",
       "\n",
       "    .dataframe thead th {\n",
       "        text-align: right;\n",
       "    }\n",
       "</style>\n",
       "<table border=\"1\" class=\"dataframe\">\n",
       "  <thead>\n",
       "    <tr style=\"text-align: right;\">\n",
       "      <th></th>\n",
       "      <th>ncodpers</th>\n",
       "      <th>renta</th>\n",
       "    </tr>\n",
       "  </thead>\n",
       "  <tbody>\n",
       "    <tr>\n",
       "      <th>4</th>\n",
       "      <td>1050614</td>\n",
       "      <td>99950.28</td>\n",
       "    </tr>\n",
       "    <tr>\n",
       "      <th>8</th>\n",
       "      <td>1050619</td>\n",
       "      <td>80599.14</td>\n",
       "    </tr>\n",
       "    <tr>\n",
       "      <th>11</th>\n",
       "      <td>1050622</td>\n",
       "      <td>108963.21</td>\n",
       "    </tr>\n",
       "    <tr>\n",
       "      <th>14</th>\n",
       "      <td>1050625</td>\n",
       "      <td>74692.71</td>\n",
       "    </tr>\n",
       "    <tr>\n",
       "      <th>15</th>\n",
       "      <td>1050626</td>\n",
       "      <td>131214.48</td>\n",
       "    </tr>\n",
       "  </tbody>\n",
       "</table>\n",
       "</div>"
      ],
      "text/plain": [
       "    ncodpers      renta\n",
       "4    1050614   99950.28\n",
       "8    1050619   80599.14\n",
       "11   1050622  108963.21\n",
       "14   1050625   74692.71\n",
       "15   1050626  131214.48"
      ]
     },
     "execution_count": 210,
     "metadata": {},
     "output_type": "execute_result"
    }
   ],
   "source": [
    "renta_info.head()"
   ]
  },
  {
   "cell_type": "code",
   "execution_count": 212,
   "metadata": {
    "collapsed": true
   },
   "outputs": [],
   "source": [
    "renta_unique = renta_info.groupby('ncodpers', as_index = False).agg({'renta': lambda x: tuple(x)[-1]})"
   ]
  },
  {
   "cell_type": "code",
   "execution_count": 213,
   "metadata": {
    "collapsed": true
   },
   "outputs": [],
   "source": [
    "renta_unique = renta_unique.set_index('ncodpers')"
   ]
  },
  {
   "cell_type": "code",
   "execution_count": 214,
   "metadata": {
    "collapsed": true
   },
   "outputs": [],
   "source": [
    "nc_renta = test2[test2.renta.isnull()]['ncodpers']"
   ]
  },
  {
   "cell_type": "code",
   "execution_count": 215,
   "metadata": {
    "collapsed": true
   },
   "outputs": [],
   "source": [
    "renta_unique = renta_unique.loc[nc_renta]"
   ]
  },
  {
   "cell_type": "code",
   "execution_count": 219,
   "metadata": {
    "collapsed": true
   },
   "outputs": [],
   "source": [
    "test2.loc[test2.renta.isnull(), 'renta'] = renta_unique['renta'].values"
   ]
  },
  {
   "cell_type": "code",
   "execution_count": 220,
   "metadata": {},
   "outputs": [
    {
     "data": {
      "text/plain": [
       "0"
      ]
     },
     "execution_count": 220,
     "metadata": {},
     "output_type": "execute_result"
    }
   ],
   "source": [
    "test2['renta'].isnull().sum()"
   ]
  },
  {
   "cell_type": "code",
   "execution_count": 16,
   "metadata": {
    "collapsed": true
   },
   "outputs": [],
   "source": [
    "root ='/Users/mengruiyin/Dropbox/project2'"
   ]
  },
  {
   "cell_type": "code",
   "execution_count": 226,
   "metadata": {
    "collapsed": true
   },
   "outputs": [],
   "source": [
    "train2.to_csv(root + '/train2_newst.csv', index = False)"
   ]
  },
  {
   "cell_type": "code",
   "execution_count": 227,
   "metadata": {
    "collapsed": true
   },
   "outputs": [],
   "source": [
    "test2.to_csv(root + '/test2_newst.csv', index = False)"
   ]
  },
  {
   "cell_type": "code",
   "execution_count": 10,
   "metadata": {
    "scrolled": true
   },
   "outputs": [
    {
     "name": "stderr",
     "output_type": "stream",
     "text": [
      "/Users/mengruiyin/.local/lib/python2.7/site-packages/IPython/core/interactiveshell.py:2718: DtypeWarning: Columns (10) have mixed types. Specify dtype option on import or set low_memory=False.\n",
      "  interactivity=interactivity, compiler=compiler, result=result)\n"
     ]
    }
   ],
   "source": [
    "train2 = pd.read_csv(root + '/train2_newst.csv')"
   ]
  },
  {
   "cell_type": "code",
   "execution_count": 238,
   "metadata": {
    "collapsed": true
   },
   "outputs": [
    {
     "data": {
      "text/html": [
       "<div>\n",
       "<style scoped>\n",
       "    .dataframe tbody tr th:only-of-type {\n",
       "        vertical-align: middle;\n",
       "    }\n",
       "\n",
       "    .dataframe tbody tr th {\n",
       "        vertical-align: top;\n",
       "    }\n",
       "\n",
       "    .dataframe thead th {\n",
       "        text-align: right;\n",
       "    }\n",
       "</style>\n",
       "<table border=\"1\" class=\"dataframe\">\n",
       "  <thead>\n",
       "    <tr style=\"text-align: right;\">\n",
       "      <th></th>\n",
       "      <th>fecha_dato</th>\n",
       "      <th>ncodpers</th>\n",
       "      <th>ind_empleado</th>\n",
       "      <th>pais_residencia</th>\n",
       "      <th>sexo</th>\n",
       "      <th>age</th>\n",
       "      <th>fecha_alta</th>\n",
       "      <th>ind_nuevo</th>\n",
       "      <th>antiguedad</th>\n",
       "      <th>indrel</th>\n",
       "      <th>indrel_1mes</th>\n",
       "      <th>tiprel_1mes</th>\n",
       "      <th>indresi</th>\n",
       "      <th>indext</th>\n",
       "      <th>conyuemp</th>\n",
       "      <th>canal_entrada</th>\n",
       "      <th>indfall</th>\n",
       "      <th>nomprov</th>\n",
       "      <th>ind_actividad_cliente</th>\n",
       "      <th>renta</th>\n",
       "      <th>segmento</th>\n",
       "      <th>ind_ahor_fin_ult1</th>\n",
       "      <th>ind_aval_fin_ult1</th>\n",
       "      <th>ind_cco_fin_ult1</th>\n",
       "      <th>ind_cder_fin_ult1</th>\n",
       "      <th>ind_cno_fin_ult1</th>\n",
       "      <th>ind_ctju_fin_ult1</th>\n",
       "      <th>ind_ctma_fin_ult1</th>\n",
       "      <th>ind_ctop_fin_ult1</th>\n",
       "      <th>ind_ctpp_fin_ult1</th>\n",
       "      <th>ind_deco_fin_ult1</th>\n",
       "      <th>ind_deme_fin_ult1</th>\n",
       "      <th>ind_dela_fin_ult1</th>\n",
       "      <th>ind_ecue_fin_ult1</th>\n",
       "      <th>ind_fond_fin_ult1</th>\n",
       "      <th>ind_hip_fin_ult1</th>\n",
       "      <th>ind_plan_fin_ult1</th>\n",
       "      <th>ind_pres_fin_ult1</th>\n",
       "      <th>ind_reca_fin_ult1</th>\n",
       "      <th>ind_tjcr_fin_ult1</th>\n",
       "      <th>ind_valo_fin_ult1</th>\n",
       "      <th>ind_viv_fin_ult1</th>\n",
       "      <th>ind_nomina_ult1</th>\n",
       "      <th>ind_nom_pens_ult1</th>\n",
       "      <th>ind_recibo_ult1</th>\n",
       "      <th>ult_primary</th>\n",
       "    </tr>\n",
       "  </thead>\n",
       "  <tbody>\n",
       "    <tr>\n",
       "      <th>0</th>\n",
       "      <td>2015-01-28</td>\n",
       "      <td>1375586</td>\n",
       "      <td>N</td>\n",
       "      <td>ES</td>\n",
       "      <td>H</td>\n",
       "      <td>35</td>\n",
       "      <td>2015-01-12</td>\n",
       "      <td>0.0</td>\n",
       "      <td>6</td>\n",
       "      <td>1.0</td>\n",
       "      <td>1</td>\n",
       "      <td>A</td>\n",
       "      <td>S</td>\n",
       "      <td>N</td>\n",
       "      <td>unknown</td>\n",
       "      <td>KHL</td>\n",
       "      <td>N</td>\n",
       "      <td>MALAGA</td>\n",
       "      <td>1.0</td>\n",
       "      <td>87218.10</td>\n",
       "      <td>02 - PARTICULARES</td>\n",
       "      <td>0</td>\n",
       "      <td>0</td>\n",
       "      <td>1</td>\n",
       "      <td>0</td>\n",
       "      <td>0</td>\n",
       "      <td>0</td>\n",
       "      <td>0</td>\n",
       "      <td>0</td>\n",
       "      <td>0</td>\n",
       "      <td>0</td>\n",
       "      <td>0</td>\n",
       "      <td>0</td>\n",
       "      <td>0</td>\n",
       "      <td>0</td>\n",
       "      <td>0</td>\n",
       "      <td>0</td>\n",
       "      <td>0</td>\n",
       "      <td>0</td>\n",
       "      <td>0</td>\n",
       "      <td>0</td>\n",
       "      <td>0</td>\n",
       "      <td>0.0</td>\n",
       "      <td>0.0</td>\n",
       "      <td>0</td>\n",
       "      <td>1</td>\n",
       "    </tr>\n",
       "    <tr>\n",
       "      <th>1</th>\n",
       "      <td>2015-01-28</td>\n",
       "      <td>1050611</td>\n",
       "      <td>N</td>\n",
       "      <td>ES</td>\n",
       "      <td>V</td>\n",
       "      <td>23</td>\n",
       "      <td>2012-08-10</td>\n",
       "      <td>0.0</td>\n",
       "      <td>35</td>\n",
       "      <td>1.0</td>\n",
       "      <td>1</td>\n",
       "      <td>I</td>\n",
       "      <td>S</td>\n",
       "      <td>S</td>\n",
       "      <td>unknown</td>\n",
       "      <td>KHE</td>\n",
       "      <td>N</td>\n",
       "      <td>CIUDAD REAL</td>\n",
       "      <td>0.0</td>\n",
       "      <td>35548.74</td>\n",
       "      <td>03 - UNIVERSITARIO</td>\n",
       "      <td>0</td>\n",
       "      <td>0</td>\n",
       "      <td>1</td>\n",
       "      <td>0</td>\n",
       "      <td>0</td>\n",
       "      <td>0</td>\n",
       "      <td>0</td>\n",
       "      <td>0</td>\n",
       "      <td>0</td>\n",
       "      <td>0</td>\n",
       "      <td>0</td>\n",
       "      <td>0</td>\n",
       "      <td>0</td>\n",
       "      <td>0</td>\n",
       "      <td>0</td>\n",
       "      <td>0</td>\n",
       "      <td>0</td>\n",
       "      <td>0</td>\n",
       "      <td>0</td>\n",
       "      <td>0</td>\n",
       "      <td>0</td>\n",
       "      <td>0.0</td>\n",
       "      <td>0.0</td>\n",
       "      <td>0</td>\n",
       "      <td>1</td>\n",
       "    </tr>\n",
       "    <tr>\n",
       "      <th>2</th>\n",
       "      <td>2015-01-28</td>\n",
       "      <td>1050612</td>\n",
       "      <td>N</td>\n",
       "      <td>ES</td>\n",
       "      <td>V</td>\n",
       "      <td>23</td>\n",
       "      <td>2012-08-10</td>\n",
       "      <td>0.0</td>\n",
       "      <td>35</td>\n",
       "      <td>1.0</td>\n",
       "      <td>1</td>\n",
       "      <td>I</td>\n",
       "      <td>S</td>\n",
       "      <td>N</td>\n",
       "      <td>unknown</td>\n",
       "      <td>KHE</td>\n",
       "      <td>N</td>\n",
       "      <td>CIUDAD REAL</td>\n",
       "      <td>0.0</td>\n",
       "      <td>122179.11</td>\n",
       "      <td>01 - TOP</td>\n",
       "      <td>0</td>\n",
       "      <td>0</td>\n",
       "      <td>1</td>\n",
       "      <td>0</td>\n",
       "      <td>0</td>\n",
       "      <td>0</td>\n",
       "      <td>0</td>\n",
       "      <td>0</td>\n",
       "      <td>0</td>\n",
       "      <td>0</td>\n",
       "      <td>0</td>\n",
       "      <td>0</td>\n",
       "      <td>0</td>\n",
       "      <td>0</td>\n",
       "      <td>0</td>\n",
       "      <td>0</td>\n",
       "      <td>0</td>\n",
       "      <td>0</td>\n",
       "      <td>0</td>\n",
       "      <td>0</td>\n",
       "      <td>0</td>\n",
       "      <td>0.0</td>\n",
       "      <td>0.0</td>\n",
       "      <td>0</td>\n",
       "      <td>1</td>\n",
       "    </tr>\n",
       "    <tr>\n",
       "      <th>3</th>\n",
       "      <td>2015-01-28</td>\n",
       "      <td>1050613</td>\n",
       "      <td>N</td>\n",
       "      <td>ES</td>\n",
       "      <td>H</td>\n",
       "      <td>22</td>\n",
       "      <td>2012-08-10</td>\n",
       "      <td>0.0</td>\n",
       "      <td>35</td>\n",
       "      <td>1.0</td>\n",
       "      <td>1</td>\n",
       "      <td>I</td>\n",
       "      <td>S</td>\n",
       "      <td>N</td>\n",
       "      <td>unknown</td>\n",
       "      <td>KHD</td>\n",
       "      <td>N</td>\n",
       "      <td>ZARAGOZA</td>\n",
       "      <td>0.0</td>\n",
       "      <td>119775.54</td>\n",
       "      <td>01 - TOP</td>\n",
       "      <td>0</td>\n",
       "      <td>0</td>\n",
       "      <td>0</td>\n",
       "      <td>0</td>\n",
       "      <td>0</td>\n",
       "      <td>0</td>\n",
       "      <td>0</td>\n",
       "      <td>0</td>\n",
       "      <td>0</td>\n",
       "      <td>1</td>\n",
       "      <td>0</td>\n",
       "      <td>0</td>\n",
       "      <td>0</td>\n",
       "      <td>0</td>\n",
       "      <td>0</td>\n",
       "      <td>0</td>\n",
       "      <td>0</td>\n",
       "      <td>0</td>\n",
       "      <td>0</td>\n",
       "      <td>0</td>\n",
       "      <td>0</td>\n",
       "      <td>0.0</td>\n",
       "      <td>0.0</td>\n",
       "      <td>0</td>\n",
       "      <td>1</td>\n",
       "    </tr>\n",
       "    <tr>\n",
       "      <th>4</th>\n",
       "      <td>2015-01-28</td>\n",
       "      <td>1050614</td>\n",
       "      <td>N</td>\n",
       "      <td>ES</td>\n",
       "      <td>V</td>\n",
       "      <td>23</td>\n",
       "      <td>2012-08-10</td>\n",
       "      <td>0.0</td>\n",
       "      <td>35</td>\n",
       "      <td>1.0</td>\n",
       "      <td>1</td>\n",
       "      <td>A</td>\n",
       "      <td>S</td>\n",
       "      <td>N</td>\n",
       "      <td>unknown</td>\n",
       "      <td>KHE</td>\n",
       "      <td>N</td>\n",
       "      <td>ZARAGOZA</td>\n",
       "      <td>1.0</td>\n",
       "      <td>99950.28</td>\n",
       "      <td>02 - PARTICULARES</td>\n",
       "      <td>0</td>\n",
       "      <td>0</td>\n",
       "      <td>1</td>\n",
       "      <td>0</td>\n",
       "      <td>0</td>\n",
       "      <td>0</td>\n",
       "      <td>0</td>\n",
       "      <td>0</td>\n",
       "      <td>0</td>\n",
       "      <td>0</td>\n",
       "      <td>0</td>\n",
       "      <td>0</td>\n",
       "      <td>0</td>\n",
       "      <td>0</td>\n",
       "      <td>0</td>\n",
       "      <td>0</td>\n",
       "      <td>0</td>\n",
       "      <td>0</td>\n",
       "      <td>0</td>\n",
       "      <td>0</td>\n",
       "      <td>0</td>\n",
       "      <td>0.0</td>\n",
       "      <td>0.0</td>\n",
       "      <td>0</td>\n",
       "      <td>1</td>\n",
       "    </tr>\n",
       "  </tbody>\n",
       "</table>\n",
       "</div>"
      ],
      "text/plain": [
       "   fecha_dato  ncodpers ind_empleado pais_residencia sexo  age  fecha_alta  \\\n",
       "0  2015-01-28   1375586            N              ES    H   35  2015-01-12   \n",
       "1  2015-01-28   1050611            N              ES    V   23  2012-08-10   \n",
       "2  2015-01-28   1050612            N              ES    V   23  2012-08-10   \n",
       "3  2015-01-28   1050613            N              ES    H   22  2012-08-10   \n",
       "4  2015-01-28   1050614            N              ES    V   23  2012-08-10   \n",
       "\n",
       "   ind_nuevo  antiguedad  indrel indrel_1mes tiprel_1mes indresi indext  \\\n",
       "0        0.0           6     1.0           1           A       S      N   \n",
       "1        0.0          35     1.0           1           I       S      S   \n",
       "2        0.0          35     1.0           1           I       S      N   \n",
       "3        0.0          35     1.0           1           I       S      N   \n",
       "4        0.0          35     1.0           1           A       S      N   \n",
       "\n",
       "  conyuemp canal_entrada indfall      nomprov  ind_actividad_cliente  \\\n",
       "0  unknown           KHL       N       MALAGA                    1.0   \n",
       "1  unknown           KHE       N  CIUDAD REAL                    0.0   \n",
       "2  unknown           KHE       N  CIUDAD REAL                    0.0   \n",
       "3  unknown           KHD       N     ZARAGOZA                    0.0   \n",
       "4  unknown           KHE       N     ZARAGOZA                    1.0   \n",
       "\n",
       "       renta            segmento  ind_ahor_fin_ult1  ind_aval_fin_ult1  \\\n",
       "0   87218.10   02 - PARTICULARES                  0                  0   \n",
       "1   35548.74  03 - UNIVERSITARIO                  0                  0   \n",
       "2  122179.11            01 - TOP                  0                  0   \n",
       "3  119775.54            01 - TOP                  0                  0   \n",
       "4   99950.28   02 - PARTICULARES                  0                  0   \n",
       "\n",
       "   ind_cco_fin_ult1  ind_cder_fin_ult1  ind_cno_fin_ult1  ind_ctju_fin_ult1  \\\n",
       "0                 1                  0                 0                  0   \n",
       "1                 1                  0                 0                  0   \n",
       "2                 1                  0                 0                  0   \n",
       "3                 0                  0                 0                  0   \n",
       "4                 1                  0                 0                  0   \n",
       "\n",
       "   ind_ctma_fin_ult1  ind_ctop_fin_ult1  ind_ctpp_fin_ult1  ind_deco_fin_ult1  \\\n",
       "0                  0                  0                  0                  0   \n",
       "1                  0                  0                  0                  0   \n",
       "2                  0                  0                  0                  0   \n",
       "3                  0                  0                  0                  1   \n",
       "4                  0                  0                  0                  0   \n",
       "\n",
       "   ind_deme_fin_ult1  ind_dela_fin_ult1  ind_ecue_fin_ult1  ind_fond_fin_ult1  \\\n",
       "0                  0                  0                  0                  0   \n",
       "1                  0                  0                  0                  0   \n",
       "2                  0                  0                  0                  0   \n",
       "3                  0                  0                  0                  0   \n",
       "4                  0                  0                  0                  0   \n",
       "\n",
       "   ind_hip_fin_ult1  ind_plan_fin_ult1  ind_pres_fin_ult1  ind_reca_fin_ult1  \\\n",
       "0                 0                  0                  0                  0   \n",
       "1                 0                  0                  0                  0   \n",
       "2                 0                  0                  0                  0   \n",
       "3                 0                  0                  0                  0   \n",
       "4                 0                  0                  0                  0   \n",
       "\n",
       "   ind_tjcr_fin_ult1  ind_valo_fin_ult1  ind_viv_fin_ult1  ind_nomina_ult1  \\\n",
       "0                  0                  0                 0              0.0   \n",
       "1                  0                  0                 0              0.0   \n",
       "2                  0                  0                 0              0.0   \n",
       "3                  0                  0                 0              0.0   \n",
       "4                  0                  0                 0              0.0   \n",
       "\n",
       "   ind_nom_pens_ult1  ind_recibo_ult1  ult_primary  \n",
       "0                0.0                0            1  \n",
       "1                0.0                0            1  \n",
       "2                0.0                0            1  \n",
       "3                0.0                0            1  \n",
       "4                0.0                0            1  "
      ]
     },
     "execution_count": 238,
     "metadata": {},
     "output_type": "execute_result"
    }
   ],
   "source": [
    "train2.head()"
   ]
  },
  {
   "cell_type": "code",
   "execution_count": 239,
   "metadata": {
    "collapsed": true
   },
   "outputs": [],
   "source": [
    "test2 = pd.read_csv(root + '/test2_newst.csv')"
   ]
  },
  {
   "cell_type": "markdown",
   "metadata": {},
   "source": [
    "### transform data"
   ]
  },
  {
   "cell_type": "code",
   "execution_count": 240,
   "metadata": {},
   "outputs": [
    {
     "data": {
      "text/plain": [
       "count    929615.000000\n",
       "mean         77.728413\n",
       "std        1797.824518\n",
       "min     -999999.000000\n",
       "25%          23.000000\n",
       "50%          55.000000\n",
       "75%         136.000000\n",
       "max         257.000000\n",
       "Name: antiguedad, dtype: float64"
      ]
     },
     "execution_count": 240,
     "metadata": {},
     "output_type": "execute_result"
    }
   ],
   "source": [
    "test2.antiguedad.describe()"
   ]
  },
  {
   "cell_type": "markdown",
   "metadata": {},
   "source": [
    "step1: \n",
    "* age: change age greater than 75 to 83. (actually, at first I deleted the observations whose age greater than 75. However then I realized doing this will decrease data in testing data.)\n",
    "* bins: created based on age\n",
    "* fecha_alta_year, month and weekday: ectracted from fecha_alta\n",
    "* antiguedad: for observations who has extreme large number in seniority, I changed them to median of seniority. \n",
    "* antiguedad_years: derived by using seniority deviding by 12"
   ]
  },
  {
   "cell_type": "code",
   "execution_count": 277,
   "metadata": {
    "collapsed": true
   },
   "outputs": [],
   "source": [
    "def add_feature(df):\n",
    "    #age \n",
    "    df.loc[df.age > 75,\"age\"] = 83\n",
    "    bins = [0, 10, 20, 30, 40, 50, 60, 70, 80, 90]\n",
    "    labels=[\"1-10\", \"11-20\", \"21-30\",\"31-40\", \"41-50\", \"51-60\", \"61-70\", \"71-80\", \"81-90\"]\n",
    "    df['bins'] = pd.cut(df['age'], bins=bins, labels=labels, include_lowest=True)\n",
    "    #date\n",
    "    df['fecha_alta_year'] = pd.DatetimeIndex(df.fecha_alta).year - 1995\n",
    "    #df['fecha_dato_year'] = pd.DatetimeIndex(df.fecha_dato).year - 2015\n",
    "    df['fecha_alta_month'] = pd.DatetimeIndex(df.fecha_alta).month - 1\n",
    "    #df['fecha_dato_month'] = pd.DatetimeIndex(df.fecha_dato).month - 1\n",
    "    #df['fecha_alta_year'] = pd.DatetimeIndex(df.fecha_alta).year - 1995\n",
    "    #df['fecha_dato_year'] = pd.DatetimeIndex(df.fecha_dato).year - 2015\n",
    "    #df['fecha_alta_month'] = pd.DatetimeIndex(df.fecha_alta).month - 1\n",
    "    df['fecha_alta_weekday'] = pd.DatetimeIndex(df.fecha_alta).weekday\n",
    "    #df['fecha_alta_wom'] = df.fecha_alta.apply(week_of_month)\n",
    "    #df['fecha_dato_month'] = pd.DatetimeIndex(df.fecha_dato).month - 1\n",
    "    #antiguedad\n",
    "    df.loc[df.antiguedad == -999999, 'antiguedad'] = df['antiguedad'].median()\n",
    "    df['antiguedad_years'] = df.antiguedad // 12\n",
    "    #marriage\n",
    "    #df['marriage'] = np.where(df.age > 25, 1, 0)\n",
    "    return df "
   ]
  },
  {
   "cell_type": "code",
   "execution_count": 278,
   "metadata": {
    "collapsed": true
   },
   "outputs": [],
   "source": [
    "train2 = add_feature(train2)"
   ]
  },
  {
   "cell_type": "code",
   "execution_count": 272,
   "metadata": {
    "collapsed": true
   },
   "outputs": [],
   "source": [
    "test2 = add_feature(test2)"
   ]
  },
  {
   "cell_type": "code",
   "execution_count": 281,
   "metadata": {},
   "outputs": [
    {
     "data": {
      "text/plain": [
       "Index([u'fecha_dato', u'ncodpers', u'ind_empleado', u'pais_residencia',\n",
       "       u'sexo', u'age', u'fecha_alta', u'ind_nuevo', u'antiguedad', u'indrel',\n",
       "       u'indrel_1mes', u'tiprel_1mes', u'indresi', u'indext', u'conyuemp',\n",
       "       u'canal_entrada', u'indfall', u'nomprov', u'ind_actividad_cliente',\n",
       "       u'renta', u'segmento', u'ult_primary', u'bins', u'fecha_alta_year',\n",
       "       u'fecha_alta_month', u'fecha_alta_weekday', u'antiguedad_years',\n",
       "       u'marriage'],\n",
       "      dtype='object')"
      ]
     },
     "execution_count": 281,
     "metadata": {},
     "output_type": "execute_result"
    }
   ],
   "source": [
    "feature2 = train2.columns[~train2.columns.isin(product)]\n",
    "feature2"
   ]
  },
  {
   "cell_type": "code",
   "execution_count": 282,
   "metadata": {},
   "outputs": [
    {
     "data": {
      "text/plain": [
       "True"
      ]
     },
     "execution_count": 282,
     "metadata": {},
     "output_type": "execute_result"
    }
   ],
   "source": [
    "feature2.equals(test2.columns)"
   ]
  },
  {
   "cell_type": "code",
   "execution_count": 286,
   "metadata": {
    "collapsed": true
   },
   "outputs": [],
   "source": [
    "train2.to_csv(root + '/train2_newst.csv', index = False)"
   ]
  },
  {
   "cell_type": "code",
   "execution_count": 287,
   "metadata": {
    "collapsed": true
   },
   "outputs": [],
   "source": [
    "test2.to_csv(root + '/test2_newst.csv', index = False)"
   ]
  },
  {
   "cell_type": "code",
   "execution_count": 21,
   "metadata": {
    "collapsed": true
   },
   "outputs": [],
   "source": [
    "train2 = pd.read_csv(root + '/train2_newst.csv')"
   ]
  },
  {
   "cell_type": "code",
   "execution_count": 22,
   "metadata": {
    "collapsed": true
   },
   "outputs": [],
   "source": [
    "test2 = pd.read_csv(root + '/test2_newst.csv')"
   ]
  },
  {
   "cell_type": "markdown",
   "metadata": {},
   "source": [
    "step2: check whether categorical varialbes have the same class in training and testing set\n",
    "(since at first to fit model, I convert all categorical variables to dummy variable. However, for some variables, testing set don't have the same number values as training data. That will result in testing set don't have the same features as training data.  \n",
    "* for categorical variables that training and testing set have different values(indrel_1mes and tiprel_1mes) and for categorical variables that have too many values(country, province, channel and bins), I encoded these variables.\n",
    "* for other categorical variables, I transformed to dummy variables. "
   ]
  },
  {
   "cell_type": "code",
   "execution_count": 29,
   "metadata": {
    "scrolled": true
   },
   "outputs": [
    {
     "data": {
      "text/plain": [
       "fecha_dato                object\n",
       "ncodpers                   int64\n",
       "ind_empleado              object\n",
       "pais_residencia           object\n",
       "sexo                      object\n",
       "age                        int64\n",
       "fecha_alta                object\n",
       "ind_nuevo                float64\n",
       "antiguedad               float64\n",
       "indrel                   float64\n",
       "indrel_1mes               object\n",
       "tiprel_1mes               object\n",
       "indresi                   object\n",
       "indext                    object\n",
       "conyuemp                  object\n",
       "canal_entrada             object\n",
       "indfall                   object\n",
       "nomprov                   object\n",
       "ind_actividad_cliente    float64\n",
       "renta                    float64\n",
       "segmento                  object\n",
       "ind_ahor_fin_ult1          int64\n",
       "ind_aval_fin_ult1          int64\n",
       "ind_cco_fin_ult1           int64\n",
       "ind_cder_fin_ult1          int64\n",
       "ind_cno_fin_ult1           int64\n",
       "ind_ctju_fin_ult1          int64\n",
       "ind_ctma_fin_ult1          int64\n",
       "ind_ctop_fin_ult1          int64\n",
       "ind_ctpp_fin_ult1          int64\n",
       "ind_deco_fin_ult1          int64\n",
       "ind_deme_fin_ult1          int64\n",
       "ind_dela_fin_ult1          int64\n",
       "ind_ecue_fin_ult1          int64\n",
       "ind_fond_fin_ult1          int64\n",
       "ind_hip_fin_ult1           int64\n",
       "ind_plan_fin_ult1          int64\n",
       "ind_pres_fin_ult1          int64\n",
       "ind_reca_fin_ult1          int64\n",
       "ind_tjcr_fin_ult1          int64\n",
       "ind_valo_fin_ult1          int64\n",
       "ind_viv_fin_ult1           int64\n",
       "ind_nomina_ult1          float64\n",
       "ind_nom_pens_ult1        float64\n",
       "ind_recibo_ult1            int64\n",
       "ult_primary                int64\n",
       "bins                      object\n",
       "fecha_alta_year            int64\n",
       "fecha_alta_month           int64\n",
       "fecha_alta_weekday         int64\n",
       "antiguedad_years         float64\n",
       "marriage                   int64\n",
       "dtype: object"
      ]
     },
     "execution_count": 29,
     "metadata": {},
     "output_type": "execute_result"
    }
   ],
   "source": [
    "train2.dtypes"
   ]
  },
  {
   "cell_type": "code",
   "execution_count": 30,
   "metadata": {
    "collapsed": true
   },
   "outputs": [
    {
     "data": {
      "text/plain": [
       "fecha_dato                object\n",
       "ncodpers                   int64\n",
       "ind_empleado              object\n",
       "pais_residencia           object\n",
       "sexo                      object\n",
       "age                        int64\n",
       "fecha_alta                object\n",
       "ind_nuevo                  int64\n",
       "antiguedad               float64\n",
       "indrel                     int64\n",
       "indrel_1mes              float64\n",
       "tiprel_1mes               object\n",
       "indresi                   object\n",
       "indext                    object\n",
       "conyuemp                  object\n",
       "canal_entrada             object\n",
       "indfall                   object\n",
       "nomprov                   object\n",
       "ind_actividad_cliente      int64\n",
       "renta                    float64\n",
       "segmento                  object\n",
       "ult_primary                int64\n",
       "bins                      object\n",
       "fecha_alta_year            int64\n",
       "fecha_alta_month           int64\n",
       "fecha_alta_weekday         int64\n",
       "antiguedad_years         float64\n",
       "marriage                   int64\n",
       "dtype: object"
      ]
     },
     "execution_count": 30,
     "metadata": {},
     "output_type": "execute_result"
    }
   ],
   "source": [
    "test2.dtypes"
   ]
  },
  {
   "cell_type": "code",
   "execution_count": 31,
   "metadata": {
    "collapsed": true
   },
   "outputs": [],
   "source": [
    "test2['indrel_1mes'] = test2['indrel_1mes'].astype('object')"
   ]
  },
  {
   "cell_type": "code",
   "execution_count": 42,
   "metadata": {
    "collapsed": true
   },
   "outputs": [
    {
     "name": "stderr",
     "output_type": "stream",
     "text": [
      "/Users/mengruiyin/anaconda/lib/python2.7/site-packages/ipykernel/__main__.py:1: SettingWithCopyWarning: \n",
      "A value is trying to be set on a copy of a slice from a DataFrame\n",
      "\n",
      "See the caveats in the documentation: http://pandas.pydata.org/pandas-docs/stable/indexing.html#indexing-view-versus-copy\n",
      "  if __name__ == '__main__':\n",
      "/Users/mengruiyin/anaconda/lib/python2.7/site-packages/ipykernel/__main__.py:2: SettingWithCopyWarning: \n",
      "A value is trying to be set on a copy of a slice from a DataFrame\n",
      "\n",
      "See the caveats in the documentation: http://pandas.pydata.org/pandas-docs/stable/indexing.html#indexing-view-versus-copy\n",
      "  from ipykernel import kernelapp as app\n",
      "/Users/mengruiyin/anaconda/lib/python2.7/site-packages/ipykernel/__main__.py:3: SettingWithCopyWarning: \n",
      "A value is trying to be set on a copy of a slice from a DataFrame\n",
      "\n",
      "See the caveats in the documentation: http://pandas.pydata.org/pandas-docs/stable/indexing.html#indexing-view-versus-copy\n",
      "  app.launch_new_instance()\n",
      "/Users/mengruiyin/anaconda/lib/python2.7/site-packages/ipykernel/__main__.py:4: SettingWithCopyWarning: \n",
      "A value is trying to be set on a copy of a slice from a DataFrame\n",
      "\n",
      "See the caveats in the documentation: http://pandas.pydata.org/pandas-docs/stable/indexing.html#indexing-view-versus-copy\n"
     ]
    }
   ],
   "source": [
    "train2.indrel_1mes[(train2.indrel_1mes == '1.0') | (train2.indrel_1mes == '1')] = 1.0\n",
    "train2.indrel_1mes[(train2.indrel_1mes == '2.0') | (train2.indrel_1mes == '2')] = 2.0\n",
    "train2.indrel_1mes[(train2.indrel_1mes == '3.0') | (train2.indrel_1mes == '3')] = 3.0\n",
    "train2.indrel_1mes[(train2.indrel_1mes == '4.0') | (train2.indrel_1mes == '4')] = 4.0"
   ]
  },
  {
   "cell_type": "code",
   "execution_count": 45,
   "metadata": {},
   "outputs": [
    {
     "data": {
      "text/plain": [
       "Index([u'fecha_dato', u'ind_empleado', u'pais_residencia', u'sexo',\n",
       "       u'fecha_alta', u'indrel_1mes', u'tiprel_1mes', u'indresi', u'indext',\n",
       "       u'conyuemp', u'canal_entrada', u'indfall', u'nomprov', u'segmento',\n",
       "       u'bins'],\n",
       "      dtype='object')"
      ]
     },
     "execution_count": 45,
     "metadata": {},
     "output_type": "execute_result"
    }
   ],
   "source": [
    "qual = test2.columns[test2.dtypes == 'object']\n",
    "qual"
   ]
  },
  {
   "cell_type": "code",
   "execution_count": 46,
   "metadata": {
    "collapsed": true
   },
   "outputs": [],
   "source": [
    "check_col = ['ind_empleado', 'sexo',\n",
    "        'indrel_1mes', 'tiprel_1mes',\n",
    "       'indresi', 'indext', 'indfall',\n",
    "       'nomprov', 'segmento', 'bins']"
   ]
  },
  {
   "cell_type": "code",
   "execution_count": 47,
   "metadata": {
    "scrolled": true
   },
   "outputs": [
    {
     "name": "stdout",
     "output_type": "stream",
     "text": [
      "finish checking for ind_empleado\n",
      "finish checking for sexo\n",
      "finish checking for indrel_1mes\n",
      "finish checking for tiprel_1mes\n",
      "finish checking for indresi\n",
      "finish checking for indext\n",
      "finish checking for indfall\n",
      "finish checking for nomprov\n",
      "finish checking for segmento\n",
      "finish checking for bins\n"
     ]
    }
   ],
   "source": [
    "diff_col = []\n",
    "for col in check_col:\n",
    "    valuecount1 =  pd.DataFrame(train2[col].value_counts()).index\n",
    "    valuecount2 =  pd.DataFrame(test2[col].value_counts()).index\n",
    "    #if len(valuecount1) == len(valuecount2):\n",
    "    #    com = valuecount1 == valuecount2\n",
    "    #if False in com or len(valuecount1) != len(valuecount2):\n",
    "    if len(valuecount1) != len(valuecount2):\n",
    "         diff_col.append(col)\n",
    "    print 'finish checking for ' + str(col)"
   ]
  },
  {
   "cell_type": "code",
   "execution_count": 48,
   "metadata": {
    "scrolled": true
   },
   "outputs": [
    {
     "data": {
      "text/plain": [
       "['indrel_1mes', 'tiprel_1mes']"
      ]
     },
     "execution_count": 48,
     "metadata": {},
     "output_type": "execute_result"
    }
   ],
   "source": [
    "diff_col"
   ]
  },
  {
   "cell_type": "code",
   "execution_count": 53,
   "metadata": {
    "collapsed": true
   },
   "outputs": [],
   "source": [
    "def convert_type(df):\n",
    "    df.pais_residencia = df.pais_residencia.astype('category').cat.codes\n",
    "    df.canal_entrada = df.canal_entrada.astype('category').cat.codes\n",
    "    df.nomprov = df.nomprov.astype('category').cat.codes\n",
    "    df.indrel_1mes = df.indrel_1mes.astype('category').cat.codes\n",
    "    df.tiprel_1mes = df.tiprel_1mes.astype('category').cat.codes\n",
    "    df.bins = df.bins.astype('category').cat.codes\n",
    "    df = pd.get_dummies(df, columns = ['ind_empleado','sexo', 'indresi',\n",
    "                                   'indext','conyuemp','indfall','segmento'])\n",
    "    df.drop(columns = ['fecha_alta'], inplace = True)\n",
    "    return df"
   ]
  },
  {
   "cell_type": "code",
   "execution_count": 54,
   "metadata": {
    "collapsed": true
   },
   "outputs": [],
   "source": [
    "train2 = convert_type(train2)"
   ]
  },
  {
   "cell_type": "code",
   "execution_count": 55,
   "metadata": {
    "collapsed": true
   },
   "outputs": [],
   "source": [
    "test2 = convert_type(test2)"
   ]
  },
  {
   "cell_type": "code",
   "execution_count": 59,
   "metadata": {},
   "outputs": [
    {
     "data": {
      "text/plain": [
       "Index([u'fecha_dato', u'ncodpers', u'pais_residencia', u'age', u'ind_nuevo',\n",
       "       u'antiguedad', u'indrel', u'indrel_1mes', u'tiprel_1mes',\n",
       "       u'canal_entrada', u'nomprov', u'ind_actividad_cliente', u'renta',\n",
       "       u'ult_primary', u'bins', u'fecha_alta_year', u'fecha_alta_month',\n",
       "       u'fecha_alta_weekday', u'antiguedad_years', u'marriage',\n",
       "       u'ind_empleado_A', u'ind_empleado_B', u'ind_empleado_F',\n",
       "       u'ind_empleado_N', u'ind_empleado_S', u'sexo_H', u'sexo_V',\n",
       "       u'indresi_N', u'indresi_S', u'indext_N', u'indext_S', u'conyuemp_N',\n",
       "       u'conyuemp_S', u'conyuemp_unknown', u'indfall_N', u'indfall_S',\n",
       "       u'segmento_01 - TOP', u'segmento_02 - PARTICULARES',\n",
       "       u'segmento_03 - UNIVERSITARIO'],\n",
       "      dtype='object')"
      ]
     },
     "execution_count": 59,
     "metadata": {},
     "output_type": "execute_result"
    }
   ],
   "source": [
    "feature3 = train2.columns[~train2.columns.isin(product)]\n",
    "feature3"
   ]
  },
  {
   "cell_type": "code",
   "execution_count": 61,
   "metadata": {},
   "outputs": [
    {
     "data": {
      "text/plain": [
       "True"
      ]
     },
     "execution_count": 61,
     "metadata": {},
     "output_type": "execute_result"
    }
   ],
   "source": [
    "test2.columns.equals(feature3)"
   ]
  },
  {
   "cell_type": "code",
   "execution_count": 62,
   "metadata": {
    "collapsed": true
   },
   "outputs": [],
   "source": [
    "train2.to_csv(root + '/train3_newst.csv', index = False)"
   ]
  },
  {
   "cell_type": "code",
   "execution_count": 17,
   "metadata": {},
   "outputs": [],
   "source": [
    "train2 = pd.read_csv(root + '/train3_newst.csv')"
   ]
  },
  {
   "cell_type": "code",
   "execution_count": 63,
   "metadata": {
    "collapsed": true
   },
   "outputs": [],
   "source": [
    "test2.to_csv(root + '/test3_newst.csv', index = False)"
   ]
  },
  {
   "cell_type": "code",
   "execution_count": 18,
   "metadata": {
    "collapsed": true
   },
   "outputs": [],
   "source": [
    "test2 = pd.read_csv(root + '/test3_newst.csv')"
   ]
  },
  {
   "cell_type": "code",
   "execution_count": 19,
   "metadata": {
    "collapsed": true
   },
   "outputs": [],
   "source": [
    "train2['card number'] = train2[product].sum(axis = 1)"
   ]
  },
  {
   "cell_type": "markdown",
   "metadata": {},
   "source": [
    "### merge lag_data"
   ]
  },
  {
   "cell_type": "code",
   "execution_count": 20,
   "metadata": {
    "collapsed": true
   },
   "outputs": [],
   "source": [
    "# I will merge these variables values in previous month as new features.\n",
    "lag_feature = ['age', 'ind_nuevo', 'antiguedad', 'card number', 'indrel_1mes', 'tiprel_1mes', \n",
    "               'ind_actividad_cliente', 'segmento_02 - PARTICULARES', 'segmento_03 - UNIVERSITARIO']"
   ]
  },
  {
   "cell_type": "code",
   "execution_count": 21,
   "metadata": {
    "collapsed": true
   },
   "outputs": [],
   "source": [
    "product2_0 = product[:]\n",
    "product2_2 = product2_0 + lag_feature"
   ]
  },
  {
   "cell_type": "code",
   "execution_count": 22,
   "metadata": {
    "collapsed": true
   },
   "outputs": [],
   "source": [
    "# extract current month and previous month\n",
    "def month_product(df, date):\n",
    "    month_product = df[df.fecha_dato == date]\n",
    "    #month_product = month[product1]\n",
    "    month_product_long = pd.melt(month_product, id_vars=['ncodpers'], value_vars = product)\n",
    "    return month_product_long.sort_values('ncodpers')"
   ]
  },
  {
   "cell_type": "code",
   "execution_count": 23,
   "metadata": {
    "collapsed": true
   },
   "outputs": [],
   "source": [
    "def find_new_customers(previous_df, later_df, month):\n",
    "    previous_later = pd.merge(previous_df, later_df, on = ['ncodpers', 'variable'], how = 'right')\n",
    "    p0_l1 = previous_later.loc[((previous_later.value_x == 0) & (previous_later.value_y == 1))| #may did not hold but june hold\n",
    "                          ((previous_later.value_x.isnull()) & (previous_later.value_y == 1))] #may did not have recored, but have record in June\n",
    "    p0_l1_cardnum = p0_l1.groupby('ncodpers', as_index = False)['variable'].count()\n",
    "    unique_id_month = p0_l1_cardnum.ncodpers.unique()\n",
    "    new_card_number = len(pd.DataFrame(p0_l1.variable.value_counts()).index)\n",
    "    print ('there are ' + str(new_card_number) + ' types of new cards in ' + str(month))\n",
    "    print\n",
    "    print p0_l1.variable.value_counts()\n",
    "    print\n",
    "    print ('there are ' + str(len(unique_id_month)) + ' customers who buy new products in '+ str(month))\n",
    "    print \n",
    "    print p0_l1_cardnum.groupby('variable')['ncodpers'].count() \n",
    "    print\n",
    "    month_data_new = p0_l1.pivot(index=\"ncodpers\", values=\"value_y\", columns=\"variable\")\n",
    "    month_data_new.fillna(0, inplace = True)\n",
    "    month_data_new['ncodpers'] = month_data_new.index\n",
    "    return month_data_new"
   ]
  },
  {
   "cell_type": "code",
   "execution_count": 24,
   "metadata": {
    "collapsed": true
   },
   "outputs": [],
   "source": [
    "# function to get single lag data\n",
    "def get_lag_data(data, date, lag_number):\n",
    "    lag_data = data[data.fecha_dato == date]\n",
    "    lag_sub = lag_data[product2_2]\n",
    "    lag_sub.columns = [str(col) + '_lag'+str(lag_number) for col in lag_sub.columns]\n",
    "    lag_sub['ncodpers'] = lag_data['ncodpers']\n",
    "    return lag_sub"
   ]
  },
  {
   "cell_type": "code",
   "execution_count": 25,
   "metadata": {
    "collapsed": true
   },
   "outputs": [],
   "source": [
    "def previous_month(data, date):\n",
    "    lag_months = data.fecha_dato.unique()[data.fecha_dato.unique() < date]\n",
    "    return lag_months"
   ]
  },
  {
   "cell_type": "code",
   "execution_count": 26,
   "metadata": {
    "collapsed": true
   },
   "outputs": [],
   "source": [
    "# merge them with current month \n",
    "def new_data(data, df,date):\n",
    "    base_data = df.copy()\n",
    "    for index, item in enumerate(previous_month(data,date)):\n",
    "        lag_sub= get_lag_data(data, item, index+1)\n",
    "        base_data = pd.merge(base_data, lag_sub, how='left', on=['ncodpers'])\n",
    "    feature = data[data.fecha_dato == date].drop(columns = product)\n",
    "    data_new = pd.merge(base_data, feature, how='left', on = ['ncodpers'])\n",
    "    return data_new"
   ]
  },
  {
   "cell_type": "code",
   "execution_count": 27,
   "metadata": {
    "collapsed": true
   },
   "outputs": [],
   "source": [
    "# wrap to a function\n",
    "def proprecessing(data, later_date, previous_date, month):\n",
    "    later_month = month_product(data, later_date)\n",
    "    previous_month = month_product(data, previous_date)\n",
    "    month_data = find_new_customers(previous_month, later_month, month) # month = 'June'\n",
    "    month_new = new_data(data, month_data, later_date) #month_data = june_2015_data\n",
    "    #month_new = month_new[month_new.columns.drop(list(month_new.filter(regex='ncodpers_lag')))]\n",
    "    return month_new"
   ]
  },
  {
   "cell_type": "code",
   "execution_count": 28,
   "metadata": {},
   "outputs": [
    {
     "data": {
      "text/plain": [
       "['2015-01-28',\n",
       " '2015-02-28',\n",
       " '2015-03-28',\n",
       " '2015-04-28',\n",
       " '2015-05-28',\n",
       " '2015-06-28',\n",
       " '2015-07-28',\n",
       " '2015-08-28',\n",
       " '2015-09-28',\n",
       " '2015-10-28',\n",
       " '2015-11-28',\n",
       " '2015-12-28',\n",
       " '2016-01-28',\n",
       " '2016-02-28',\n",
       " '2016-03-28',\n",
       " '2016-04-28',\n",
       " '2016-05-28']"
      ]
     },
     "execution_count": 28,
     "metadata": {},
     "output_type": "execute_result"
    }
   ],
   "source": [
    "month = ['2015-01-28', '2015-02-28', '2015-03-28', '2015-04-28',\n",
    "       '2015-05-28', '2015-06-28', '2015-07-28', '2015-08-28',\n",
    "       '2015-09-28', '2015-10-28', '2015-11-28', '2015-12-28',\n",
    "       '2016-01-28', '2016-02-28', '2016-03-28', '2016-04-28',\n",
    "       '2016-05-28']\n",
    "month"
   ]
  },
  {
   "cell_type": "code",
   "execution_count": 29,
   "metadata": {
    "collapsed": true
   },
   "outputs": [],
   "source": [
    "month_name = ['Jan-2015', 'Feb-2015', 'Mar-2015', 'April-2015', 'May-2015', 'June-2015', 'July-2015', 'Aug-2015', \n",
    "             'Sep-2015', 'Oct-2015', 'Nov-2015', 'Dec-2015', 'Jan-2016', 'Feb-2016', 'Mar-2016', 'April-2016',\n",
    "             'May-2016']"
   ]
  },
  {
   "cell_type": "code",
   "execution_count": 11,
   "metadata": {},
   "outputs": [
    {
     "ename": "NameError",
     "evalue": "name 'proprecessing' is not defined",
     "output_type": "error",
     "traceback": [
      "\u001b[0;31m---------------------------------------------------------------------------\u001b[0m",
      "\u001b[0;31mNameError\u001b[0m                                 Traceback (most recent call last)",
      "\u001b[0;32m<ipython-input-11-5d97b91acbee>\u001b[0m in \u001b[0;36m<module>\u001b[0;34m()\u001b[0m\n\u001b[0;32m----> 1\u001b[0;31m \u001b[0mlag_June15\u001b[0m \u001b[0;34m=\u001b[0m \u001b[0mproprecessing\u001b[0m\u001b[0;34m(\u001b[0m\u001b[0mtrain2\u001b[0m\u001b[0;34m,\u001b[0m \u001b[0mmonth\u001b[0m\u001b[0;34m[\u001b[0m\u001b[0;36m5\u001b[0m\u001b[0;34m]\u001b[0m\u001b[0;34m,\u001b[0m \u001b[0mmonth\u001b[0m\u001b[0;34m[\u001b[0m\u001b[0;36m4\u001b[0m\u001b[0;34m]\u001b[0m\u001b[0;34m,\u001b[0m \u001b[0mmonth_name\u001b[0m\u001b[0;34m[\u001b[0m\u001b[0;36m4\u001b[0m\u001b[0;34m]\u001b[0m\u001b[0;34m)\u001b[0m\u001b[0;34m\u001b[0m\u001b[0m\n\u001b[0m",
      "\u001b[0;31mNameError\u001b[0m: name 'proprecessing' is not defined"
     ]
    }
   ],
   "source": [
    "lag_June15 = proprecessing(train2, month[5], month[4], month_name[4])"
   ]
  },
  {
   "cell_type": "code",
   "execution_count": 23,
   "metadata": {
    "scrolled": true
   },
   "outputs": [
    {
     "name": "stdout",
     "output_type": "stream",
     "text": [
      "there are 21 types of new cards in Dec-2015\n",
      "\n",
      "ind_cco_fin_ult1     12096\n",
      "ind_recibo_ult1       9962\n",
      "ind_nom_pens_ult1     5211\n",
      "ind_nomina_ult1       5133\n",
      "ind_tjcr_fin_ult1     4298\n",
      "ind_cno_fin_ult1      4033\n",
      "ind_ecue_fin_ult1     1826\n",
      "ind_dela_fin_ult1     1277\n",
      "ind_ctma_fin_ult1      806\n",
      "ind_ctop_fin_ult1      283\n",
      "ind_valo_fin_ult1      261\n",
      "ind_reca_fin_ult1      240\n",
      "ind_fond_fin_ult1      206\n",
      "ind_ctju_fin_ult1      170\n",
      "ind_plan_fin_ult1      168\n",
      "ind_ctpp_fin_ult1      155\n",
      "ind_pres_fin_ult1       11\n",
      "ind_cder_fin_ult1        9\n",
      "ind_viv_fin_ult1         8\n",
      "ind_deco_fin_ult1        8\n",
      "ind_hip_fin_ult1         3\n",
      "Name: variable, dtype: int64\n",
      "\n",
      "there are 37108 customers who buy new products in Dec-2015\n",
      "\n",
      "variable\n",
      "1    30348\n",
      "2     4740\n",
      "3     1764\n",
      "4      237\n",
      "5       18\n",
      "6        1\n",
      "Name: ncodpers, dtype: int64\n",
      "\n"
     ]
    },
    {
     "name": "stderr",
     "output_type": "stream",
     "text": [
      "/Users/mengruiyin/anaconda/lib/python2.7/site-packages/ipykernel/__main__.py:5: SettingWithCopyWarning: \n",
      "A value is trying to be set on a copy of a slice from a DataFrame.\n",
      "Try using .loc[row_indexer,col_indexer] = value instead\n",
      "\n",
      "See the caveats in the documentation: http://pandas.pydata.org/pandas-docs/stable/indexing.html#indexing-view-versus-copy\n"
     ]
    }
   ],
   "source": [
    "lag_Dec15 = proprecessing(train2, month[11], month[10], month_name[11])"
   ]
  },
  {
   "cell_type": "code",
   "execution_count": 27,
   "metadata": {
    "scrolled": true
   },
   "outputs": [
    {
     "name": "stdout",
     "output_type": "stream",
     "text": [
      "there are 21 types of new cards in May-2016\n",
      "\n",
      "ind_recibo_ult1      10220\n",
      "ind_nom_pens_ult1     5541\n",
      "ind_nomina_ult1       5516\n",
      "ind_cco_fin_ult1      5511\n",
      "ind_tjcr_fin_ult1     4252\n",
      "ind_ecue_fin_ult1     2723\n",
      "ind_cno_fin_ult1      2369\n",
      "ind_ctma_fin_ult1      713\n",
      "ind_reca_fin_ult1      283\n",
      "ind_ctop_fin_ult1      226\n",
      "ind_valo_fin_ult1      183\n",
      "ind_ctpp_fin_ult1      131\n",
      "ind_ctju_fin_ult1       77\n",
      "ind_fond_fin_ult1       61\n",
      "ind_dela_fin_ult1       46\n",
      "ind_plan_fin_ult1       22\n",
      "ind_viv_fin_ult1         7\n",
      "ind_pres_fin_ult1        7\n",
      "ind_cder_fin_ult1        5\n",
      "ind_hip_fin_ult1         3\n",
      "ind_ahor_fin_ult1        1\n",
      "Name: variable, dtype: int64\n",
      "\n",
      "there are 29717 customers who buy new products in May-2016\n",
      "\n",
      "variable\n",
      "1    23232\n",
      "2     4960\n",
      "3     1368\n",
      "4      145\n",
      "5       11\n",
      "6        1\n",
      "Name: ncodpers, dtype: int64\n",
      "\n"
     ]
    },
    {
     "name": "stderr",
     "output_type": "stream",
     "text": [
      "/Users/mengruiyin/anaconda/lib/python2.7/site-packages/ipykernel/__main__.py:5: SettingWithCopyWarning: \n",
      "A value is trying to be set on a copy of a slice from a DataFrame.\n",
      "Try using .loc[row_indexer,col_indexer] = value instead\n",
      "\n",
      "See the caveats in the documentation: http://pandas.pydata.org/pandas-docs/stable/indexing.html#indexing-view-versus-copy\n"
     ]
    }
   ],
   "source": [
    "lag_May16 = proprecessing(train2, month[16], month[15], month_name[16])"
   ]
  },
  {
   "cell_type": "code",
   "execution_count": 12,
   "metadata": {
    "collapsed": true
   },
   "outputs": [],
   "source": [
    "name = ['lag_Jan15', 'lag_Feb15', 'lag_Mar15', 'lag_April15', 'lag_May15', 'lag_July15', 'lag_Aug15', 'lag_Sep15', 'lag_Oct15',\n",
    "       'lag_Nov15', 'lag_Dec15', 'lag_Jan16', 'lag_Feb16', 'lag_Mar16', 'lag_April16', 'lag_May16']"
   ]
  },
  {
   "cell_type": "code",
   "execution_count": 13,
   "metadata": {},
   "outputs": [
    {
     "data": {
      "text/plain": [
       "'2015-02-28'"
      ]
     },
     "execution_count": 13,
     "metadata": {},
     "output_type": "execute_result"
    }
   ],
   "source": [
    "month[1]"
   ]
  },
  {
   "cell_type": "code",
   "execution_count": 144,
   "metadata": {
    "collapsed": true
   },
   "outputs": [
    {
     "name": "stdout",
     "output_type": "stream",
     "text": [
      "statistics for Feb-2015\n",
      "there are 22 types of new cards in Feb-2015\n",
      "\n",
      "ind_recibo_ult1      8344\n",
      "ind_nom_pens_ult1    5717\n",
      "ind_nomina_ult1      5712\n",
      "ind_cco_fin_ult1     5701\n",
      "ind_tjcr_fin_ult1    3541\n",
      "ind_cno_fin_ult1     1958\n",
      "ind_ecue_fin_ult1    1453\n",
      "ind_dela_fin_ult1     786\n",
      "ind_deco_fin_ult1     758\n",
      "ind_fond_fin_ult1     456\n",
      "ind_ctma_fin_ult1     394\n",
      "ind_valo_fin_ult1     270\n",
      "ind_ctop_fin_ult1     260\n",
      "ind_reca_fin_ult1     214\n",
      "ind_ctpp_fin_ult1     173\n",
      "ind_ctju_fin_ult1      53\n",
      "ind_deme_fin_ult1      33\n",
      "ind_plan_fin_ult1      31\n",
      "ind_cder_fin_ult1      12\n",
      "ind_pres_fin_ult1       9\n",
      "ind_viv_fin_ult1        8\n",
      "ind_hip_fin_ult1        5\n",
      "Name: variable, dtype: int64\n",
      "\n",
      "there are 27782 customers who buy new products in Feb-2015\n",
      "\n",
      "variable\n",
      "1    21030\n",
      "2     5531\n",
      "3     1097\n",
      "4      115\n",
      "5        9\n",
      "Name: ncodpers, dtype: int64\n",
      "\n"
     ]
    },
    {
     "name": "stderr",
     "output_type": "stream",
     "text": [
      "/Users/mengruiyin/anaconda/lib/python2.7/site-packages/ipykernel/__main__.py:5: SettingWithCopyWarning: \n",
      "A value is trying to be set on a copy of a slice from a DataFrame.\n",
      "Try using .loc[row_indexer,col_indexer] = value instead\n",
      "\n",
      "See the caveats in the documentation: http://pandas.pydata.org/pandas-docs/stable/indexing.html#indexing-view-versus-copy\n"
     ]
    },
    {
     "name": "stdout",
     "output_type": "stream",
     "text": [
      "finish for Feb-2015\n",
      "statistics for Mar-2015\n",
      "there are 22 types of new cards in Mar-2015\n",
      "\n",
      "ind_recibo_ult1      9240\n",
      "ind_cco_fin_ult1     5618\n",
      "ind_tjcr_fin_ult1    5171\n",
      "ind_nomina_ult1      4562\n",
      "ind_nom_pens_ult1    4558\n",
      "ind_cno_fin_ult1     1846\n",
      "ind_ecue_fin_ult1    1581\n",
      "ind_dela_fin_ult1     906\n",
      "ind_deco_fin_ult1     743\n",
      "ind_fond_fin_ult1     578\n",
      "ind_ctma_fin_ult1     400\n",
      "ind_ctop_fin_ult1     289\n",
      "ind_reca_fin_ult1     216\n",
      "ind_valo_fin_ult1     211\n",
      "ind_ctpp_fin_ult1     167\n",
      "ind_ctju_fin_ult1      74\n",
      "ind_plan_fin_ult1      26\n",
      "ind_deme_fin_ult1      23\n",
      "ind_cder_fin_ult1      17\n",
      "ind_pres_fin_ult1      13\n",
      "ind_hip_fin_ult1        7\n",
      "ind_viv_fin_ult1        4\n",
      "Name: variable, dtype: int64\n",
      "\n",
      "there are 28926 customers who buy new products in Mar-2015\n",
      "\n",
      "variable\n",
      "1    23023\n",
      "2     4633\n",
      "3     1127\n",
      "4      136\n",
      "5        6\n",
      "6        1\n",
      "Name: ncodpers, dtype: int64\n",
      "\n",
      "finish for Mar-2015\n",
      "statistics for April-2015\n",
      "there are 22 types of new cards in April-2015\n",
      "\n",
      "ind_recibo_ult1      8449\n",
      "ind_nom_pens_ult1    5706\n",
      "ind_cco_fin_ult1     5274\n",
      "ind_tjcr_fin_ult1    4722\n",
      "ind_nomina_ult1      2739\n",
      "ind_cno_fin_ult1     2065\n",
      "ind_ecue_fin_ult1    1462\n",
      "ind_dela_fin_ult1     879\n",
      "ind_reca_fin_ult1     876\n",
      "ind_fond_fin_ult1     501\n",
      "ind_deco_fin_ult1     485\n",
      "ind_ctma_fin_ult1     324\n",
      "ind_ctop_fin_ult1     280\n",
      "ind_valo_fin_ult1     198\n",
      "ind_ctpp_fin_ult1     173\n",
      "ind_ctju_fin_ult1      69\n",
      "ind_deme_fin_ult1      26\n",
      "ind_plan_fin_ult1      24\n",
      "ind_pres_fin_ult1      18\n",
      "ind_cder_fin_ult1      12\n",
      "ind_viv_fin_ult1        5\n",
      "ind_hip_fin_ult1        4\n",
      "Name: variable, dtype: int64\n",
      "\n",
      "there are 28864 customers who buy new products in April-2015\n",
      "\n",
      "variable\n",
      "1    24585\n",
      "2     3258\n",
      "3      905\n",
      "4      106\n",
      "5        9\n",
      "6        1\n",
      "Name: ncodpers, dtype: int64\n",
      "\n",
      "finish for April-2015\n",
      "statistics for May-2015\n",
      "there are 22 types of new cards in May-2015\n",
      "\n",
      "ind_recibo_ult1      7166\n",
      "ind_cco_fin_ult1     5297\n",
      "ind_tjcr_fin_ult1    4191\n",
      "ind_nomina_ult1      3427\n",
      "ind_nom_pens_ult1    3406\n",
      "ind_cno_fin_ult1     1984\n",
      "ind_ecue_fin_ult1    1460\n",
      "ind_dela_fin_ult1    1005\n",
      "ind_deco_fin_ult1     435\n",
      "ind_fond_fin_ult1     418\n",
      "ind_reca_fin_ult1     341\n",
      "ind_ctma_fin_ult1     308\n",
      "ind_ctop_fin_ult1     298\n",
      "ind_valo_fin_ult1     213\n",
      "ind_ctpp_fin_ult1     174\n",
      "ind_ctju_fin_ult1      84\n",
      "ind_deme_fin_ult1      25\n",
      "ind_plan_fin_ult1      24\n",
      "ind_pres_fin_ult1      11\n",
      "ind_hip_fin_ult1        9\n",
      "ind_cder_fin_ult1       7\n",
      "ind_viv_fin_ult1        4\n",
      "Name: variable, dtype: int64\n",
      "\n",
      "there are 24758 customers who buy new products in May-2015\n",
      "\n",
      "variable\n",
      "1    20354\n",
      "2     3379\n",
      "3      928\n",
      "4       94\n",
      "5        3\n",
      "Name: ncodpers, dtype: int64\n",
      "\n",
      "finish for May-2015\n"
     ]
    }
   ],
   "source": [
    "new_each_month = {}\n",
    "root = '/Users/mengruiyin/Dropbox/project2'\n",
    "for index in range(1, 5):\n",
    "    print ('statistics for ' + str(month_name[index]))\n",
    "    new_each_month[index] = proprecessing(train2, month[index], month[index-1], month_name[index])\n",
    "    print('finish for ' + str(month_name[index]))\n",
    "    new_each_month[index].to_csv(root +'/lagdata_'+ str(name[index]) + '.csv')"
   ]
  },
  {
   "cell_type": "code",
   "execution_count": 147,
   "metadata": {
    "collapsed": true
   },
   "outputs": [
    {
     "name": "stdout",
     "output_type": "stream",
     "text": [
      "statistics for July-2015\n",
      "there are 22 types of new cards in July-2015\n",
      "\n",
      "ind_cco_fin_ult1     15585\n",
      "ind_recibo_ult1       9320\n",
      "ind_nom_pens_ult1     5026\n",
      "ind_tjcr_fin_ult1     5021\n",
      "ind_nomina_ult1       4569\n",
      "ind_cno_fin_ult1      2888\n",
      "ind_dela_fin_ult1     1282\n",
      "ind_ecue_fin_ult1     1106\n",
      "ind_reca_fin_ult1      598\n",
      "ind_deco_fin_ult1      526\n",
      "ind_ctma_fin_ult1      356\n",
      "ind_ctop_fin_ult1      265\n",
      "ind_valo_fin_ult1      240\n",
      "ind_fond_fin_ult1      207\n",
      "ind_ctpp_fin_ult1      165\n",
      "ind_ctju_fin_ult1       79\n",
      "ind_plan_fin_ult1       28\n",
      "ind_deme_fin_ult1       24\n",
      "ind_cder_fin_ult1       11\n",
      "ind_viv_fin_ult1         9\n",
      "ind_hip_fin_ult1         6\n",
      "ind_pres_fin_ult1        5\n",
      "Name: variable, dtype: int64\n",
      "\n",
      "there are 39324 customers who buy new products in July-2015\n",
      "\n",
      "variable\n",
      "1    33252\n",
      "2     4351\n",
      "3     1538\n",
      "4      169\n",
      "5       12\n",
      "6        2\n",
      "Name: ncodpers, dtype: int64\n",
      "\n"
     ]
    },
    {
     "name": "stderr",
     "output_type": "stream",
     "text": [
      "/Users/mengruiyin/anaconda/lib/python2.7/site-packages/ipykernel/__main__.py:5: SettingWithCopyWarning: \n",
      "A value is trying to be set on a copy of a slice from a DataFrame.\n",
      "Try using .loc[row_indexer,col_indexer] = value instead\n",
      "\n",
      "See the caveats in the documentation: http://pandas.pydata.org/pandas-docs/stable/indexing.html#indexing-view-versus-copy\n"
     ]
    },
    {
     "name": "stdout",
     "output_type": "stream",
     "text": [
      "finish for July-2015\n",
      "statistics for Aug-2015\n",
      "there are 22 types of new cards in Aug-2015\n",
      "\n",
      "ind_cco_fin_ult1     16559\n",
      "ind_recibo_ult1       7186\n",
      "ind_tjcr_fin_ult1     4383\n",
      "ind_nom_pens_ult1     3005\n",
      "ind_nomina_ult1       2987\n",
      "ind_cno_fin_ult1      2448\n",
      "ind_dela_fin_ult1     1073\n",
      "ind_ecue_fin_ult1      930\n",
      "ind_deco_fin_ult1      508\n",
      "ind_valo_fin_ult1      447\n",
      "ind_ctma_fin_ult1      347\n",
      "ind_reca_fin_ult1      266\n",
      "ind_ctop_fin_ult1      231\n",
      "ind_fond_fin_ult1      224\n",
      "ind_ctpp_fin_ult1      145\n",
      "ind_ctju_fin_ult1       65\n",
      "ind_deme_fin_ult1       33\n",
      "ind_plan_fin_ult1       22\n",
      "ind_pres_fin_ult1       13\n",
      "ind_cder_fin_ult1       11\n",
      "ind_viv_fin_ult1         2\n",
      "ind_hip_fin_ult1         1\n",
      "Name: variable, dtype: int64\n",
      "\n",
      "there are 35385 customers who buy new products in Aug-2015\n",
      "\n",
      "variable\n",
      "1    31296\n",
      "2     2798\n",
      "3     1178\n",
      "4      108\n",
      "5        3\n",
      "6        1\n",
      "7        1\n",
      "Name: ncodpers, dtype: int64\n",
      "\n",
      "finish for Aug-2015\n",
      "statistics for Sep-2015\n",
      "there are 22 types of new cards in Sep-2015\n",
      "\n",
      "ind_cco_fin_ult1     20255\n",
      "ind_recibo_ult1      11303\n",
      "ind_nom_pens_ult1     4799\n",
      "ind_nomina_ult1       4727\n",
      "ind_tjcr_fin_ult1     4466\n",
      "ind_cno_fin_ult1      1811\n",
      "ind_dela_fin_ult1     1411\n",
      "ind_ecue_fin_ult1     1081\n",
      "ind_ctma_fin_ult1      582\n",
      "ind_deco_fin_ult1      581\n",
      "ind_valo_fin_ult1      331\n",
      "ind_reca_fin_ult1      272\n",
      "ind_ctop_fin_ult1      191\n",
      "ind_fond_fin_ult1      133\n",
      "ind_ctpp_fin_ult1      122\n",
      "ind_ctju_fin_ult1       52\n",
      "ind_deme_fin_ult1       30\n",
      "ind_plan_fin_ult1       23\n",
      "ind_pres_fin_ult1       13\n",
      "ind_hip_fin_ult1         8\n",
      "ind_cder_fin_ult1        7\n",
      "ind_viv_fin_ult1         2\n",
      "Name: variable, dtype: int64\n",
      "\n",
      "there are 44580 customers who buy new products in Sep-2015\n",
      "\n",
      "variable\n",
      "1    38384\n",
      "2     4914\n",
      "3     1148\n",
      "4      126\n",
      "5        8\n",
      "Name: ncodpers, dtype: int64\n",
      "\n",
      "finish for Sep-2015\n",
      "statistics for Oct-2015\n",
      "there are 22 types of new cards in Oct-2015\n",
      "\n",
      "ind_cco_fin_ult1     21727\n",
      "ind_recibo_ult1      12195\n",
      "ind_nomina_ult1       4872\n",
      "ind_nom_pens_ult1     4845\n",
      "ind_tjcr_fin_ult1     4462\n",
      "ind_cno_fin_ult1      2450\n",
      "ind_dela_fin_ult1     1472\n",
      "ind_ecue_fin_ult1     1216\n",
      "ind_valo_fin_ult1      914\n",
      "ind_reca_fin_ult1      600\n",
      "ind_ctma_fin_ult1      589\n",
      "ind_deco_fin_ult1      472\n",
      "ind_ctop_fin_ult1      224\n",
      "ind_ctpp_fin_ult1      153\n",
      "ind_fond_fin_ult1      148\n",
      "ind_ctju_fin_ult1       74\n",
      "ind_deme_fin_ult1       22\n",
      "ind_plan_fin_ult1       20\n",
      "ind_pres_fin_ult1        9\n",
      "ind_hip_fin_ult1         7\n",
      "ind_cder_fin_ult1        3\n",
      "ind_viv_fin_ult1         2\n",
      "Name: variable, dtype: int64\n",
      "\n",
      "there are 48507 customers who buy new products in Oct-2015\n",
      "\n",
      "variable\n",
      "1    42267\n",
      "2     4682\n",
      "3     1399\n",
      "4      148\n",
      "5       10\n",
      "6        1\n",
      "Name: ncodpers, dtype: int64\n",
      "\n",
      "finish for Oct-2015\n",
      "statistics for Nov-2015\n",
      "there are 22 types of new cards in Nov-2015\n",
      "\n",
      "ind_cco_fin_ult1     13034\n",
      "ind_recibo_ult1      10182\n",
      "ind_nom_pens_ult1     4475\n",
      "ind_nomina_ult1       4460\n",
      "ind_tjcr_fin_ult1     4317\n",
      "ind_cno_fin_ult1      3039\n",
      "ind_ecue_fin_ult1     1597\n",
      "ind_dela_fin_ult1      971\n",
      "ind_ctma_fin_ult1      823\n",
      "ind_reca_fin_ult1      425\n",
      "ind_ctop_fin_ult1      209\n",
      "ind_fond_fin_ult1      171\n",
      "ind_ctpp_fin_ult1      140\n",
      "ind_valo_fin_ult1      135\n",
      "ind_deco_fin_ult1      115\n",
      "ind_ctju_fin_ult1       74\n",
      "ind_plan_fin_ult1       40\n",
      "ind_pres_fin_ult1        9\n",
      "ind_cder_fin_ult1        6\n",
      "ind_viv_fin_ult1         5\n",
      "ind_hip_fin_ult1         3\n",
      "ind_deme_fin_ult1        1\n",
      "Name: variable, dtype: int64\n",
      "\n",
      "there are 36678 customers who buy new products in Nov-2015\n",
      "\n",
      "variable\n",
      "1    30955\n",
      "2     4098\n",
      "3     1437\n",
      "4      172\n",
      "5       15\n",
      "6        1\n",
      "Name: ncodpers, dtype: int64\n",
      "\n",
      "finish for Nov-2015\n",
      "statistics for Dec-2015\n",
      "there are 21 types of new cards in Dec-2015\n",
      "\n",
      "ind_cco_fin_ult1     12096\n",
      "ind_recibo_ult1       9962\n",
      "ind_nom_pens_ult1     5211\n",
      "ind_nomina_ult1       5133\n",
      "ind_tjcr_fin_ult1     4298\n",
      "ind_cno_fin_ult1      4033\n",
      "ind_ecue_fin_ult1     1826\n",
      "ind_dela_fin_ult1     1277\n",
      "ind_ctma_fin_ult1      806\n",
      "ind_ctop_fin_ult1      283\n",
      "ind_valo_fin_ult1      261\n",
      "ind_reca_fin_ult1      240\n",
      "ind_fond_fin_ult1      206\n",
      "ind_ctju_fin_ult1      170\n",
      "ind_plan_fin_ult1      168\n",
      "ind_ctpp_fin_ult1      155\n",
      "ind_pres_fin_ult1       11\n",
      "ind_cder_fin_ult1        9\n",
      "ind_viv_fin_ult1         8\n",
      "ind_deco_fin_ult1        8\n",
      "ind_hip_fin_ult1         3\n",
      "Name: variable, dtype: int64\n",
      "\n",
      "there are 37108 customers who buy new products in Dec-2015\n",
      "\n",
      "variable\n",
      "1    30348\n",
      "2     4740\n",
      "3     1764\n",
      "4      237\n",
      "5       18\n",
      "6        1\n",
      "Name: ncodpers, dtype: int64\n",
      "\n",
      "finish for Dec-2015\n",
      "statistics for Jan-2016\n",
      "there are 20 types of new cards in Jan-2016\n",
      "\n",
      "ind_recibo_ult1      10153\n",
      "ind_cco_fin_ult1      8210\n",
      "ind_tjcr_fin_ult1     3794\n",
      "ind_nom_pens_ult1     2942\n",
      "ind_nomina_ult1       2487\n",
      "ind_ecue_fin_ult1     2284\n",
      "ind_cno_fin_ult1      2213\n",
      "ind_ctma_fin_ult1      868\n",
      "ind_valo_fin_ult1      744\n",
      "ind_dela_fin_ult1      471\n",
      "ind_reca_fin_ult1      455\n",
      "ind_ctop_fin_ult1      259\n",
      "ind_ctpp_fin_ult1      149\n",
      "ind_fond_fin_ult1      147\n",
      "ind_plan_fin_ult1      104\n",
      "ind_ctju_fin_ult1       89\n",
      "ind_cder_fin_ult1       12\n",
      "ind_pres_fin_ult1        7\n",
      "ind_hip_fin_ult1         2\n",
      "ind_viv_fin_ult1         2\n",
      "Name: variable, dtype: int64\n",
      "\n",
      "there are 30331 customers who buy new products in Jan-2016\n",
      "\n",
      "variable\n",
      "1    26498\n",
      "2     2748\n",
      "3      948\n",
      "4      131\n",
      "5        6\n",
      "Name: ncodpers, dtype: int64\n",
      "\n",
      "finish for Jan-2016\n",
      "statistics for Feb-2016\n",
      "there are 21 types of new cards in Feb-2016\n",
      "\n",
      "ind_nom_pens_ult1    12731\n",
      "ind_recibo_ult1      11613\n",
      "ind_nomina_ult1       9541\n",
      "ind_cco_fin_ult1      6546\n",
      "ind_tjcr_fin_ult1     3883\n",
      "ind_ecue_fin_ult1     2358\n",
      "ind_cno_fin_ult1      2260\n",
      "ind_ctma_fin_ult1     1061\n",
      "ind_dela_fin_ult1      715\n",
      "ind_reca_fin_ult1      565\n",
      "ind_valo_fin_ult1      325\n",
      "ind_ctop_fin_ult1      217\n",
      "ind_ctpp_fin_ult1      141\n",
      "ind_ctju_fin_ult1       93\n",
      "ind_fond_fin_ult1       82\n",
      "ind_plan_fin_ult1       47\n",
      "ind_cder_fin_ult1       10\n",
      "ind_pres_fin_ult1        6\n",
      "ind_hip_fin_ult1         6\n",
      "ind_viv_fin_ult1         2\n",
      "ind_deco_fin_ult1        1\n",
      "Name: variable, dtype: int64\n",
      "\n",
      "there are 38902 customers who buy new products in Feb-2016\n",
      "\n",
      "variable\n",
      "1    27839\n",
      "2     9046\n",
      "3     1808\n",
      "4      197\n",
      "5       12\n",
      "Name: ncodpers, dtype: int64\n",
      "\n",
      "finish for Feb-2016\n",
      "statistics for Mar-2016\n",
      "there are 20 types of new cards in Mar-2016\n",
      "\n",
      "ind_recibo_ult1      10199\n",
      "ind_cco_fin_ult1      7136\n",
      "ind_nom_pens_ult1     5073\n",
      "ind_nomina_ult1       5009\n",
      "ind_tjcr_fin_ult1     4407\n",
      "ind_cno_fin_ult1      2459\n",
      "ind_ecue_fin_ult1     1918\n",
      "ind_ctma_fin_ult1      913\n",
      "ind_dela_fin_ult1      245\n",
      "ind_ctop_fin_ult1      225\n",
      "ind_reca_fin_ult1      201\n",
      "ind_valo_fin_ult1      166\n",
      "ind_ctpp_fin_ult1      131\n",
      "ind_fond_fin_ult1       92\n",
      "ind_ctju_fin_ult1       88\n",
      "ind_plan_fin_ult1       31\n",
      "ind_pres_fin_ult1        8\n",
      "ind_cder_fin_ult1        5\n",
      "ind_viv_fin_ult1         4\n",
      "ind_hip_fin_ult1         2\n",
      "Name: variable, dtype: int64\n",
      "\n",
      "there are 30544 customers who buy new products in Mar-2016\n",
      "\n",
      "variable\n",
      "1    24394\n",
      "2     4709\n",
      "3     1278\n",
      "4      149\n",
      "5       14\n",
      "Name: ncodpers, dtype: int64\n",
      "\n",
      "finish for Mar-2016\n",
      "statistics for April-2016\n",
      "there are 20 types of new cards in April-2016\n",
      "\n",
      "ind_recibo_ult1      9857\n",
      "ind_cco_fin_ult1     5761\n",
      "ind_nom_pens_ult1    4474\n",
      "ind_tjcr_fin_ult1    4107\n",
      "ind_nomina_ult1      3839\n",
      "ind_cno_fin_ult1     2424\n",
      "ind_ecue_fin_ult1    2266\n",
      "ind_ctma_fin_ult1     854\n",
      "ind_reca_fin_ult1     812\n",
      "ind_ctop_fin_ult1     240\n",
      "ind_ctpp_fin_ult1     161\n",
      "ind_valo_fin_ult1     132\n",
      "ind_dela_fin_ult1     101\n",
      "ind_fond_fin_ult1      85\n",
      "ind_ctju_fin_ult1      77\n",
      "ind_plan_fin_ult1      22\n",
      "ind_cder_fin_ult1       5\n",
      "ind_hip_fin_ult1        5\n",
      "ind_pres_fin_ult1       4\n",
      "ind_viv_fin_ult1        3\n",
      "Name: variable, dtype: int64\n",
      "\n",
      "there are 28707 customers who buy new products in April-2016\n",
      "\n",
      "variable\n",
      "1    23648\n",
      "2     3736\n",
      "3     1187\n",
      "4      132\n",
      "5        4\n",
      "Name: ncodpers, dtype: int64\n",
      "\n",
      "finish for April-2016\n",
      "statistics for May-2016\n",
      "there are 20 types of new cards in May-2016\n",
      "\n",
      "ind_recibo_ult1      10220\n",
      "ind_nom_pens_ult1     5541\n",
      "ind_nomina_ult1       5516\n",
      "ind_cco_fin_ult1      5511\n",
      "ind_tjcr_fin_ult1     4252\n",
      "ind_ecue_fin_ult1     2723\n",
      "ind_cno_fin_ult1      2369\n",
      "ind_ctma_fin_ult1      713\n",
      "ind_reca_fin_ult1      283\n",
      "ind_ctop_fin_ult1      226\n",
      "ind_valo_fin_ult1      183\n",
      "ind_ctpp_fin_ult1      131\n",
      "ind_ctju_fin_ult1       77\n",
      "ind_fond_fin_ult1       61\n",
      "ind_dela_fin_ult1       46\n",
      "ind_plan_fin_ult1       22\n",
      "ind_viv_fin_ult1         7\n",
      "ind_pres_fin_ult1        7\n",
      "ind_cder_fin_ult1        5\n",
      "ind_hip_fin_ult1         3\n",
      "Name: variable, dtype: int64\n",
      "\n",
      "there are 29716 customers who buy new products in May-2016\n",
      "\n",
      "variable\n",
      "1    23231\n",
      "2     4960\n",
      "3     1368\n",
      "4      145\n",
      "5       11\n",
      "6        1\n",
      "Name: ncodpers, dtype: int64\n",
      "\n"
     ]
    },
    {
     "name": "stdout",
     "output_type": "stream",
     "text": [
      "finish for May-2016\n"
     ]
    },
    {
     "ename": "IndexError",
     "evalue": "list index out of range",
     "output_type": "error",
     "traceback": [
      "\u001b[0;31m---------------------------------------------------------------------------\u001b[0m",
      "\u001b[0;31mIndexError\u001b[0m                                Traceback (most recent call last)",
      "\u001b[0;32m<ipython-input-147-d4b83b74bcbe>\u001b[0m in \u001b[0;36m<module>\u001b[0;34m()\u001b[0m\n\u001b[1;32m      3\u001b[0m     \u001b[0mnew_each_month\u001b[0m\u001b[0;34m[\u001b[0m\u001b[0mindex\u001b[0m\u001b[0;34m]\u001b[0m \u001b[0;34m=\u001b[0m \u001b[0mproprecessing\u001b[0m\u001b[0;34m(\u001b[0m\u001b[0mtrain2\u001b[0m\u001b[0;34m,\u001b[0m \u001b[0mmonth\u001b[0m\u001b[0;34m[\u001b[0m\u001b[0mindex\u001b[0m\u001b[0;34m]\u001b[0m\u001b[0;34m,\u001b[0m \u001b[0mmonth\u001b[0m\u001b[0;34m[\u001b[0m\u001b[0mindex\u001b[0m\u001b[0;34m-\u001b[0m\u001b[0;36m1\u001b[0m\u001b[0;34m]\u001b[0m\u001b[0;34m,\u001b[0m \u001b[0mmonth_name\u001b[0m\u001b[0;34m[\u001b[0m\u001b[0mindex\u001b[0m\u001b[0;34m]\u001b[0m\u001b[0;34m)\u001b[0m\u001b[0;34m\u001b[0m\u001b[0m\n\u001b[1;32m      4\u001b[0m     \u001b[0;32mprint\u001b[0m\u001b[0;34m(\u001b[0m\u001b[0;34m'finish for '\u001b[0m \u001b[0;34m+\u001b[0m \u001b[0mstr\u001b[0m\u001b[0;34m(\u001b[0m\u001b[0mmonth_name\u001b[0m\u001b[0;34m[\u001b[0m\u001b[0mindex\u001b[0m\u001b[0;34m]\u001b[0m\u001b[0;34m)\u001b[0m\u001b[0;34m)\u001b[0m\u001b[0;34m\u001b[0m\u001b[0m\n\u001b[0;32m----> 5\u001b[0;31m     \u001b[0mnew_each_month\u001b[0m\u001b[0;34m[\u001b[0m\u001b[0mindex\u001b[0m\u001b[0;34m]\u001b[0m\u001b[0;34m.\u001b[0m\u001b[0mto_csv\u001b[0m\u001b[0;34m(\u001b[0m\u001b[0mroot\u001b[0m \u001b[0;34m+\u001b[0m\u001b[0;34m'/lagdata_'\u001b[0m\u001b[0;34m+\u001b[0m \u001b[0mstr\u001b[0m\u001b[0;34m(\u001b[0m\u001b[0mname\u001b[0m\u001b[0;34m[\u001b[0m\u001b[0mindex\u001b[0m\u001b[0;34m]\u001b[0m\u001b[0;34m)\u001b[0m \u001b[0;34m+\u001b[0m \u001b[0;34m'.csv'\u001b[0m\u001b[0;34m)\u001b[0m\u001b[0;34m\u001b[0m\u001b[0m\n\u001b[0m",
      "\u001b[0;31mIndexError\u001b[0m: list index out of range"
     ]
    }
   ],
   "source": [
    "for index in range(6, 17):\n",
    "    print ('statistics for ' + str(month_name[index]))\n",
    "    new_each_month[index] = proprecessing(train2, month[index], month[index-1], month_name[index])\n",
    "    print('finish for ' + str(month_name[index]))\n",
    "    new_each_month[index].to_csv(root +'/lagdata_'+ str(name[index]) + '.csv')"
   ]
  },
  {
   "cell_type": "code",
   "execution_count": 190,
   "metadata": {},
   "outputs": [
    {
     "data": {
      "text/plain": [
       "True"
      ]
     },
     "execution_count": 190,
     "metadata": {},
     "output_type": "execute_result"
    }
   ],
   "source": [
    "'ind_aval_fin_ult1' in list(new_each_month[15].columns)"
   ]
  },
  {
   "cell_type": "code",
   "execution_count": 123,
   "metadata": {
    "collapsed": true
   },
   "outputs": [],
   "source": [
    "lag_June15.to_csv(root + '/lag_June15_2.csv', index = False)"
   ]
  },
  {
   "cell_type": "code",
   "execution_count": 25,
   "metadata": {
    "collapsed": true
   },
   "outputs": [],
   "source": [
    "lag_Dec15.to_csv(root + '/lag_Dec15_0611.csv', index = False)"
   ]
  },
  {
   "cell_type": "code",
   "execution_count": 29,
   "metadata": {
    "collapsed": true
   },
   "outputs": [],
   "source": [
    "lag_May16.to_csv(root + '/lag_May16_0612.csv', index = False)"
   ]
  },
  {
   "cell_type": "code",
   "execution_count": 26,
   "metadata": {},
   "outputs": [
    {
     "data": {
      "text/plain": [
       "(37108, 424)"
      ]
     },
     "execution_count": 26,
     "metadata": {},
     "output_type": "execute_result"
    }
   ],
   "source": [
    "lag_Dec15.shape"
   ]
  },
  {
   "cell_type": "code",
   "execution_count": 14,
   "metadata": {
    "scrolled": true
   },
   "outputs": [
    {
     "data": {
      "text/plain": [
       "['2016-05-28',\n",
       " '2016-04-28',\n",
       " '2016-03-28',\n",
       " '2016-02-28',\n",
       " '2016-01-28',\n",
       " '2015-12-28',\n",
       " '2015-11-28',\n",
       " '2015-10-28',\n",
       " '2015-09-28',\n",
       " '2015-08-28',\n",
       " '2015-07-28',\n",
       " '2015-06-28',\n",
       " '2015-05-28',\n",
       " '2015-04-28',\n",
       " '2015-03-28',\n",
       " '2015-02-28',\n",
       " '2015-01-28']"
      ]
     },
     "execution_count": 14,
     "metadata": {},
     "output_type": "execute_result"
    }
   ],
   "source": [
    "reverse_month = month[::-1]\n",
    "reverse_month"
   ]
  },
  {
   "cell_type": "code",
   "execution_count": 31,
   "metadata": {
    "collapsed": true
   },
   "outputs": [],
   "source": [
    "reverse_index = [5,4,3,2,1]"
   ]
  },
  {
   "cell_type": "code",
   "execution_count": 32,
   "metadata": {
    "collapsed": true
   },
   "outputs": [],
   "source": [
    "test_index = train2.ncodpers.isin(test2.ncodpers)"
   ]
  },
  {
   "cell_type": "code",
   "execution_count": 33,
   "metadata": {
    "collapsed": true
   },
   "outputs": [],
   "source": [
    "train_test = train2[test_index]"
   ]
  },
  {
   "cell_type": "code",
   "execution_count": 34,
   "metadata": {
    "collapsed": true
   },
   "outputs": [],
   "source": [
    "# merge lag data for testing data\n",
    "def test_lag_data(range_num):\n",
    "    base_data = test2.copy()\n",
    "    for index in (range(range_num)):\n",
    "        lag_sub = get_lag_data(train_test, reverse_month[index], reverse_index[index]).drop_duplicates()\n",
    "        base_data = pd.merge(base_data, lag_sub, on = 'ncodpers', how = 'left')\n",
    "        print 'finish for ' + str(reverse_month[index])\n",
    "    return base_data"
   ]
  },
  {
   "cell_type": "code",
   "execution_count": 35,
   "metadata": {
    "scrolled": false
   },
   "outputs": [
    {
     "name": "stderr",
     "output_type": "stream",
     "text": [
      "/Users/mengruiyin/anaconda/lib/python2.7/site-packages/ipykernel/__main__.py:6: SettingWithCopyWarning: \n",
      "A value is trying to be set on a copy of a slice from a DataFrame.\n",
      "Try using .loc[row_indexer,col_indexer] = value instead\n",
      "\n",
      "See the caveats in the documentation: http://pandas.pydata.org/pandas-docs/stable/indexing.html#indexing-view-versus-copy\n"
     ]
    },
    {
     "name": "stdout",
     "output_type": "stream",
     "text": [
      "finish for 2016-05-28\n",
      "finish for 2016-04-28\n",
      "finish for 2016-03-28\n",
      "finish for 2016-02-28\n",
      "finish for 2016-01-28\n"
     ]
    }
   ],
   "source": [
    "test_lag5 = test_lag_data(5)"
   ]
  },
  {
   "cell_type": "code",
   "execution_count": 37,
   "metadata": {},
   "outputs": [
    {
     "data": {
      "text/plain": [
       "(929615, 204)"
      ]
     },
     "execution_count": 37,
     "metadata": {},
     "output_type": "execute_result"
    }
   ],
   "source": [
    "test_lag5.shape"
   ]
  },
  {
   "cell_type": "code",
   "execution_count": 36,
   "metadata": {
    "collapsed": true
   },
   "outputs": [],
   "source": [
    "test_lag5.to_csv(root + '/test_lag5_changename.csv', index = False)"
   ]
  },
  {
   "cell_type": "code",
   "execution_count": 130,
   "metadata": {
    "collapsed": true
   },
   "outputs": [],
   "source": [
    "test_lag5.to_csv(root + '/test_lag5_2.csv', index = False)"
   ]
  },
  {
   "cell_type": "code",
   "execution_count": 24,
   "metadata": {
    "collapsed": true
   },
   "outputs": [],
   "source": [
    "test_lag5 = pd.read_csv(root + '/test_lag5_2.csv')"
   ]
  },
  {
   "cell_type": "code",
   "execution_count": 26,
   "metadata": {},
   "outputs": [
    {
     "data": {
      "text/plain": [
       "213"
      ]
     },
     "execution_count": 26,
     "metadata": {},
     "output_type": "execute_result"
    }
   ],
   "source": [
    "test_lag5.shape[1] + 24"
   ]
  },
  {
   "cell_type": "code",
   "execution_count": 30,
   "metadata": {
    "collapsed": true
   },
   "outputs": [],
   "source": [
    "test_lag = {}"
   ]
  },
  {
   "cell_type": "code",
   "execution_count": 32,
   "metadata": {
    "collapsed": true
   },
   "outputs": [],
   "source": [
    "name = ['lag_Jan15', 'lag_Feb15', 'lag_Mar15', 'lag_April15', 'lag_May15', 'lag_Jun15',\n",
    "        'lag_July15', 'lag_Aug15', 'lag_Sep15', 'lag_Oct15',\n",
    "       'lag_Nov15', 'lag_Dec15', 'lag_Jan16', 'lag_Feb16', 'lag_Mar16', 'lag_April16', 'lag_May16']"
   ]
  },
  {
   "cell_type": "code",
   "execution_count": 35,
   "metadata": {
    "collapsed": true
   },
   "outputs": [
    {
     "name": "stdout",
     "output_type": "stream",
     "text": [
      "statistics for Feb-2015\n"
     ]
    },
    {
     "name": "stderr",
     "output_type": "stream",
     "text": [
      "/Users/mengruiyin/anaconda/lib/python2.7/site-packages/ipykernel/__main__.py:5: SettingWithCopyWarning: \n",
      "A value is trying to be set on a copy of a slice from a DataFrame.\n",
      "Try using .loc[row_indexer,col_indexer] = value instead\n",
      "\n",
      "See the caveats in the documentation: http://pandas.pydata.org/pandas-docs/stable/indexing.html#indexing-view-versus-copy\n"
     ]
    },
    {
     "name": "stdout",
     "output_type": "stream",
     "text": [
      "finish for 2016-05-28\n",
      "finish for Feb-2015\n",
      "statistics for Mar-2015\n",
      "finish for 2016-05-28\n",
      "finish for 2016-04-28\n",
      "finish for Mar-2015\n",
      "statistics for April-2015\n",
      "finish for 2016-05-28\n",
      "finish for 2016-04-28\n",
      "finish for 2016-03-28\n",
      "finish for April-2015\n",
      "statistics for May-2015\n",
      "finish for 2016-05-28\n",
      "finish for 2016-04-28\n",
      "finish for 2016-03-28\n",
      "finish for 2016-02-28\n",
      "finish for May-2015\n",
      "statistics for June-2015\n",
      "finish for 2016-05-28\n",
      "finish for 2016-04-28\n",
      "finish for 2016-03-28\n",
      "finish for 2016-02-28\n",
      "finish for 2016-01-28\n",
      "finish for June-2015\n",
      "statistics for July-2015\n",
      "finish for 2016-05-28\n",
      "finish for 2016-04-28\n",
      "finish for 2016-03-28\n",
      "finish for 2016-02-28\n",
      "finish for 2016-01-28\n",
      "finish for 2015-12-28\n",
      "finish for July-2015\n",
      "statistics for Aug-2015\n",
      "finish for 2016-05-28\n",
      "finish for 2016-04-28\n",
      "finish for 2016-03-28\n",
      "finish for 2016-02-28\n",
      "finish for 2016-01-28\n",
      "finish for 2015-12-28\n",
      "finish for 2015-11-28\n",
      "finish for Aug-2015\n",
      "statistics for Sep-2015\n",
      "finish for 2016-05-28\n",
      "finish for 2016-04-28\n",
      "finish for 2016-03-28\n",
      "finish for 2016-02-28\n",
      "finish for 2016-01-28\n",
      "finish for 2015-12-28\n",
      "finish for 2015-11-28\n",
      "finish for 2015-10-28\n",
      "finish for Sep-2015\n",
      "statistics for Oct-2015\n",
      "finish for 2016-05-28\n",
      "finish for 2016-04-28\n",
      "finish for 2016-03-28\n",
      "finish for 2016-02-28\n",
      "finish for 2016-01-28\n",
      "finish for 2015-12-28\n",
      "finish for 2015-11-28\n",
      "finish for 2015-10-28\n",
      "finish for 2015-09-28\n",
      "finish for Oct-2015\n",
      "statistics for Nov-2015\n",
      "finish for 2016-05-28\n",
      "finish for 2016-04-28\n",
      "finish for 2016-03-28\n",
      "finish for 2016-02-28\n",
      "finish for 2016-01-28\n",
      "finish for 2015-12-28\n",
      "finish for 2015-11-28\n",
      "finish for 2015-10-28\n",
      "finish for 2015-09-28\n",
      "finish for 2015-08-28\n",
      "finish for Nov-2015\n",
      "statistics for Dec-2015\n",
      "finish for 2016-05-28\n",
      "finish for 2016-04-28\n",
      "finish for 2016-03-28\n",
      "finish for 2016-02-28\n",
      "finish for 2016-01-28\n",
      "finish for 2015-12-28\n",
      "finish for 2015-11-28\n",
      "finish for 2015-10-28\n",
      "finish for 2015-09-28\n",
      "finish for 2015-08-28\n",
      "finish for 2015-07-28\n",
      "finish for Dec-2015\n",
      "statistics for Jan-2016\n",
      "finish for 2016-05-28\n",
      "finish for 2016-04-28\n",
      "finish for 2016-03-28\n",
      "finish for 2016-02-28\n",
      "finish for 2016-01-28\n",
      "finish for 2015-12-28\n",
      "finish for 2015-11-28\n",
      "finish for 2015-10-28\n",
      "finish for 2015-09-28\n",
      "finish for 2015-08-28\n",
      "finish for 2015-07-28\n",
      "finish for 2015-06-28\n",
      "finish for Jan-2016\n",
      "statistics for Feb-2016\n",
      "finish for 2016-05-28\n",
      "finish for 2016-04-28\n",
      "finish for 2016-03-28\n",
      "finish for 2016-02-28\n",
      "finish for 2016-01-28\n",
      "finish for 2015-12-28\n",
      "finish for 2015-11-28\n",
      "finish for 2015-10-28\n",
      "finish for 2015-09-28\n",
      "finish for 2015-08-28\n",
      "finish for 2015-07-28\n",
      "finish for 2015-06-28\n",
      "finish for 2015-05-28\n",
      "finish for Feb-2016\n",
      "statistics for Mar-2016\n",
      "finish for 2016-05-28\n",
      "finish for 2016-04-28\n",
      "finish for 2016-03-28\n",
      "finish for 2016-02-28\n",
      "finish for 2016-01-28\n",
      "finish for 2015-12-28\n",
      "finish for 2015-11-28\n",
      "finish for 2015-10-28\n",
      "finish for 2015-09-28\n",
      "finish for 2015-08-28\n",
      "finish for 2015-07-28\n",
      "finish for 2015-06-28\n",
      "finish for 2015-05-28\n",
      "finish for 2015-04-28\n",
      "finish for Mar-2016\n",
      "statistics for April-2016\n",
      "finish for 2016-05-28\n",
      "finish for 2016-04-28\n",
      "finish for 2016-03-28\n",
      "finish for 2016-02-28\n",
      "finish for 2016-01-28\n",
      "finish for 2015-12-28\n",
      "finish for 2015-11-28\n",
      "finish for 2015-10-28\n",
      "finish for 2015-09-28\n",
      "finish for 2015-08-28\n",
      "finish for 2015-07-28\n",
      "finish for 2015-06-28\n",
      "finish for 2015-05-28\n",
      "finish for 2015-04-28\n",
      "finish for 2015-03-28\n",
      "finish for April-2016\n"
     ]
    }
   ],
   "source": [
    "for index in range(1, 16):\n",
    "    print ('statistics for ' + str(month_name[index]))\n",
    "    test_lag[index] = test_lag_data(index)\n",
    "    print('finish for ' + str(month_name[index]))\n",
    "    test_lag[index].to_csv(root +'/testlag_'+ str(name[index]) + '.csv')"
   ]
  },
  {
   "cell_type": "code",
   "execution_count": 39,
   "metadata": {},
   "outputs": [
    {
     "name": "stdout",
     "output_type": "stream",
     "text": [
      "statistics for May-2016\n"
     ]
    },
    {
     "name": "stderr",
     "output_type": "stream",
     "text": [
      "/Users/mengruiyin/anaconda/lib/python2.7/site-packages/ipykernel/__main__.py:5: SettingWithCopyWarning: \n",
      "A value is trying to be set on a copy of a slice from a DataFrame.\n",
      "Try using .loc[row_indexer,col_indexer] = value instead\n",
      "\n",
      "See the caveats in the documentation: http://pandas.pydata.org/pandas-docs/stable/indexing.html#indexing-view-versus-copy\n"
     ]
    },
    {
     "name": "stdout",
     "output_type": "stream",
     "text": [
      "finish for 2016-05-28\n",
      "finish for 2016-04-28\n",
      "finish for 2016-03-28\n",
      "finish for 2016-02-28\n",
      "finish for 2016-01-28\n",
      "finish for 2015-12-28\n",
      "finish for 2015-11-28\n",
      "finish for 2015-10-28\n",
      "finish for 2015-09-28\n",
      "finish for 2015-08-28\n",
      "finish for 2015-07-28\n",
      "finish for 2015-06-28\n",
      "finish for 2015-05-28\n",
      "finish for 2015-04-28\n",
      "finish for 2015-03-28\n",
      "finish for 2015-02-28\n",
      "finish for May-2016\n"
     ]
    }
   ],
   "source": [
    "print ('statistics for ' + str(month_name[16]))\n",
    "test_lag[16] = test_lag_data(16)\n",
    "print('finish for ' + str(month_name[16]))\n",
    "test_lag[16].to_csv(root +'/testlag_'+ str(name[16]) + '.csv')"
   ]
  },
  {
   "cell_type": "markdown",
   "metadata": {},
   "source": [
    "##### product in 05-16"
   ]
  },
  {
   "cell_type": "code",
   "execution_count": 137,
   "metadata": {},
   "outputs": [
    {
     "data": {
      "text/plain": [
       "(13490490, 64)"
      ]
     },
     "execution_count": 137,
     "metadata": {},
     "output_type": "execute_result"
    }
   ],
   "source": [
    "train_test.shape"
   ]
  },
  {
   "cell_type": "code",
   "execution_count": 139,
   "metadata": {
    "collapsed": true
   },
   "outputs": [],
   "source": [
    "May16 = train_test[train_test.fecha_dato == '2016-05-28']"
   ]
  },
  {
   "cell_type": "code",
   "execution_count": 148,
   "metadata": {
    "collapsed": true
   },
   "outputs": [],
   "source": [
    "col = product[:]\n",
    "col.append('ncodpers')"
   ]
  },
  {
   "cell_type": "code",
   "execution_count": 150,
   "metadata": {
    "collapsed": true
   },
   "outputs": [],
   "source": [
    "May16_product = May16[col]"
   ]
  },
  {
   "cell_type": "code",
   "execution_count": 151,
   "metadata": {
    "scrolled": false
   },
   "outputs": [
    {
     "data": {
      "text/html": [
       "<div>\n",
       "<style scoped>\n",
       "    .dataframe tbody tr th:only-of-type {\n",
       "        vertical-align: middle;\n",
       "    }\n",
       "\n",
       "    .dataframe tbody tr th {\n",
       "        vertical-align: top;\n",
       "    }\n",
       "\n",
       "    .dataframe thead th {\n",
       "        text-align: right;\n",
       "    }\n",
       "</style>\n",
       "<table border=\"1\" class=\"dataframe\">\n",
       "  <thead>\n",
       "    <tr style=\"text-align: right;\">\n",
       "      <th></th>\n",
       "      <th>ind_ahor_fin_ult1</th>\n",
       "      <th>ind_aval_fin_ult1</th>\n",
       "      <th>ind_cco_fin_ult1</th>\n",
       "      <th>ind_cder_fin_ult1</th>\n",
       "      <th>ind_cno_fin_ult1</th>\n",
       "      <th>ind_ctju_fin_ult1</th>\n",
       "      <th>ind_ctma_fin_ult1</th>\n",
       "      <th>ind_ctop_fin_ult1</th>\n",
       "      <th>ind_ctpp_fin_ult1</th>\n",
       "      <th>ind_deco_fin_ult1</th>\n",
       "      <th>...</th>\n",
       "      <th>ind_plan_fin_ult1</th>\n",
       "      <th>ind_pres_fin_ult1</th>\n",
       "      <th>ind_reca_fin_ult1</th>\n",
       "      <th>ind_tjcr_fin_ult1</th>\n",
       "      <th>ind_valo_fin_ult1</th>\n",
       "      <th>ind_viv_fin_ult1</th>\n",
       "      <th>ind_nomina_ult1</th>\n",
       "      <th>ind_nom_pens_ult1</th>\n",
       "      <th>ind_recibo_ult1</th>\n",
       "      <th>ncodpers</th>\n",
       "    </tr>\n",
       "  </thead>\n",
       "  <tbody>\n",
       "    <tr>\n",
       "      <th>12688122</th>\n",
       "      <td>0</td>\n",
       "      <td>0</td>\n",
       "      <td>0</td>\n",
       "      <td>0</td>\n",
       "      <td>0</td>\n",
       "      <td>0</td>\n",
       "      <td>0</td>\n",
       "      <td>0</td>\n",
       "      <td>0</td>\n",
       "      <td>0</td>\n",
       "      <td>...</td>\n",
       "      <td>0</td>\n",
       "      <td>0</td>\n",
       "      <td>0</td>\n",
       "      <td>0</td>\n",
       "      <td>0</td>\n",
       "      <td>0</td>\n",
       "      <td>0.0</td>\n",
       "      <td>0.0</td>\n",
       "      <td>0</td>\n",
       "      <td>657640</td>\n",
       "    </tr>\n",
       "    <tr>\n",
       "      <th>12688123</th>\n",
       "      <td>0</td>\n",
       "      <td>0</td>\n",
       "      <td>1</td>\n",
       "      <td>0</td>\n",
       "      <td>0</td>\n",
       "      <td>0</td>\n",
       "      <td>0</td>\n",
       "      <td>0</td>\n",
       "      <td>0</td>\n",
       "      <td>0</td>\n",
       "      <td>...</td>\n",
       "      <td>0</td>\n",
       "      <td>0</td>\n",
       "      <td>0</td>\n",
       "      <td>0</td>\n",
       "      <td>0</td>\n",
       "      <td>0</td>\n",
       "      <td>0.0</td>\n",
       "      <td>0.0</td>\n",
       "      <td>0</td>\n",
       "      <td>657788</td>\n",
       "    </tr>\n",
       "    <tr>\n",
       "      <th>12688124</th>\n",
       "      <td>0</td>\n",
       "      <td>0</td>\n",
       "      <td>1</td>\n",
       "      <td>0</td>\n",
       "      <td>0</td>\n",
       "      <td>0</td>\n",
       "      <td>0</td>\n",
       "      <td>0</td>\n",
       "      <td>0</td>\n",
       "      <td>0</td>\n",
       "      <td>...</td>\n",
       "      <td>0</td>\n",
       "      <td>0</td>\n",
       "      <td>0</td>\n",
       "      <td>0</td>\n",
       "      <td>0</td>\n",
       "      <td>0</td>\n",
       "      <td>0.0</td>\n",
       "      <td>0.0</td>\n",
       "      <td>0</td>\n",
       "      <td>657795</td>\n",
       "    </tr>\n",
       "    <tr>\n",
       "      <th>12688125</th>\n",
       "      <td>0</td>\n",
       "      <td>0</td>\n",
       "      <td>0</td>\n",
       "      <td>0</td>\n",
       "      <td>1</td>\n",
       "      <td>0</td>\n",
       "      <td>0</td>\n",
       "      <td>0</td>\n",
       "      <td>0</td>\n",
       "      <td>0</td>\n",
       "      <td>...</td>\n",
       "      <td>0</td>\n",
       "      <td>0</td>\n",
       "      <td>0</td>\n",
       "      <td>1</td>\n",
       "      <td>0</td>\n",
       "      <td>0</td>\n",
       "      <td>1.0</td>\n",
       "      <td>1.0</td>\n",
       "      <td>1</td>\n",
       "      <td>657790</td>\n",
       "    </tr>\n",
       "    <tr>\n",
       "      <th>12688126</th>\n",
       "      <td>0</td>\n",
       "      <td>0</td>\n",
       "      <td>1</td>\n",
       "      <td>0</td>\n",
       "      <td>0</td>\n",
       "      <td>0</td>\n",
       "      <td>0</td>\n",
       "      <td>0</td>\n",
       "      <td>0</td>\n",
       "      <td>0</td>\n",
       "      <td>...</td>\n",
       "      <td>0</td>\n",
       "      <td>0</td>\n",
       "      <td>0</td>\n",
       "      <td>0</td>\n",
       "      <td>0</td>\n",
       "      <td>0</td>\n",
       "      <td>0.0</td>\n",
       "      <td>0.0</td>\n",
       "      <td>0</td>\n",
       "      <td>657794</td>\n",
       "    </tr>\n",
       "  </tbody>\n",
       "</table>\n",
       "<p>5 rows × 25 columns</p>\n",
       "</div>"
      ],
      "text/plain": [
       "          ind_ahor_fin_ult1  ind_aval_fin_ult1  ind_cco_fin_ult1  \\\n",
       "12688122                  0                  0                 0   \n",
       "12688123                  0                  0                 1   \n",
       "12688124                  0                  0                 1   \n",
       "12688125                  0                  0                 0   \n",
       "12688126                  0                  0                 1   \n",
       "\n",
       "          ind_cder_fin_ult1  ind_cno_fin_ult1  ind_ctju_fin_ult1  \\\n",
       "12688122                  0                 0                  0   \n",
       "12688123                  0                 0                  0   \n",
       "12688124                  0                 0                  0   \n",
       "12688125                  0                 1                  0   \n",
       "12688126                  0                 0                  0   \n",
       "\n",
       "          ind_ctma_fin_ult1  ind_ctop_fin_ult1  ind_ctpp_fin_ult1  \\\n",
       "12688122                  0                  0                  0   \n",
       "12688123                  0                  0                  0   \n",
       "12688124                  0                  0                  0   \n",
       "12688125                  0                  0                  0   \n",
       "12688126                  0                  0                  0   \n",
       "\n",
       "          ind_deco_fin_ult1    ...     ind_plan_fin_ult1  ind_pres_fin_ult1  \\\n",
       "12688122                  0    ...                     0                  0   \n",
       "12688123                  0    ...                     0                  0   \n",
       "12688124                  0    ...                     0                  0   \n",
       "12688125                  0    ...                     0                  0   \n",
       "12688126                  0    ...                     0                  0   \n",
       "\n",
       "          ind_reca_fin_ult1  ind_tjcr_fin_ult1  ind_valo_fin_ult1  \\\n",
       "12688122                  0                  0                  0   \n",
       "12688123                  0                  0                  0   \n",
       "12688124                  0                  0                  0   \n",
       "12688125                  0                  1                  0   \n",
       "12688126                  0                  0                  0   \n",
       "\n",
       "          ind_viv_fin_ult1  ind_nomina_ult1  ind_nom_pens_ult1  \\\n",
       "12688122                 0              0.0                0.0   \n",
       "12688123                 0              0.0                0.0   \n",
       "12688124                 0              0.0                0.0   \n",
       "12688125                 0              1.0                1.0   \n",
       "12688126                 0              0.0                0.0   \n",
       "\n",
       "          ind_recibo_ult1  ncodpers  \n",
       "12688122                0    657640  \n",
       "12688123                0    657788  \n",
       "12688124                0    657795  \n",
       "12688125                1    657790  \n",
       "12688126                0    657794  \n",
       "\n",
       "[5 rows x 25 columns]"
      ]
     },
     "execution_count": 151,
     "metadata": {},
     "output_type": "execute_result"
    }
   ],
   "source": [
    "May16_product.head()"
   ]
  },
  {
   "cell_type": "code",
   "execution_count": 158,
   "metadata": {
    "collapsed": true
   },
   "outputs": [],
   "source": [
    "test3 = test2.copy()"
   ]
  },
  {
   "cell_type": "code",
   "execution_count": 159,
   "metadata": {
    "collapsed": true
   },
   "outputs": [],
   "source": [
    "test_May16_pro = pd.merge(test3, May16_product, on = 'ncodpers', how = 'left')"
   ]
  },
  {
   "cell_type": "code",
   "execution_count": 163,
   "metadata": {
    "collapsed": true
   },
   "outputs": [],
   "source": [
    "test_May16_pro[col].to_csv(root + '/test_May16_product.csv', index = False)"
   ]
  },
  {
   "cell_type": "code",
   "execution_count": 164,
   "metadata": {
    "scrolled": true
   },
   "outputs": [
    {
     "data": {
      "text/plain": [
       "(929615, 25)"
      ]
     },
     "execution_count": 164,
     "metadata": {},
     "output_type": "execute_result"
    }
   ],
   "source": [
    "test_May16_pro[col].shape"
   ]
  },
  {
   "cell_type": "code",
   "execution_count": 165,
   "metadata": {
    "collapsed": true
   },
   "outputs": [
    {
     "data": {
      "text/plain": [
       "ind_ahor_fin_ult1    0\n",
       "ind_aval_fin_ult1    0\n",
       "ind_cco_fin_ult1     0\n",
       "ind_cder_fin_ult1    0\n",
       "ind_cno_fin_ult1     0\n",
       "ind_ctju_fin_ult1    0\n",
       "ind_ctma_fin_ult1    0\n",
       "ind_ctop_fin_ult1    0\n",
       "ind_ctpp_fin_ult1    0\n",
       "ind_deco_fin_ult1    0\n",
       "ind_deme_fin_ult1    0\n",
       "ind_dela_fin_ult1    0\n",
       "ind_ecue_fin_ult1    0\n",
       "ind_fond_fin_ult1    0\n",
       "ind_hip_fin_ult1     0\n",
       "ind_plan_fin_ult1    0\n",
       "ind_pres_fin_ult1    0\n",
       "ind_reca_fin_ult1    0\n",
       "ind_tjcr_fin_ult1    0\n",
       "ind_valo_fin_ult1    0\n",
       "ind_viv_fin_ult1     0\n",
       "ind_nomina_ult1      0\n",
       "ind_nom_pens_ult1    0\n",
       "ind_recibo_ult1      0\n",
       "ncodpers             0\n",
       "dtype: int64"
      ]
     },
     "execution_count": 165,
     "metadata": {},
     "output_type": "execute_result"
    }
   ],
   "source": [
    "test_May16_pro[col].isnull().sum()"
   ]
  },
  {
   "cell_type": "code",
   "execution_count": 148,
   "metadata": {
    "collapsed": true
   },
   "outputs": [],
   "source": [
    "new_each_month[5] = pd.read_csv(root + '/lag_June15.csv')"
   ]
  },
  {
   "cell_type": "code",
   "execution_count": 150,
   "metadata": {
    "scrolled": true
   },
   "outputs": [
    {
     "data": {
      "text/plain": [
       "95"
      ]
     },
     "execution_count": 150,
     "metadata": {},
     "output_type": "execute_result"
    }
   ],
   "source": [
    "len(new_each_month[1].columns)"
   ]
  },
  {
   "cell_type": "code",
   "execution_count": 185,
   "metadata": {},
   "outputs": [
    {
     "data": {
      "text/plain": [
       "Index([u'ind_cco_fin_ult1', u'ind_cder_fin_ult1', u'ind_cno_fin_ult1',\n",
       "       u'ind_ctju_fin_ult1', u'ind_ctma_fin_ult1', u'ind_ctop_fin_ult1',\n",
       "       u'ind_ctpp_fin_ult1', u'ind_dela_fin_ult1', u'ind_ecue_fin_ult1',\n",
       "       u'ind_fond_fin_ult1', u'ind_hip_fin_ult1', u'ind_nom_pens_ult1',\n",
       "       u'ind_nomina_ult1', u'ind_plan_fin_ult1', u'ind_pres_fin_ult1',\n",
       "       u'ind_reca_fin_ult1', u'ind_recibo_ult1', u'ind_tjcr_fin_ult1',\n",
       "       u'ind_valo_fin_ult1', u'ind_viv_fin_ult1', u'ind_ahor_fin_ult1',\n",
       "       u'ind_aval_fin_ult1'],\n",
       "      dtype='object')"
      ]
     },
     "execution_count": 185,
     "metadata": {},
     "output_type": "execute_result"
    }
   ],
   "source": [
    "new_each_month[15].columns[new_each_month[15].columns.isin(all_product)]"
   ]
  },
  {
   "cell_type": "markdown",
   "metadata": {
    "collapsed": true
   },
   "source": [
    "#### card information"
   ]
  },
  {
   "cell_type": "code",
   "execution_count": 4,
   "metadata": {
    "collapsed": true
   },
   "outputs": [],
   "source": [
    "all_product = ['ind_ahor_fin_ult1',\n",
    " 'ind_aval_fin_ult1',\n",
    " 'ind_cco_fin_ult1',\n",
    " 'ind_cder_fin_ult1',\n",
    " 'ind_cno_fin_ult1',\n",
    " 'ind_ctju_fin_ult1',\n",
    " 'ind_ctma_fin_ult1',\n",
    " 'ind_ctop_fin_ult1',\n",
    " 'ind_ctpp_fin_ult1',\n",
    " 'ind_deco_fin_ult1',\n",
    " 'ind_deme_fin_ult1',\n",
    " 'ind_dela_fin_ult1',\n",
    " 'ind_ecue_fin_ult1',\n",
    " 'ind_fond_fin_ult1',\n",
    " 'ind_hip_fin_ult1',\n",
    " 'ind_plan_fin_ult1',\n",
    " 'ind_pres_fin_ult1',\n",
    " 'ind_reca_fin_ult1',\n",
    " 'ind_tjcr_fin_ult1',\n",
    " 'ind_valo_fin_ult1',\n",
    " 'ind_viv_fin_ult1',\n",
    " 'ind_nomina_ult1',\n",
    " 'ind_nom_pens_ult1',\n",
    " 'ind_recibo_ult1']"
   ]
  },
  {
   "cell_type": "code",
   "execution_count": 191,
   "metadata": {
    "collapsed": true
   },
   "outputs": [],
   "source": [
    "Feb_05_newcard = new_each_month[1].set_index('ncodpers')[product].sum(axis = 0)\n",
    "month_summary = pd.DataFrame(Feb_05_newcard)\n",
    "month_summary.columns = ['Feb-05_new_number']\n",
    "month_summary.reset_index(inplace = True)\n",
    "for index in range(2, len(month)):\n",
    "    pro = new_each_month[index].columns[new_each_month[index].columns.isin(product)]\n",
    "    month_newcard = new_each_month[index].set_index('ncodpers')[pro].sum(axis = 0)\n",
    "    card_summary = pd.DataFrame(month_newcard)\n",
    "    card_summary.columns = [month_name[index] + '_new_number']\n",
    "    card_summary.reset_index(inplace = True)\n",
    "    month_summary = pd.merge(month_summary, card_summary,  on = 'index', how = 'left')"
   ]
  },
  {
   "cell_type": "code",
   "execution_count": 193,
   "metadata": {
    "collapsed": true
   },
   "outputs": [],
   "source": [
    "month_summary.to_csv(root + 'new_month_summary.csv', index = False)"
   ]
  },
  {
   "cell_type": "code",
   "execution_count": null,
   "metadata": {
    "collapsed": true
   },
   "outputs": [],
   "source": []
  }
 ],
 "metadata": {
  "kernelspec": {
   "display_name": "Python 3",
   "language": "python",
   "name": "python3"
  },
  "language_info": {
   "codemirror_mode": {
    "name": "ipython",
    "version": 3
   },
   "file_extension": ".py",
   "mimetype": "text/x-python",
   "name": "python",
   "nbconvert_exporter": "python",
   "pygments_lexer": "ipython3",
   "version": "3.6.5"
  }
 },
 "nbformat": 4,
 "nbformat_minor": 2
}
